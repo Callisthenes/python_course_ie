{
  "cells": [
    {
      "cell_type": "markdown",
      "metadata": {
        "id": "view-in-github",
        "colab_type": "text"
      },
      "source": [
        "<a href=\"https://colab.research.google.com/github/Callisthenes/python_course_ie/blob/main/Python_class_session_3.ipynb\" target=\"_parent\"><img src=\"https://colab.research.google.com/assets/colab-badge.svg\" alt=\"Open In Colab\"/></a>"
      ]
    },
    {
      "cell_type": "markdown",
      "source": [
        "# Functions\n",
        "\n",
        "Ever wondered if there is a simple way of doing things when you have to write the same chunk of code over and over again to do a repetitive job?\n",
        "\n",
        "Python's functions are meant to simplify programs and code"
      ],
      "metadata": {
        "id": "VN4Gq4AWRzeA"
      }
    },
    {
      "cell_type": "markdown",
      "source": [
        "## Example 1: A prompt with an empty function"
      ],
      "metadata": {
        "id": "j3l2HwlsSmp1"
      }
    },
    {
      "cell_type": "code",
      "source": [
        "#Defining our first empty function (no arguments)\n",
        "def hello_world():\n",
        "  \"\"\"A nice explanation of what your function does goes here\"\"\"\n",
        "  print (\"hello world... again\")"
      ],
      "metadata": {
        "id": "dzx0YWQmHVnR"
      },
      "execution_count": 32,
      "outputs": []
    },
    {
      "cell_type": "code",
      "source": [
        "#notice if we don´t put parenthesis, we get the information about the object!\n",
        "hello_world"
      ],
      "metadata": {
        "colab": {
          "base_uri": "https://localhost:8080/"
        },
        "id": "4mER9ZrFTlxD",
        "outputId": "ff8c52ec-04c3-4c5a-a51d-f66ce7847be5"
      },
      "execution_count": 33,
      "outputs": [
        {
          "output_type": "execute_result",
          "data": {
            "text/plain": [
              "<function __main__.hello_world()>"
            ]
          },
          "metadata": {},
          "execution_count": 33
        }
      ]
    },
    {
      "cell_type": "code",
      "source": [
        "#the simplest funtion you can do, no parameters\n",
        "hello_world()"
      ],
      "metadata": {
        "colab": {
          "base_uri": "https://localhost:8080/"
        },
        "id": "ZUQMb0ukTrhP",
        "outputId": "7a49e3fd-37f9-483c-992f-df69a9234b57"
      },
      "execution_count": 34,
      "outputs": [
        {
          "output_type": "stream",
          "name": "stdout",
          "text": [
            "hello world... again\n"
          ]
        }
      ]
    },
    {
      "cell_type": "markdown",
      "source": [
        "## Example 2: Parsing information to the function"
      ],
      "metadata": {
        "id": "SLxR3RgJVJjH"
      }
    },
    {
      "cell_type": "code",
      "source": [
        "# first we create the function\n",
        "def welcome_user(user):\n",
        "  \"\"\"Welcomes a user by its name\"\"\"\n",
        "  print(f\"Welcome {user} to my first function with one argument!\")\n",
        "\n"
      ],
      "metadata": {
        "id": "oxPbUuTeUnV_"
      },
      "execution_count": 35,
      "outputs": []
    },
    {
      "cell_type": "code",
      "source": [
        "#now we use the function, notice we have to put the parameters\n",
        "welcome_user(\"Pedro\")"
      ],
      "metadata": {
        "colab": {
          "base_uri": "https://localhost:8080/"
        },
        "id": "dAXKnGyDVFs6",
        "outputId": "3282848b-2523-415d-ed2c-e16194c17365"
      },
      "execution_count": 36,
      "outputs": [
        {
          "output_type": "stream",
          "name": "stdout",
          "text": [
            "Welcome Pedro to my first function with one argument!\n"
          ]
        }
      ]
    },
    {
      "cell_type": "code",
      "source": [
        "#a function with three parameters\n",
        "\n",
        "def full_introduction(name, age, country):\n",
        "  \"\"\"Gives a full intro like on session 1\"\"\"\n",
        "  print(f\"Hi! \\nMy name is {name}, I am {age} and I come from {country}\")\n",
        "  print(\"Nice to meet you all\")\n"
      ],
      "metadata": {
        "id": "KxV0nz_MVxkW"
      },
      "execution_count": 37,
      "outputs": []
    },
    {
      "cell_type": "code",
      "source": [
        "# more info about our object\n",
        "full_introduction"
      ],
      "metadata": {
        "colab": {
          "base_uri": "https://localhost:8080/"
        },
        "id": "jforTtewW71A",
        "outputId": "6f4febd1-7c7f-4692-c3d6-48dfd8c70fc0"
      },
      "execution_count": 38,
      "outputs": [
        {
          "output_type": "execute_result",
          "data": {
            "text/plain": [
              "<function __main__.full_introduction(name, age, country)>"
            ]
          },
          "metadata": {},
          "execution_count": 38
        }
      ]
    },
    {
      "cell_type": "code",
      "source": [
        "# we use the function following the order\n",
        "full_introduction (\"Pedro\", \"32\", \"Spain\")"
      ],
      "metadata": {
        "colab": {
          "base_uri": "https://localhost:8080/"
        },
        "id": "LlNnZa9VW9x9",
        "outputId": "4f9b9763-4d43-4e36-bac1-3353f075e900"
      },
      "execution_count": 40,
      "outputs": [
        {
          "output_type": "stream",
          "name": "stdout",
          "text": [
            "Hi! \n",
            "My name is Pedro, I am 32 and I come from Spain\n",
            "Nice to meet you all\n"
          ]
        }
      ]
    },
    {
      "cell_type": "code",
      "source": [
        "#doesnt seem right... can we fix this if we dont remember the order?\n",
        "full_introduction (\"32\", \"Spain\", \"Pedro\")"
      ],
      "metadata": {
        "colab": {
          "base_uri": "https://localhost:8080/"
        },
        "id": "VBsCa2_hkoEz",
        "outputId": "65c990a3-b523-4ec8-c668-ae3567cd96ef"
      },
      "execution_count": 41,
      "outputs": [
        {
          "output_type": "stream",
          "name": "stdout",
          "text": [
            "Hi! \n",
            "My name is 32, I am Spain and I come from Pedro\n",
            "Nice to meet you all\n"
          ]
        }
      ]
    },
    {
      "cell_type": "code",
      "source": [
        "full_introduction (age= \"32\", country = \"Spain\", name = \"Pedro\")"
      ],
      "metadata": {
        "colab": {
          "base_uri": "https://localhost:8080/"
        },
        "id": "dwWxgNUGk3De",
        "outputId": "080649bb-64a3-4db1-de19-1d8c985f2300"
      },
      "execution_count": 42,
      "outputs": [
        {
          "output_type": "stream",
          "name": "stdout",
          "text": [
            "Hi! \n",
            "My name is Pedro, I am 32 and I come from Spain\n",
            "Nice to meet you all\n"
          ]
        }
      ]
    },
    {
      "cell_type": "markdown",
      "source": [
        "## Remember the miles to kilometre conversor? Try it with a function!"
      ],
      "metadata": {
        "id": "CzPhjY4aXVZS"
      }
    },
    {
      "cell_type": "code",
      "source": [
        "def miles_to_kilometres (miles):\n",
        "  \"\"\"Input miles, output kilometers\"\"\"\n",
        "  kilometres = miles * 1.6\n",
        "  print (f\"{miles} miles are equivalent to {kilometres} kilometres\")\n"
      ],
      "metadata": {
        "id": "RkXdwKVxXG1a"
      },
      "execution_count": 43,
      "outputs": []
    },
    {
      "cell_type": "code",
      "source": [
        "miles_to_kilometres (500)"
      ],
      "metadata": {
        "colab": {
          "base_uri": "https://localhost:8080/"
        },
        "id": "_lOkY1aMYHkK",
        "outputId": "31799b3f-cfbf-4d57-b957-12b4a81d65c7"
      },
      "execution_count": null,
      "outputs": [
        {
          "output_type": "stream",
          "name": "stdout",
          "text": [
            "500 miles are equivalent to 800.0 kilometres\n"
          ]
        }
      ]
    },
    {
      "cell_type": "markdown",
      "source": [
        "## From the book: Make a dictionary with data from a person\n"
      ],
      "metadata": {
        "id": "26qMN7RsYmAo"
      }
    },
    {
      "cell_type": "code",
      "source": [
        "# here we have a function with an optional parameter\n",
        "def build_person(first_name, last_name, age = None):\n",
        "    \"\"\"Return a dictionary of information about a person.\"\"\"\n",
        "    person = {'first': first_name.title(), 'last': last_name.title()}\n",
        "    if age:\n",
        "        person['age'] = age\n",
        "    return person\n",
        "\n",
        "# We will get more in depth with data structures in session 4\n",
        "# The return statement is used with objects, we now have a dictionary and...\n",
        "# ... we want to show its contents right after the end of the function"
      ],
      "metadata": {
        "id": "e7lpeybUYRIi"
      },
      "execution_count": 45,
      "outputs": []
    },
    {
      "cell_type": "code",
      "source": [
        "musician = build_person('jimi', 'hendrix', age=27)\n",
        "musician"
      ],
      "metadata": {
        "colab": {
          "base_uri": "https://localhost:8080/"
        },
        "id": "zaasq4KeY5Pq",
        "outputId": "71678bd0-0594-424c-f52f-7c79db59a466"
      },
      "execution_count": 46,
      "outputs": [
        {
          "output_type": "execute_result",
          "data": {
            "text/plain": [
              "{'first': 'Jimi', 'last': 'Hendrix', 'age': 27}"
            ]
          },
          "metadata": {},
          "execution_count": 46
        }
      ]
    },
    {
      "cell_type": "code",
      "source": [
        "type(musician)"
      ],
      "metadata": {
        "colab": {
          "base_uri": "https://localhost:8080/"
        },
        "id": "fC24zrYaZOyn",
        "outputId": "92bbbda4-321d-428f-910f-86f6a3769642"
      },
      "execution_count": null,
      "outputs": [
        {
          "output_type": "execute_result",
          "data": {
            "text/plain": [
              "dict"
            ]
          },
          "metadata": {},
          "execution_count": 38
        }
      ]
    },
    {
      "cell_type": "code",
      "source": [
        "industrialist = build_person('henry', 'ford')\n",
        "industrialist"
      ],
      "metadata": {
        "colab": {
          "base_uri": "https://localhost:8080/"
        },
        "id": "UQam63wjZUvP",
        "outputId": "e8496207-727f-4a3d-e975-7e17161dc47e"
      },
      "execution_count": null,
      "outputs": [
        {
          "output_type": "execute_result",
          "data": {
            "text/plain": [
              "{'first': 'Henry', 'last': 'Ford'}"
            ]
          },
          "metadata": {},
          "execution_count": 45
        }
      ]
    },
    {
      "cell_type": "code",
      "source": [
        "print (industrialist.keys())"
      ],
      "metadata": {
        "colab": {
          "base_uri": "https://localhost:8080/"
        },
        "id": "QQdfdjkIZ8Lk",
        "outputId": "76ae4f16-a39b-4fc3-d0d9-0d9383d5dd78"
      },
      "execution_count": null,
      "outputs": [
        {
          "output_type": "stream",
          "name": "stdout",
          "text": [
            "dict_keys(['first', 'last'])\n"
          ]
        }
      ]
    },
    {
      "cell_type": "code",
      "source": [
        "industrialist.values()"
      ],
      "metadata": {
        "colab": {
          "base_uri": "https://localhost:8080/"
        },
        "id": "rDq0bjnnaLKB",
        "outputId": "3501c2ca-977e-41de-d519-cbc57f0ce677"
      },
      "execution_count": null,
      "outputs": [
        {
          "output_type": "execute_result",
          "data": {
            "text/plain": [
              "dict_values(['Henry', 'Ford'])"
            ]
          },
          "metadata": {},
          "execution_count": 61
        }
      ]
    },
    {
      "cell_type": "code",
      "source": [
        "# how does it look on a real programme?\n",
        "\n",
        "# https://github.com/Callisthenes/sherlock/blob/master/sherlock/sherlock.py"
      ],
      "metadata": {
        "id": "XXxY0YQybQbc"
      },
      "execution_count": null,
      "outputs": []
    },
    {
      "cell_type": "code",
      "source": [
        "# Is this function ok?\n",
        "\n",
        "def function (x=0):\n",
        "  return x"
      ],
      "metadata": {
        "id": "hC8Xyu93fAx6"
      },
      "execution_count": 49,
      "outputs": []
    },
    {
      "cell_type": "code",
      "source": [
        "function(99,x=9)"
      ],
      "metadata": {
        "colab": {
          "base_uri": "https://localhost:8080/",
          "height": 167
        },
        "id": "eBzuL2M9iL4e",
        "outputId": "c6da8472-6b92-4da2-b167-2677088e2f95"
      },
      "execution_count": 54,
      "outputs": [
        {
          "output_type": "error",
          "ename": "TypeError",
          "evalue": "ignored",
          "traceback": [
            "\u001b[0;31m---------------------------------------------------------------------------\u001b[0m",
            "\u001b[0;31mTypeError\u001b[0m                                 Traceback (most recent call last)",
            "\u001b[0;32m<ipython-input-54-3d4ae928fb83>\u001b[0m in \u001b[0;36m<module>\u001b[0;34m\u001b[0m\n\u001b[0;32m----> 1\u001b[0;31m \u001b[0mfunction\u001b[0m\u001b[0;34m(\u001b[0m\u001b[0;36m99\u001b[0m\u001b[0;34m,\u001b[0m\u001b[0mx\u001b[0m\u001b[0;34m=\u001b[0m\u001b[0;36m9\u001b[0m\u001b[0;34m)\u001b[0m\u001b[0;34m\u001b[0m\u001b[0;34m\u001b[0m\u001b[0m\n\u001b[0m",
            "\u001b[0;31mTypeError\u001b[0m: function() got multiple values for argument 'x'"
          ]
        }
      ]
    },
    {
      "cell_type": "markdown",
      "source": [
        "# Functions for mathematical formulas"
      ],
      "metadata": {
        "id": "MAI_5i14mDb1"
      }
    },
    {
      "cell_type": "code",
      "source": [
        "#what is the output of the following snippet?\n",
        "\n",
        "def fun(x,y,z):\n",
        "  return x+2 *y+3 *z\n"
      ],
      "metadata": {
        "id": "RtA7Vkp_iN2V"
      },
      "execution_count": 55,
      "outputs": []
    },
    {
      "cell_type": "code",
      "source": [
        "print(fun(0,3,1))"
      ],
      "metadata": {
        "colab": {
          "base_uri": "https://localhost:8080/"
        },
        "id": "b3xNFNODijcU",
        "outputId": "4e61960f-5153-4a49-c771-ae54f1909494"
      },
      "execution_count": 56,
      "outputs": [
        {
          "output_type": "stream",
          "name": "stdout",
          "text": [
            "9\n"
          ]
        }
      ]
    },
    {
      "cell_type": "code",
      "source": [
        "fun(0,3,1)"
      ],
      "metadata": {
        "colab": {
          "base_uri": "https://localhost:8080/"
        },
        "id": "2T56stz5inWd",
        "outputId": "7a916f13-da45-4fc6-d788-d1bc53aed800"
      },
      "execution_count": null,
      "outputs": [
        {
          "output_type": "execute_result",
          "data": {
            "text/plain": [
              "9"
            ]
          },
          "metadata": {},
          "execution_count": 6
        }
      ]
    },
    {
      "cell_type": "markdown",
      "source": [
        "# Building social media profile\n"
      ],
      "metadata": {
        "id": "DszOrUh7ldV9"
      }
    },
    {
      "cell_type": "code",
      "source": [
        "def build_profile(first, last, **user_info):\n",
        "    \"\"\"Build a dictionary containing everything we know about a user.\"\"\"\n",
        "    user_info['first_name'] = first\n",
        "    user_info['last_name'] = last\n",
        "    return user_info\n",
        "\n"
      ],
      "metadata": {
        "id": "iBHVdZMPiqLM"
      },
      "execution_count": 57,
      "outputs": []
    },
    {
      "cell_type": "code",
      "source": [
        "user_profile = build_profile('pedro', 'esteban',\n",
        "                             location='madrid',\n",
        "                             field='big data')\n",
        "print(user_profile)"
      ],
      "metadata": {
        "colab": {
          "base_uri": "https://localhost:8080/"
        },
        "id": "x9hs2g_elpLl",
        "outputId": "717fec3c-207e-467b-ce0b-4799bde192c2"
      },
      "execution_count": 58,
      "outputs": [
        {
          "output_type": "stream",
          "name": "stdout",
          "text": [
            "{'location': 'madrid', 'field': 'big data', 'first_name': 'pedro', 'last_name': 'esteban'}\n"
          ]
        }
      ]
    },
    {
      "cell_type": "code",
      "source": [
        "#using lists in functions\n",
        "def strange_list_fun(n):\n",
        "    strange_list = []\n",
        "    \n",
        "    for i in range(0, n):\n",
        "        strange_list.insert(0, i)\n",
        "    \n",
        "    return strange_list\n",
        "\n",
        "print(strange_list_fun(5))\n",
        "\n",
        "# here we provide a numberthat would serve as a range delimitor\n",
        "#we also create an epty list that we will populate\n",
        "# we do a for loop using a range method\n",
        "# we insert the iterations through the range in our list\n",
        "# we return the list"
      ],
      "metadata": {
        "colab": {
          "base_uri": "https://localhost:8080/"
        },
        "id": "2Jlyb0holpt9",
        "outputId": "9b1da185-c963-497a-d5c3-ab5e8b41c2bc"
      },
      "execution_count": 60,
      "outputs": [
        {
          "output_type": "stream",
          "name": "stdout",
          "text": [
            "[4, 3, 2, 1, 0]\n"
          ]
        }
      ]
    },
    {
      "cell_type": "code",
      "source": [
        "def create_list(n):\n",
        "    my_list = []\n",
        "    for i in range(n):\n",
        "        my_list.append(i)\n",
        "    return my_list\n",
        "\n",
        "print(create_list(5))\n",
        "\n"
      ],
      "metadata": {
        "id": "A0AEEmRho_jC",
        "colab": {
          "base_uri": "https://localhost:8080/"
        },
        "outputId": "3a8df4df-af0c-4ebe-ebcf-17a6ac307e7d"
      },
      "execution_count": 3,
      "outputs": [
        {
          "output_type": "stream",
          "name": "stdout",
          "text": [
            "[0, 1, 2, 3, 4]\n"
          ]
        }
      ]
    },
    {
      "cell_type": "markdown",
      "source": [
        "# Parsing arguments to a function"
      ],
      "metadata": {
        "id": "kLvCgzyvmv8A"
      }
    },
    {
      "cell_type": "code",
      "source": [
        "# first we create a list of names\n",
        "list_of_names = [\"Pedro\", 'Marcos', 'Ana', 'Lucia', 'Eva', 'Marisol', 'Eduardo']"
      ],
      "metadata": {
        "id": "L2RorCracGzN"
      },
      "execution_count": 61,
      "outputs": []
    },
    {
      "cell_type": "code",
      "source": [
        "# we create a function that will iterate through that list (we parse the argument)\n",
        "def hi_everybody(my_list):\n",
        "    for name in my_list:\n",
        "        print(\"Hi,\", name)\n",
        "\n"
      ],
      "metadata": {
        "id": "IlJo2RUhbsTp"
      },
      "execution_count": 62,
      "outputs": []
    },
    {
      "cell_type": "code",
      "source": [
        "hi_everybody (list_of_names)"
      ],
      "metadata": {
        "colab": {
          "base_uri": "https://localhost:8080/"
        },
        "id": "bJc7ZYZlcWal",
        "outputId": "4d5dd6aa-1e69-45fc-f116-b93cf41dc894"
      },
      "execution_count": 6,
      "outputs": [
        {
          "output_type": "stream",
          "name": "stdout",
          "text": [
            "Hi, Pedro\n",
            "Hi, Marcos\n",
            "Hi, Ana\n",
            "Hi, Lucia\n",
            "Hi, Eva\n",
            "Hi, Marisol\n",
            "Hi, Eduardo\n"
          ]
        }
      ]
    },
    {
      "cell_type": "markdown",
      "source": [
        "# The concept of global variables, vs local variables in functions"
      ],
      "metadata": {
        "id": "Coa-pCFUm91O"
      }
    },
    {
      "cell_type": "code",
      "source": [
        "#Using the method global, we make our local variable avaible out of the function\n",
        "\n",
        "def my_function():\n",
        "    global var\n",
        "    var = 2\n",
        "    print(\"Do I know that variable?\", var)\n",
        "\n",
        "\n",
        "\n"
      ],
      "metadata": {
        "id": "zUCKhvZKcacU"
      },
      "execution_count": 63,
      "outputs": []
    },
    {
      "cell_type": "code",
      "source": [
        "var = 1\n",
        "my_function()\n",
        "print(var)"
      ],
      "metadata": {
        "colab": {
          "base_uri": "https://localhost:8080/"
        },
        "id": "46C2bBWlcrhD",
        "outputId": "ebb7ee4a-a1a7-476d-a1dd-5b779ce9dfb6"
      },
      "execution_count": 64,
      "outputs": [
        {
          "output_type": "stream",
          "name": "stdout",
          "text": [
            "Do I know that variable? 2\n",
            "2\n"
          ]
        }
      ]
    },
    {
      "cell_type": "markdown",
      "source": [
        "# More examples, how to calculate body mass index"
      ],
      "metadata": {
        "id": "oRitNf0CnOgk"
      }
    },
    {
      "cell_type": "code",
      "source": [
        "def bmi(weight, height):\n",
        "    return weight / height ** 2\n",
        "\n",
        "\n",
        "print(bmi(52.5, 1.65))\n"
      ],
      "metadata": {
        "colab": {
          "base_uri": "https://localhost:8080/"
        },
        "id": "WlCi5950csNQ",
        "outputId": "8ceb648e-ceb8-4ce6-d23f-bd4bf1639dc2"
      },
      "execution_count": 10,
      "outputs": [
        {
          "output_type": "stream",
          "name": "stdout",
          "text": [
            "19.283746556473833\n"
          ]
        }
      ]
    },
    {
      "cell_type": "code",
      "source": [
        "bmi (75,1.70)\n"
      ],
      "metadata": {
        "colab": {
          "base_uri": "https://localhost:8080/"
        },
        "id": "fwQirJlbdCSV",
        "outputId": "6d1f3beb-7f1c-4988-fc83-2480a5b02903"
      },
      "execution_count": 12,
      "outputs": [
        {
          "output_type": "execute_result",
          "data": {
            "text/plain": [
              "25.95155709342561"
            ]
          },
          "metadata": {},
          "execution_count": 12
        }
      ]
    },
    {
      "cell_type": "code",
      "source": [
        "def count_words(filename):\n",
        "    \"\"\"Count the approximate number of words in a file.\"\"\"\n",
        "    try:\n",
        "        with open(filename, encoding='utf-8') as f:\n",
        "            contents = f.read()\n",
        "    except FileNotFoundError:\n",
        "        pass\n",
        "    else:\n",
        "        words = contents.split()\n",
        "        num_words = len(words)\n",
        "        print(f\"The file {filename} has about {num_words} words.\")\n",
        "\n",
        "filenames = ['alice.txt', 'siddhartha.txt', 'moby_dick.txt', 'little_women.txt']\n",
        "for filename in filenames:\n",
        "    count_words(filename)"
      ],
      "metadata": {
        "id": "ESE2buUcdeuX"
      },
      "execution_count": 16,
      "outputs": []
    },
    {
      "cell_type": "code",
      "source": [
        "count_words (\"moby_dick.txt\")"
      ],
      "metadata": {
        "colab": {
          "base_uri": "https://localhost:8080/"
        },
        "id": "ni-SaJk1hg0I",
        "outputId": "6ab9955f-287e-4ce1-84e3-d79b26b65d01"
      },
      "execution_count": 17,
      "outputs": [
        {
          "output_type": "stream",
          "name": "stdout",
          "text": [
            "The file moby_dick.txt has about 215830 words.\n"
          ]
        }
      ]
    },
    {
      "cell_type": "code",
      "source": [
        "def make_pizza(size, *toppings):\n",
        "    \"\"\"Summarize the pizza we are about to make.\"\"\"\n",
        "    print(f\"\\nMaking a {size}-inch pizza with the following toppings:\")\n",
        "    for topping in toppings:\n",
        "        print(f\"- {topping}\")"
      ],
      "metadata": {
        "id": "fYThdWGEi5Cm"
      },
      "execution_count": 27,
      "outputs": []
    },
    {
      "cell_type": "code",
      "source": [
        "topping_list = ['pepperoni', \"cheese\", \"ham\", \"onion\"]"
      ],
      "metadata": {
        "id": "2pI_di-QjtVY"
      },
      "execution_count": 29,
      "outputs": []
    },
    {
      "cell_type": "code",
      "source": [
        "make_pizza (80, topping_list )"
      ],
      "metadata": {
        "colab": {
          "base_uri": "https://localhost:8080/"
        },
        "id": "R-sKpEDAjP38",
        "outputId": "39244f25-fe15-4ab5-e0bf-2d0b6a353936"
      },
      "execution_count": 30,
      "outputs": [
        {
          "output_type": "stream",
          "name": "stdout",
          "text": [
            "\n",
            "Making a 80-inch pizza with the following toppings:\n",
            "- ['pepperoni', 'cheese', 'ham', 'onion']\n"
          ]
        }
      ]
    },
    {
      "cell_type": "code",
      "source": [],
      "metadata": {
        "id": "FoHDPMRPjeFv"
      },
      "execution_count": null,
      "outputs": []
    }
  ],
  "metadata": {
    "colab": {
      "provenance": [],
      "collapsed_sections": [],
      "authorship_tag": "ABX9TyOxsbQhnEKmppqKe+5VMqEX",
      "include_colab_link": true
    },
    "kernelspec": {
      "display_name": "Python 3",
      "name": "python3"
    },
    "language_info": {
      "name": "python"
    }
  },
  "nbformat": 4,
  "nbformat_minor": 0
}