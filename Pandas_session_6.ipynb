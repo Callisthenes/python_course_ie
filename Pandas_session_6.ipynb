{
  "nbformat": 4,
  "nbformat_minor": 0,
  "metadata": {
    "colab": {
      "provenance": [],
      "collapsed_sections": []
    },
    "kernelspec": {
      "name": "python3",
      "display_name": "Python 3"
    },
    "language_info": {
      "name": "python"
    }
  },
  "cells": [
    {
      "cell_type": "markdown",
      "source": [
        "# Download the dataset\n",
        "\n",
        "https://github.com/Callisthenes/python_course_ie/blob/main/MFG10YearTerminationData.csv"
      ],
      "metadata": {
        "id": "H0dTxNh-1j4F"
      }
    },
    {
      "cell_type": "markdown",
      "source": [
        "# Download the cheatsheet\n",
        "\n",
        "https://pandas.pydata.org/Pandas_Cheat_Sheet.pdf"
      ],
      "metadata": {
        "id": "jGtU0pRi8jrr"
      }
    },
    {
      "cell_type": "markdown",
      "source": [
        "## Upload dataset in colab\n",
        "\n",
        "Go to the panel on the left and click in the folder, then click in upload a file and upload the file you just downloaded from github"
      ],
      "metadata": {
        "id": "7b-jGg2N2KD1"
      }
    },
    {
      "cell_type": "markdown",
      "source": [
        "# Importing the libraries for this lab"
      ],
      "metadata": {
        "id": "DpbHchYE3HrH"
      }
    },
    {
      "cell_type": "code",
      "source": [
        "import pandas as pd\n",
        "import numpy as np\n",
        "import matplotlib.pyplot as plt\n",
        "import matplotlib\n",
        "import seaborn as sns"
      ],
      "metadata": {
        "id": "aPNMEq4z3L4Z"
      },
      "execution_count": 3,
      "outputs": []
    },
    {
      "cell_type": "markdown",
      "source": [
        "# Importing with Pandas\n"
      ],
      "metadata": {
        "id": "PJL5E_s81ccb"
      }
    },
    {
      "cell_type": "code",
      "execution_count": 5,
      "metadata": {
        "id": "V1LuMSHwybeO",
        "colab": {
          "base_uri": "https://localhost:8080/",
          "height": 312
        },
        "outputId": "157a1e48-8344-44a0-e5c2-a1fdcc1dc3b1"
      },
      "outputs": [
        {
          "output_type": "error",
          "ename": "FileNotFoundError",
          "evalue": "ignored",
          "traceback": [
            "\u001b[0;31m---------------------------------------------------------------------------\u001b[0m",
            "\u001b[0;31mFileNotFoundError\u001b[0m                         Traceback (most recent call last)",
            "\u001b[0;32m<ipython-input-5-5af811782f87>\u001b[0m in \u001b[0;36m<module>\u001b[0;34m\u001b[0m\n\u001b[0;32m----> 1\u001b[0;31m \u001b[0mdf\u001b[0m \u001b[0;34m=\u001b[0m \u001b[0mpd\u001b[0m\u001b[0;34m.\u001b[0m\u001b[0mread_csv\u001b[0m \u001b[0;34m(\u001b[0m\u001b[0;34m\"MFG10YearTerminationData.csv\"\u001b[0m\u001b[0;34m)\u001b[0m\u001b[0;34m\u001b[0m\u001b[0;34m\u001b[0m\u001b[0m\n\u001b[0m",
            "\u001b[0;32m/usr/local/lib/python3.7/dist-packages/pandas/util/_decorators.py\u001b[0m in \u001b[0;36mwrapper\u001b[0;34m(*args, **kwargs)\u001b[0m\n\u001b[1;32m    309\u001b[0m                     \u001b[0mstacklevel\u001b[0m\u001b[0;34m=\u001b[0m\u001b[0mstacklevel\u001b[0m\u001b[0;34m,\u001b[0m\u001b[0;34m\u001b[0m\u001b[0;34m\u001b[0m\u001b[0m\n\u001b[1;32m    310\u001b[0m                 )\n\u001b[0;32m--> 311\u001b[0;31m             \u001b[0;32mreturn\u001b[0m \u001b[0mfunc\u001b[0m\u001b[0;34m(\u001b[0m\u001b[0;34m*\u001b[0m\u001b[0margs\u001b[0m\u001b[0;34m,\u001b[0m \u001b[0;34m**\u001b[0m\u001b[0mkwargs\u001b[0m\u001b[0;34m)\u001b[0m\u001b[0;34m\u001b[0m\u001b[0;34m\u001b[0m\u001b[0m\n\u001b[0m\u001b[1;32m    312\u001b[0m \u001b[0;34m\u001b[0m\u001b[0m\n\u001b[1;32m    313\u001b[0m         \u001b[0;32mreturn\u001b[0m \u001b[0mwrapper\u001b[0m\u001b[0;34m\u001b[0m\u001b[0;34m\u001b[0m\u001b[0m\n",
            "\u001b[0;32m/usr/local/lib/python3.7/dist-packages/pandas/io/parsers/readers.py\u001b[0m in \u001b[0;36mread_csv\u001b[0;34m(filepath_or_buffer, sep, delimiter, header, names, index_col, usecols, squeeze, prefix, mangle_dupe_cols, dtype, engine, converters, true_values, false_values, skipinitialspace, skiprows, skipfooter, nrows, na_values, keep_default_na, na_filter, verbose, skip_blank_lines, parse_dates, infer_datetime_format, keep_date_col, date_parser, dayfirst, cache_dates, iterator, chunksize, compression, thousands, decimal, lineterminator, quotechar, quoting, doublequote, escapechar, comment, encoding, encoding_errors, dialect, error_bad_lines, warn_bad_lines, on_bad_lines, delim_whitespace, low_memory, memory_map, float_precision, storage_options)\u001b[0m\n\u001b[1;32m    584\u001b[0m     \u001b[0mkwds\u001b[0m\u001b[0;34m.\u001b[0m\u001b[0mupdate\u001b[0m\u001b[0;34m(\u001b[0m\u001b[0mkwds_defaults\u001b[0m\u001b[0;34m)\u001b[0m\u001b[0;34m\u001b[0m\u001b[0;34m\u001b[0m\u001b[0m\n\u001b[1;32m    585\u001b[0m \u001b[0;34m\u001b[0m\u001b[0m\n\u001b[0;32m--> 586\u001b[0;31m     \u001b[0;32mreturn\u001b[0m \u001b[0m_read\u001b[0m\u001b[0;34m(\u001b[0m\u001b[0mfilepath_or_buffer\u001b[0m\u001b[0;34m,\u001b[0m \u001b[0mkwds\u001b[0m\u001b[0;34m)\u001b[0m\u001b[0;34m\u001b[0m\u001b[0;34m\u001b[0m\u001b[0m\n\u001b[0m\u001b[1;32m    587\u001b[0m \u001b[0;34m\u001b[0m\u001b[0m\n\u001b[1;32m    588\u001b[0m \u001b[0;34m\u001b[0m\u001b[0m\n",
            "\u001b[0;32m/usr/local/lib/python3.7/dist-packages/pandas/io/parsers/readers.py\u001b[0m in \u001b[0;36m_read\u001b[0;34m(filepath_or_buffer, kwds)\u001b[0m\n\u001b[1;32m    480\u001b[0m \u001b[0;34m\u001b[0m\u001b[0m\n\u001b[1;32m    481\u001b[0m     \u001b[0;31m# Create the parser.\u001b[0m\u001b[0;34m\u001b[0m\u001b[0;34m\u001b[0m\u001b[0;34m\u001b[0m\u001b[0m\n\u001b[0;32m--> 482\u001b[0;31m     \u001b[0mparser\u001b[0m \u001b[0;34m=\u001b[0m \u001b[0mTextFileReader\u001b[0m\u001b[0;34m(\u001b[0m\u001b[0mfilepath_or_buffer\u001b[0m\u001b[0;34m,\u001b[0m \u001b[0;34m**\u001b[0m\u001b[0mkwds\u001b[0m\u001b[0;34m)\u001b[0m\u001b[0;34m\u001b[0m\u001b[0;34m\u001b[0m\u001b[0m\n\u001b[0m\u001b[1;32m    483\u001b[0m \u001b[0;34m\u001b[0m\u001b[0m\n\u001b[1;32m    484\u001b[0m     \u001b[0;32mif\u001b[0m \u001b[0mchunksize\u001b[0m \u001b[0;32mor\u001b[0m \u001b[0miterator\u001b[0m\u001b[0;34m:\u001b[0m\u001b[0;34m\u001b[0m\u001b[0;34m\u001b[0m\u001b[0m\n",
            "\u001b[0;32m/usr/local/lib/python3.7/dist-packages/pandas/io/parsers/readers.py\u001b[0m in \u001b[0;36m__init__\u001b[0;34m(self, f, engine, **kwds)\u001b[0m\n\u001b[1;32m    809\u001b[0m             \u001b[0mself\u001b[0m\u001b[0;34m.\u001b[0m\u001b[0moptions\u001b[0m\u001b[0;34m[\u001b[0m\u001b[0;34m\"has_index_names\"\u001b[0m\u001b[0;34m]\u001b[0m \u001b[0;34m=\u001b[0m \u001b[0mkwds\u001b[0m\u001b[0;34m[\u001b[0m\u001b[0;34m\"has_index_names\"\u001b[0m\u001b[0;34m]\u001b[0m\u001b[0;34m\u001b[0m\u001b[0;34m\u001b[0m\u001b[0m\n\u001b[1;32m    810\u001b[0m \u001b[0;34m\u001b[0m\u001b[0m\n\u001b[0;32m--> 811\u001b[0;31m         \u001b[0mself\u001b[0m\u001b[0;34m.\u001b[0m\u001b[0m_engine\u001b[0m \u001b[0;34m=\u001b[0m \u001b[0mself\u001b[0m\u001b[0;34m.\u001b[0m\u001b[0m_make_engine\u001b[0m\u001b[0;34m(\u001b[0m\u001b[0mself\u001b[0m\u001b[0;34m.\u001b[0m\u001b[0mengine\u001b[0m\u001b[0;34m)\u001b[0m\u001b[0;34m\u001b[0m\u001b[0;34m\u001b[0m\u001b[0m\n\u001b[0m\u001b[1;32m    812\u001b[0m \u001b[0;34m\u001b[0m\u001b[0m\n\u001b[1;32m    813\u001b[0m     \u001b[0;32mdef\u001b[0m \u001b[0mclose\u001b[0m\u001b[0;34m(\u001b[0m\u001b[0mself\u001b[0m\u001b[0;34m)\u001b[0m\u001b[0;34m:\u001b[0m\u001b[0;34m\u001b[0m\u001b[0;34m\u001b[0m\u001b[0m\n",
            "\u001b[0;32m/usr/local/lib/python3.7/dist-packages/pandas/io/parsers/readers.py\u001b[0m in \u001b[0;36m_make_engine\u001b[0;34m(self, engine)\u001b[0m\n\u001b[1;32m   1038\u001b[0m             )\n\u001b[1;32m   1039\u001b[0m         \u001b[0;31m# error: Too many arguments for \"ParserBase\"\u001b[0m\u001b[0;34m\u001b[0m\u001b[0;34m\u001b[0m\u001b[0;34m\u001b[0m\u001b[0m\n\u001b[0;32m-> 1040\u001b[0;31m         \u001b[0;32mreturn\u001b[0m \u001b[0mmapping\u001b[0m\u001b[0;34m[\u001b[0m\u001b[0mengine\u001b[0m\u001b[0;34m]\u001b[0m\u001b[0;34m(\u001b[0m\u001b[0mself\u001b[0m\u001b[0;34m.\u001b[0m\u001b[0mf\u001b[0m\u001b[0;34m,\u001b[0m \u001b[0;34m**\u001b[0m\u001b[0mself\u001b[0m\u001b[0;34m.\u001b[0m\u001b[0moptions\u001b[0m\u001b[0;34m)\u001b[0m  \u001b[0;31m# type: ignore[call-arg]\u001b[0m\u001b[0;34m\u001b[0m\u001b[0;34m\u001b[0m\u001b[0m\n\u001b[0m\u001b[1;32m   1041\u001b[0m \u001b[0;34m\u001b[0m\u001b[0m\n\u001b[1;32m   1042\u001b[0m     \u001b[0;32mdef\u001b[0m \u001b[0m_failover_to_python\u001b[0m\u001b[0;34m(\u001b[0m\u001b[0mself\u001b[0m\u001b[0;34m)\u001b[0m\u001b[0;34m:\u001b[0m\u001b[0;34m\u001b[0m\u001b[0;34m\u001b[0m\u001b[0m\n",
            "\u001b[0;32m/usr/local/lib/python3.7/dist-packages/pandas/io/parsers/c_parser_wrapper.py\u001b[0m in \u001b[0;36m__init__\u001b[0;34m(self, src, **kwds)\u001b[0m\n\u001b[1;32m     49\u001b[0m \u001b[0;34m\u001b[0m\u001b[0m\n\u001b[1;32m     50\u001b[0m         \u001b[0;31m# open handles\u001b[0m\u001b[0;34m\u001b[0m\u001b[0;34m\u001b[0m\u001b[0;34m\u001b[0m\u001b[0m\n\u001b[0;32m---> 51\u001b[0;31m         \u001b[0mself\u001b[0m\u001b[0;34m.\u001b[0m\u001b[0m_open_handles\u001b[0m\u001b[0;34m(\u001b[0m\u001b[0msrc\u001b[0m\u001b[0;34m,\u001b[0m \u001b[0mkwds\u001b[0m\u001b[0;34m)\u001b[0m\u001b[0;34m\u001b[0m\u001b[0;34m\u001b[0m\u001b[0m\n\u001b[0m\u001b[1;32m     52\u001b[0m         \u001b[0;32massert\u001b[0m \u001b[0mself\u001b[0m\u001b[0;34m.\u001b[0m\u001b[0mhandles\u001b[0m \u001b[0;32mis\u001b[0m \u001b[0;32mnot\u001b[0m \u001b[0;32mNone\u001b[0m\u001b[0;34m\u001b[0m\u001b[0;34m\u001b[0m\u001b[0m\n\u001b[1;32m     53\u001b[0m \u001b[0;34m\u001b[0m\u001b[0m\n",
            "\u001b[0;32m/usr/local/lib/python3.7/dist-packages/pandas/io/parsers/base_parser.py\u001b[0m in \u001b[0;36m_open_handles\u001b[0;34m(self, src, kwds)\u001b[0m\n\u001b[1;32m    227\u001b[0m             \u001b[0mmemory_map\u001b[0m\u001b[0;34m=\u001b[0m\u001b[0mkwds\u001b[0m\u001b[0;34m.\u001b[0m\u001b[0mget\u001b[0m\u001b[0;34m(\u001b[0m\u001b[0;34m\"memory_map\"\u001b[0m\u001b[0;34m,\u001b[0m \u001b[0;32mFalse\u001b[0m\u001b[0;34m)\u001b[0m\u001b[0;34m,\u001b[0m\u001b[0;34m\u001b[0m\u001b[0;34m\u001b[0m\u001b[0m\n\u001b[1;32m    228\u001b[0m             \u001b[0mstorage_options\u001b[0m\u001b[0;34m=\u001b[0m\u001b[0mkwds\u001b[0m\u001b[0;34m.\u001b[0m\u001b[0mget\u001b[0m\u001b[0;34m(\u001b[0m\u001b[0;34m\"storage_options\"\u001b[0m\u001b[0;34m,\u001b[0m \u001b[0;32mNone\u001b[0m\u001b[0;34m)\u001b[0m\u001b[0;34m,\u001b[0m\u001b[0;34m\u001b[0m\u001b[0;34m\u001b[0m\u001b[0m\n\u001b[0;32m--> 229\u001b[0;31m             \u001b[0merrors\u001b[0m\u001b[0;34m=\u001b[0m\u001b[0mkwds\u001b[0m\u001b[0;34m.\u001b[0m\u001b[0mget\u001b[0m\u001b[0;34m(\u001b[0m\u001b[0;34m\"encoding_errors\"\u001b[0m\u001b[0;34m,\u001b[0m \u001b[0;34m\"strict\"\u001b[0m\u001b[0;34m)\u001b[0m\u001b[0;34m,\u001b[0m\u001b[0;34m\u001b[0m\u001b[0;34m\u001b[0m\u001b[0m\n\u001b[0m\u001b[1;32m    230\u001b[0m         )\n\u001b[1;32m    231\u001b[0m \u001b[0;34m\u001b[0m\u001b[0m\n",
            "\u001b[0;32m/usr/local/lib/python3.7/dist-packages/pandas/io/common.py\u001b[0m in \u001b[0;36mget_handle\u001b[0;34m(path_or_buf, mode, encoding, compression, memory_map, is_text, errors, storage_options)\u001b[0m\n\u001b[1;32m    705\u001b[0m                 \u001b[0mencoding\u001b[0m\u001b[0;34m=\u001b[0m\u001b[0mioargs\u001b[0m\u001b[0;34m.\u001b[0m\u001b[0mencoding\u001b[0m\u001b[0;34m,\u001b[0m\u001b[0;34m\u001b[0m\u001b[0;34m\u001b[0m\u001b[0m\n\u001b[1;32m    706\u001b[0m                 \u001b[0merrors\u001b[0m\u001b[0;34m=\u001b[0m\u001b[0merrors\u001b[0m\u001b[0;34m,\u001b[0m\u001b[0;34m\u001b[0m\u001b[0;34m\u001b[0m\u001b[0m\n\u001b[0;32m--> 707\u001b[0;31m                 \u001b[0mnewline\u001b[0m\u001b[0;34m=\u001b[0m\u001b[0;34m\"\"\u001b[0m\u001b[0;34m,\u001b[0m\u001b[0;34m\u001b[0m\u001b[0;34m\u001b[0m\u001b[0m\n\u001b[0m\u001b[1;32m    708\u001b[0m             )\n\u001b[1;32m    709\u001b[0m         \u001b[0;32melse\u001b[0m\u001b[0;34m:\u001b[0m\u001b[0;34m\u001b[0m\u001b[0;34m\u001b[0m\u001b[0m\n",
            "\u001b[0;31mFileNotFoundError\u001b[0m: [Errno 2] No such file or directory: 'MFG10YearTerminationData.csv'"
          ]
        }
      ],
      "source": [
        "df = pd.read_csv (\"MFG10YearTerminationData.csv\")"
      ]
    },
    {
      "cell_type": "markdown",
      "source": [
        "## Previewing first five rows"
      ],
      "metadata": {
        "id": "vBKPVojW3oR6"
      }
    },
    {
      "cell_type": "code",
      "source": [
        "df.head()"
      ],
      "metadata": {
        "id": "c7UXHGtk2Xfi"
      },
      "execution_count": null,
      "outputs": []
    },
    {
      "cell_type": "markdown",
      "source": [
        "## Seeing all columns"
      ],
      "metadata": {
        "id": "IEFMS_zU32bk"
      }
    },
    {
      "cell_type": "code",
      "source": [
        "df.columns"
      ],
      "metadata": {
        "colab": {
          "base_uri": "https://localhost:8080/"
        },
        "id": "tKJl3Utt35rs",
        "outputId": "ae4bfa98-0bc9-4dfa-9132-bc79f5ce0d6e"
      },
      "execution_count": null,
      "outputs": [
        {
          "output_type": "execute_result",
          "data": {
            "text/plain": [
              "Index(['EmployeeID', 'recorddate_key', 'birthdate_key', 'orighiredate_key',\n",
              "       'terminationdate_key', 'age', 'length_of_service', 'city_name',\n",
              "       'department_name', 'job_title', 'store_name', 'gender_short',\n",
              "       'gender_full', 'termreason_desc', 'termtype_desc', 'STATUS_YEAR',\n",
              "       'STATUS', 'BUSINESS_UNIT'],\n",
              "      dtype='object')"
            ]
          },
          "metadata": {},
          "execution_count": 61
        }
      ]
    },
    {
      "cell_type": "markdown",
      "source": [
        "## Types of data"
      ],
      "metadata": {
        "id": "kTuPR0Bd392A"
      }
    },
    {
      "cell_type": "code",
      "source": [
        "df.dtypes"
      ],
      "metadata": {
        "colab": {
          "base_uri": "https://localhost:8080/"
        },
        "id": "1LpdC0Cw35up",
        "outputId": "19b4bec7-2a3a-4dd1-cbe5-325b6efe57d9"
      },
      "execution_count": null,
      "outputs": [
        {
          "output_type": "execute_result",
          "data": {
            "text/plain": [
              "EmployeeID              int64\n",
              "recorddate_key         object\n",
              "birthdate_key          object\n",
              "orighiredate_key       object\n",
              "terminationdate_key    object\n",
              "age                     int64\n",
              "length_of_service       int64\n",
              "city_name              object\n",
              "department_name        object\n",
              "job_title              object\n",
              "store_name              int64\n",
              "gender_short           object\n",
              "gender_full            object\n",
              "termreason_desc        object\n",
              "termtype_desc          object\n",
              "STATUS_YEAR             int64\n",
              "STATUS                 object\n",
              "BUSINESS_UNIT          object\n",
              "dtype: object"
            ]
          },
          "metadata": {},
          "execution_count": 62
        }
      ]
    },
    {
      "cell_type": "markdown",
      "source": [
        "## Statistics"
      ],
      "metadata": {
        "id": "Jf9go3UA4Fjb"
      }
    },
    {
      "cell_type": "code",
      "source": [
        "df.shape"
      ],
      "metadata": {
        "colab": {
          "base_uri": "https://localhost:8080/"
        },
        "id": "8BegPfl56qRF",
        "outputId": "afb09b28-2519-48eb-9f36-4c5881615b0b"
      },
      "execution_count": null,
      "outputs": [
        {
          "output_type": "execute_result",
          "data": {
            "text/plain": [
              "(49653, 18)"
            ]
          },
          "metadata": {},
          "execution_count": 63
        }
      ]
    },
    {
      "cell_type": "code",
      "source": [
        "df.describe()"
      ],
      "metadata": {
        "colab": {
          "base_uri": "https://localhost:8080/",
          "height": 300
        },
        "id": "vRTnVMv338uO",
        "outputId": "5470b9c1-e075-4453-ed73-df139f20d006"
      },
      "execution_count": null,
      "outputs": [
        {
          "output_type": "execute_result",
          "data": {
            "text/plain": [
              "         EmployeeID           age  length_of_service    store_name  \\\n",
              "count  49653.000000  49653.000000       49653.000000  49653.000000   \n",
              "mean    4859.495740     42.077035          10.434596     27.297605   \n",
              "std     1826.571142     12.427257           6.325286     13.514134   \n",
              "min     1318.000000     19.000000           0.000000      1.000000   \n",
              "25%     3360.000000     31.000000           5.000000     16.000000   \n",
              "50%     5031.000000     42.000000          10.000000     28.000000   \n",
              "75%     6335.000000     53.000000          15.000000     42.000000   \n",
              "max     8336.000000     65.000000          26.000000     46.000000   \n",
              "\n",
              "        STATUS_YEAR  \n",
              "count  49653.000000  \n",
              "mean    2010.612612  \n",
              "std        2.845577  \n",
              "min     2006.000000  \n",
              "25%     2008.000000  \n",
              "50%     2011.000000  \n",
              "75%     2013.000000  \n",
              "max     2015.000000  "
            ],
            "text/html": [
              "\n",
              "  <div id=\"df-596a9cce-55cc-443b-a1ac-27f16311fd78\">\n",
              "    <div class=\"colab-df-container\">\n",
              "      <div>\n",
              "<style scoped>\n",
              "    .dataframe tbody tr th:only-of-type {\n",
              "        vertical-align: middle;\n",
              "    }\n",
              "\n",
              "    .dataframe tbody tr th {\n",
              "        vertical-align: top;\n",
              "    }\n",
              "\n",
              "    .dataframe thead th {\n",
              "        text-align: right;\n",
              "    }\n",
              "</style>\n",
              "<table border=\"1\" class=\"dataframe\">\n",
              "  <thead>\n",
              "    <tr style=\"text-align: right;\">\n",
              "      <th></th>\n",
              "      <th>EmployeeID</th>\n",
              "      <th>age</th>\n",
              "      <th>length_of_service</th>\n",
              "      <th>store_name</th>\n",
              "      <th>STATUS_YEAR</th>\n",
              "    </tr>\n",
              "  </thead>\n",
              "  <tbody>\n",
              "    <tr>\n",
              "      <th>count</th>\n",
              "      <td>49653.000000</td>\n",
              "      <td>49653.000000</td>\n",
              "      <td>49653.000000</td>\n",
              "      <td>49653.000000</td>\n",
              "      <td>49653.000000</td>\n",
              "    </tr>\n",
              "    <tr>\n",
              "      <th>mean</th>\n",
              "      <td>4859.495740</td>\n",
              "      <td>42.077035</td>\n",
              "      <td>10.434596</td>\n",
              "      <td>27.297605</td>\n",
              "      <td>2010.612612</td>\n",
              "    </tr>\n",
              "    <tr>\n",
              "      <th>std</th>\n",
              "      <td>1826.571142</td>\n",
              "      <td>12.427257</td>\n",
              "      <td>6.325286</td>\n",
              "      <td>13.514134</td>\n",
              "      <td>2.845577</td>\n",
              "    </tr>\n",
              "    <tr>\n",
              "      <th>min</th>\n",
              "      <td>1318.000000</td>\n",
              "      <td>19.000000</td>\n",
              "      <td>0.000000</td>\n",
              "      <td>1.000000</td>\n",
              "      <td>2006.000000</td>\n",
              "    </tr>\n",
              "    <tr>\n",
              "      <th>25%</th>\n",
              "      <td>3360.000000</td>\n",
              "      <td>31.000000</td>\n",
              "      <td>5.000000</td>\n",
              "      <td>16.000000</td>\n",
              "      <td>2008.000000</td>\n",
              "    </tr>\n",
              "    <tr>\n",
              "      <th>50%</th>\n",
              "      <td>5031.000000</td>\n",
              "      <td>42.000000</td>\n",
              "      <td>10.000000</td>\n",
              "      <td>28.000000</td>\n",
              "      <td>2011.000000</td>\n",
              "    </tr>\n",
              "    <tr>\n",
              "      <th>75%</th>\n",
              "      <td>6335.000000</td>\n",
              "      <td>53.000000</td>\n",
              "      <td>15.000000</td>\n",
              "      <td>42.000000</td>\n",
              "      <td>2013.000000</td>\n",
              "    </tr>\n",
              "    <tr>\n",
              "      <th>max</th>\n",
              "      <td>8336.000000</td>\n",
              "      <td>65.000000</td>\n",
              "      <td>26.000000</td>\n",
              "      <td>46.000000</td>\n",
              "      <td>2015.000000</td>\n",
              "    </tr>\n",
              "  </tbody>\n",
              "</table>\n",
              "</div>\n",
              "      <button class=\"colab-df-convert\" onclick=\"convertToInteractive('df-596a9cce-55cc-443b-a1ac-27f16311fd78')\"\n",
              "              title=\"Convert this dataframe to an interactive table.\"\n",
              "              style=\"display:none;\">\n",
              "        \n",
              "  <svg xmlns=\"http://www.w3.org/2000/svg\" height=\"24px\"viewBox=\"0 0 24 24\"\n",
              "       width=\"24px\">\n",
              "    <path d=\"M0 0h24v24H0V0z\" fill=\"none\"/>\n",
              "    <path d=\"M18.56 5.44l.94 2.06.94-2.06 2.06-.94-2.06-.94-.94-2.06-.94 2.06-2.06.94zm-11 1L8.5 8.5l.94-2.06 2.06-.94-2.06-.94L8.5 2.5l-.94 2.06-2.06.94zm10 10l.94 2.06.94-2.06 2.06-.94-2.06-.94-.94-2.06-.94 2.06-2.06.94z\"/><path d=\"M17.41 7.96l-1.37-1.37c-.4-.4-.92-.59-1.43-.59-.52 0-1.04.2-1.43.59L10.3 9.45l-7.72 7.72c-.78.78-.78 2.05 0 2.83L4 21.41c.39.39.9.59 1.41.59.51 0 1.02-.2 1.41-.59l7.78-7.78 2.81-2.81c.8-.78.8-2.07 0-2.86zM5.41 20L4 18.59l7.72-7.72 1.47 1.35L5.41 20z\"/>\n",
              "  </svg>\n",
              "      </button>\n",
              "      \n",
              "  <style>\n",
              "    .colab-df-container {\n",
              "      display:flex;\n",
              "      flex-wrap:wrap;\n",
              "      gap: 12px;\n",
              "    }\n",
              "\n",
              "    .colab-df-convert {\n",
              "      background-color: #E8F0FE;\n",
              "      border: none;\n",
              "      border-radius: 50%;\n",
              "      cursor: pointer;\n",
              "      display: none;\n",
              "      fill: #1967D2;\n",
              "      height: 32px;\n",
              "      padding: 0 0 0 0;\n",
              "      width: 32px;\n",
              "    }\n",
              "\n",
              "    .colab-df-convert:hover {\n",
              "      background-color: #E2EBFA;\n",
              "      box-shadow: 0px 1px 2px rgba(60, 64, 67, 0.3), 0px 1px 3px 1px rgba(60, 64, 67, 0.15);\n",
              "      fill: #174EA6;\n",
              "    }\n",
              "\n",
              "    [theme=dark] .colab-df-convert {\n",
              "      background-color: #3B4455;\n",
              "      fill: #D2E3FC;\n",
              "    }\n",
              "\n",
              "    [theme=dark] .colab-df-convert:hover {\n",
              "      background-color: #434B5C;\n",
              "      box-shadow: 0px 1px 3px 1px rgba(0, 0, 0, 0.15);\n",
              "      filter: drop-shadow(0px 1px 2px rgba(0, 0, 0, 0.3));\n",
              "      fill: #FFFFFF;\n",
              "    }\n",
              "  </style>\n",
              "\n",
              "      <script>\n",
              "        const buttonEl =\n",
              "          document.querySelector('#df-596a9cce-55cc-443b-a1ac-27f16311fd78 button.colab-df-convert');\n",
              "        buttonEl.style.display =\n",
              "          google.colab.kernel.accessAllowed ? 'block' : 'none';\n",
              "\n",
              "        async function convertToInteractive(key) {\n",
              "          const element = document.querySelector('#df-596a9cce-55cc-443b-a1ac-27f16311fd78');\n",
              "          const dataTable =\n",
              "            await google.colab.kernel.invokeFunction('convertToInteractive',\n",
              "                                                     [key], {});\n",
              "          if (!dataTable) return;\n",
              "\n",
              "          const docLinkHtml = 'Like what you see? Visit the ' +\n",
              "            '<a target=\"_blank\" href=https://colab.research.google.com/notebooks/data_table.ipynb>data table notebook</a>'\n",
              "            + ' to learn more about interactive tables.';\n",
              "          element.innerHTML = '';\n",
              "          dataTable['output_type'] = 'display_data';\n",
              "          await google.colab.output.renderOutput(dataTable, element);\n",
              "          const docLink = document.createElement('div');\n",
              "          docLink.innerHTML = docLinkHtml;\n",
              "          element.appendChild(docLink);\n",
              "        }\n",
              "      </script>\n",
              "    </div>\n",
              "  </div>\n",
              "  "
            ]
          },
          "metadata": {},
          "execution_count": 64
        }
      ]
    },
    {
      "cell_type": "code",
      "source": [
        "df.value_counts(\"job_title\")"
      ],
      "metadata": {
        "colab": {
          "base_uri": "https://localhost:8080/"
        },
        "id": "2dqyK3bq35w8",
        "outputId": "8b3805b4-af59-4f5b-f7e0-04301c446205"
      },
      "execution_count": null,
      "outputs": [
        {
          "output_type": "execute_result",
          "data": {
            "text/plain": [
              "job_title\n",
              "Meat Cutter                        9984\n",
              "Dairy Person                       8590\n",
              "Produce Clerk                      8237\n",
              "Baker                              8096\n",
              "Cashier                            6816\n",
              "Shelf Stocker                      5622\n",
              "Customer Service Manager            306\n",
              "Processed Foods Manager             289\n",
              "Meats Manager                       285\n",
              "Bakery Manager                      285\n",
              "Produce Manager                     278\n",
              "Store Manager                       271\n",
              "Recruiter                            62\n",
              "HRIS Analyst                         55\n",
              "Accounting Clerk                     50\n",
              "Benefits Admin                       35\n",
              "Accounts Receiveable Clerk           30\n",
              "Labor Relations Analyst              30\n",
              "Trainer                              26\n",
              "Accounts Payable Clerk               25\n",
              "Systems Analyst                      20\n",
              "Compensation Analyst                 20\n",
              "Auditor                              20\n",
              "Investment Analyst                   20\n",
              "Corporate Lawyer                     17\n",
              "Exec Assistant, VP Stores            10\n",
              "VP Finance                           10\n",
              "VP Human Resources                   10\n",
              "Legal Counsel                        10\n",
              "VP Stores                            10\n",
              "Exec Assistant, Legal Counsel        10\n",
              "Exec Assistant, Finance              10\n",
              "CEO                                  10\n",
              "Director, Recruitment                10\n",
              "CHief Information Officer            10\n",
              "Exec Assistant, Human Resources      10\n",
              "Director, Accounting                  9\n",
              "Director, HR Technology               9\n",
              "Director, Employee Records            9\n",
              "Dairy Manager                         9\n",
              "Director, Accounts Receivable         9\n",
              "Director, Accounts Payable            9\n",
              "Director, Compensation                4\n",
              "Director, Audit                       4\n",
              "Director, Investments                 4\n",
              "Director, Training                    4\n",
              "Director, Labor Relations             4\n",
              "dtype: int64"
            ]
          },
          "metadata": {},
          "execution_count": 65
        }
      ]
    },
    {
      "cell_type": "code",
      "source": [
        "#another way\n",
        "df['gender_short'].value_counts()"
      ],
      "metadata": {
        "colab": {
          "base_uri": "https://localhost:8080/"
        },
        "id": "D6d_zRIG_8RV",
        "outputId": "0c005b7f-05bd-4013-b570-7ed5a3f32fc8"
      },
      "execution_count": null,
      "outputs": [
        {
          "output_type": "execute_result",
          "data": {
            "text/plain": [
              "F    25898\n",
              "M    23755\n",
              "Name: gender_short, dtype: int64"
            ]
          },
          "metadata": {},
          "execution_count": 95
        }
      ]
    },
    {
      "cell_type": "code",
      "source": [
        "#visualizing\n",
        "\n",
        "abcd= sns.catplot(y=\"gender_short\", hue='department_name', kind=\"count\",\n",
        "            palette='rainbow_r', edgecolor=\".6\",\n",
        "            data = df)"
      ],
      "metadata": {
        "colab": {
          "base_uri": "https://localhost:8080/"
        },
        "id": "5LOQzocmDCEv",
        "outputId": "ad0d1d30-8351-4ecd-99ab-6efc7ace7521"
      },
      "execution_count": null,
      "outputs": [
        {
          "output_type": "stream",
          "name": "stderr",
          "text": [
            "/usr/local/lib/python3.7/dist-packages/seaborn/axisgrid.py:409: RuntimeWarning: More than 20 figures have been opened. Figures created through the pyplot interface (`matplotlib.pyplot.figure`) are retained until explicitly closed and may consume too much memory. (To control this warning, see the rcParam `figure.max_open_warning`).\n",
            "  fig = plt.figure(figsize=figsize)\n",
            "/usr/local/lib/python3.7/dist-packages/ipykernel_launcher.py:6: MatplotlibDeprecationWarning: Passing the block parameter of show() positionally is deprecated since Matplotlib 3.1; the parameter will become keyword-only in 3.3.\n",
            "  \n"
          ]
        }
      ]
    },
    {
      "cell_type": "markdown",
      "source": [
        "## More info"
      ],
      "metadata": {
        "id": "zcdlqMFV7ACR"
      }
    },
    {
      "cell_type": "code",
      "source": [
        "\n",
        "\n",
        "df.info()\n",
        "\n"
      ],
      "metadata": {
        "colab": {
          "base_uri": "https://localhost:8080/"
        },
        "id": "q-_TynxE7B3B",
        "outputId": "1997c423-821c-4aed-9630-458880813908"
      },
      "execution_count": null,
      "outputs": [
        {
          "output_type": "stream",
          "name": "stdout",
          "text": [
            "<class 'pandas.core.frame.DataFrame'>\n",
            "RangeIndex: 49653 entries, 0 to 49652\n",
            "Data columns (total 18 columns):\n",
            " #   Column               Non-Null Count  Dtype \n",
            "---  ------               --------------  ----- \n",
            " 0   EmployeeID           49653 non-null  int64 \n",
            " 1   recorddate_key       49653 non-null  object\n",
            " 2   birthdate_key        49653 non-null  object\n",
            " 3   orighiredate_key     49653 non-null  object\n",
            " 4   terminationdate_key  49653 non-null  object\n",
            " 5   age                  49653 non-null  int64 \n",
            " 6   length_of_service    49653 non-null  int64 \n",
            " 7   city_name            49653 non-null  object\n",
            " 8   department_name      49653 non-null  object\n",
            " 9   job_title            49653 non-null  object\n",
            " 10  store_name           49653 non-null  int64 \n",
            " 11  gender_short         49653 non-null  object\n",
            " 12  gender_full          49653 non-null  object\n",
            " 13  termreason_desc      49653 non-null  object\n",
            " 14  termtype_desc        49653 non-null  object\n",
            " 15  STATUS_YEAR          49653 non-null  int64 \n",
            " 16  STATUS               49653 non-null  object\n",
            " 17  BUSINESS_UNIT        49653 non-null  object\n",
            "dtypes: int64(5), object(13)\n",
            "memory usage: 6.8+ MB\n"
          ]
        }
      ]
    },
    {
      "cell_type": "markdown",
      "source": [
        "## Making a query"
      ],
      "metadata": {
        "id": "j_X--R0nB2-u"
      }
    },
    {
      "cell_type": "code",
      "source": [
        "\n",
        "df.loc[df['EmployeeID'] == 1319]\n",
        "\n"
      ],
      "metadata": {
        "colab": {
          "base_uri": "https://localhost:8080/",
          "height": 427
        },
        "id": "khj0r99aB3t2",
        "outputId": "c1566691-548d-41dd-80b9-8d9923527a5a"
      },
      "execution_count": null,
      "outputs": [
        {
          "output_type": "execute_result",
          "data": {
            "text/plain": [
              "    EmployeeID   recorddate_key birthdate_key orighiredate_key  \\\n",
              "10        1319  12/31/2006 0:00      1/3/1957        8/28/1989   \n",
              "11        1319  12/31/2007 0:00      1/3/1957        8/28/1989   \n",
              "12        1319  12/31/2008 0:00      1/3/1957        8/28/1989   \n",
              "13        1319  12/31/2009 0:00      1/3/1957        8/28/1989   \n",
              "14        1319  12/31/2010 0:00      1/3/1957        8/28/1989   \n",
              "15        1319  12/31/2011 0:00      1/3/1957        8/28/1989   \n",
              "16        1319  12/31/2012 0:00      1/3/1957        8/28/1989   \n",
              "17        1319  12/31/2013 0:00      1/3/1957        8/28/1989   \n",
              "18        1319  12/31/2014 0:00      1/3/1957        8/28/1989   \n",
              "19        1319  12/31/2015 0:00      1/3/1957        8/28/1989   \n",
              "\n",
              "   terminationdate_key  age  length_of_service  city_name department_name  \\\n",
              "10            1/1/1900   49                 17  Vancouver       Executive   \n",
              "11            1/1/1900   50                 18  Vancouver       Executive   \n",
              "12            1/1/1900   51                 19  Vancouver       Executive   \n",
              "13            1/1/1900   52                 20  Vancouver       Executive   \n",
              "14            1/1/1900   53                 21  Vancouver       Executive   \n",
              "15            1/1/1900   54                 22  Vancouver       Executive   \n",
              "16            1/1/1900   55                 23  Vancouver       Executive   \n",
              "17            1/1/1900   56                 24  Vancouver       Executive   \n",
              "18            1/1/1900   57                 25  Vancouver       Executive   \n",
              "19            1/1/1900   58                 26  Vancouver       Executive   \n",
              "\n",
              "    job_title  store_name gender_short gender_full termreason_desc  \\\n",
              "10  VP Stores          35            F      Female  Not Applicable   \n",
              "11  VP Stores          35            F      Female  Not Applicable   \n",
              "12  VP Stores          35            F      Female  Not Applicable   \n",
              "13  VP Stores          35            F      Female  Not Applicable   \n",
              "14  VP Stores          35            F      Female  Not Applicable   \n",
              "15  VP Stores          35            F      Female  Not Applicable   \n",
              "16  VP Stores          35            F      Female  Not Applicable   \n",
              "17  VP Stores          35            F      Female  Not Applicable   \n",
              "18  VP Stores          35            F      Female  Not Applicable   \n",
              "19  VP Stores          35            F      Female  Not Applicable   \n",
              "\n",
              "     termtype_desc  STATUS_YEAR  STATUS BUSINESS_UNIT  \n",
              "10  Not Applicable         2006  ACTIVE    HEADOFFICE  \n",
              "11  Not Applicable         2007  ACTIVE    HEADOFFICE  \n",
              "12  Not Applicable         2008  ACTIVE    HEADOFFICE  \n",
              "13  Not Applicable         2009  ACTIVE    HEADOFFICE  \n",
              "14  Not Applicable         2010  ACTIVE    HEADOFFICE  \n",
              "15  Not Applicable         2011  ACTIVE    HEADOFFICE  \n",
              "16  Not Applicable         2012  ACTIVE    HEADOFFICE  \n",
              "17  Not Applicable         2013  ACTIVE    HEADOFFICE  \n",
              "18  Not Applicable         2014  ACTIVE    HEADOFFICE  \n",
              "19  Not Applicable         2015  ACTIVE    HEADOFFICE  "
            ],
            "text/html": [
              "\n",
              "  <div id=\"df-af8f9102-8847-41e9-b411-6c1c6ad64383\">\n",
              "    <div class=\"colab-df-container\">\n",
              "      <div>\n",
              "<style scoped>\n",
              "    .dataframe tbody tr th:only-of-type {\n",
              "        vertical-align: middle;\n",
              "    }\n",
              "\n",
              "    .dataframe tbody tr th {\n",
              "        vertical-align: top;\n",
              "    }\n",
              "\n",
              "    .dataframe thead th {\n",
              "        text-align: right;\n",
              "    }\n",
              "</style>\n",
              "<table border=\"1\" class=\"dataframe\">\n",
              "  <thead>\n",
              "    <tr style=\"text-align: right;\">\n",
              "      <th></th>\n",
              "      <th>EmployeeID</th>\n",
              "      <th>recorddate_key</th>\n",
              "      <th>birthdate_key</th>\n",
              "      <th>orighiredate_key</th>\n",
              "      <th>terminationdate_key</th>\n",
              "      <th>age</th>\n",
              "      <th>length_of_service</th>\n",
              "      <th>city_name</th>\n",
              "      <th>department_name</th>\n",
              "      <th>job_title</th>\n",
              "      <th>store_name</th>\n",
              "      <th>gender_short</th>\n",
              "      <th>gender_full</th>\n",
              "      <th>termreason_desc</th>\n",
              "      <th>termtype_desc</th>\n",
              "      <th>STATUS_YEAR</th>\n",
              "      <th>STATUS</th>\n",
              "      <th>BUSINESS_UNIT</th>\n",
              "    </tr>\n",
              "  </thead>\n",
              "  <tbody>\n",
              "    <tr>\n",
              "      <th>10</th>\n",
              "      <td>1319</td>\n",
              "      <td>12/31/2006 0:00</td>\n",
              "      <td>1/3/1957</td>\n",
              "      <td>8/28/1989</td>\n",
              "      <td>1/1/1900</td>\n",
              "      <td>49</td>\n",
              "      <td>17</td>\n",
              "      <td>Vancouver</td>\n",
              "      <td>Executive</td>\n",
              "      <td>VP Stores</td>\n",
              "      <td>35</td>\n",
              "      <td>F</td>\n",
              "      <td>Female</td>\n",
              "      <td>Not Applicable</td>\n",
              "      <td>Not Applicable</td>\n",
              "      <td>2006</td>\n",
              "      <td>ACTIVE</td>\n",
              "      <td>HEADOFFICE</td>\n",
              "    </tr>\n",
              "    <tr>\n",
              "      <th>11</th>\n",
              "      <td>1319</td>\n",
              "      <td>12/31/2007 0:00</td>\n",
              "      <td>1/3/1957</td>\n",
              "      <td>8/28/1989</td>\n",
              "      <td>1/1/1900</td>\n",
              "      <td>50</td>\n",
              "      <td>18</td>\n",
              "      <td>Vancouver</td>\n",
              "      <td>Executive</td>\n",
              "      <td>VP Stores</td>\n",
              "      <td>35</td>\n",
              "      <td>F</td>\n",
              "      <td>Female</td>\n",
              "      <td>Not Applicable</td>\n",
              "      <td>Not Applicable</td>\n",
              "      <td>2007</td>\n",
              "      <td>ACTIVE</td>\n",
              "      <td>HEADOFFICE</td>\n",
              "    </tr>\n",
              "    <tr>\n",
              "      <th>12</th>\n",
              "      <td>1319</td>\n",
              "      <td>12/31/2008 0:00</td>\n",
              "      <td>1/3/1957</td>\n",
              "      <td>8/28/1989</td>\n",
              "      <td>1/1/1900</td>\n",
              "      <td>51</td>\n",
              "      <td>19</td>\n",
              "      <td>Vancouver</td>\n",
              "      <td>Executive</td>\n",
              "      <td>VP Stores</td>\n",
              "      <td>35</td>\n",
              "      <td>F</td>\n",
              "      <td>Female</td>\n",
              "      <td>Not Applicable</td>\n",
              "      <td>Not Applicable</td>\n",
              "      <td>2008</td>\n",
              "      <td>ACTIVE</td>\n",
              "      <td>HEADOFFICE</td>\n",
              "    </tr>\n",
              "    <tr>\n",
              "      <th>13</th>\n",
              "      <td>1319</td>\n",
              "      <td>12/31/2009 0:00</td>\n",
              "      <td>1/3/1957</td>\n",
              "      <td>8/28/1989</td>\n",
              "      <td>1/1/1900</td>\n",
              "      <td>52</td>\n",
              "      <td>20</td>\n",
              "      <td>Vancouver</td>\n",
              "      <td>Executive</td>\n",
              "      <td>VP Stores</td>\n",
              "      <td>35</td>\n",
              "      <td>F</td>\n",
              "      <td>Female</td>\n",
              "      <td>Not Applicable</td>\n",
              "      <td>Not Applicable</td>\n",
              "      <td>2009</td>\n",
              "      <td>ACTIVE</td>\n",
              "      <td>HEADOFFICE</td>\n",
              "    </tr>\n",
              "    <tr>\n",
              "      <th>14</th>\n",
              "      <td>1319</td>\n",
              "      <td>12/31/2010 0:00</td>\n",
              "      <td>1/3/1957</td>\n",
              "      <td>8/28/1989</td>\n",
              "      <td>1/1/1900</td>\n",
              "      <td>53</td>\n",
              "      <td>21</td>\n",
              "      <td>Vancouver</td>\n",
              "      <td>Executive</td>\n",
              "      <td>VP Stores</td>\n",
              "      <td>35</td>\n",
              "      <td>F</td>\n",
              "      <td>Female</td>\n",
              "      <td>Not Applicable</td>\n",
              "      <td>Not Applicable</td>\n",
              "      <td>2010</td>\n",
              "      <td>ACTIVE</td>\n",
              "      <td>HEADOFFICE</td>\n",
              "    </tr>\n",
              "    <tr>\n",
              "      <th>15</th>\n",
              "      <td>1319</td>\n",
              "      <td>12/31/2011 0:00</td>\n",
              "      <td>1/3/1957</td>\n",
              "      <td>8/28/1989</td>\n",
              "      <td>1/1/1900</td>\n",
              "      <td>54</td>\n",
              "      <td>22</td>\n",
              "      <td>Vancouver</td>\n",
              "      <td>Executive</td>\n",
              "      <td>VP Stores</td>\n",
              "      <td>35</td>\n",
              "      <td>F</td>\n",
              "      <td>Female</td>\n",
              "      <td>Not Applicable</td>\n",
              "      <td>Not Applicable</td>\n",
              "      <td>2011</td>\n",
              "      <td>ACTIVE</td>\n",
              "      <td>HEADOFFICE</td>\n",
              "    </tr>\n",
              "    <tr>\n",
              "      <th>16</th>\n",
              "      <td>1319</td>\n",
              "      <td>12/31/2012 0:00</td>\n",
              "      <td>1/3/1957</td>\n",
              "      <td>8/28/1989</td>\n",
              "      <td>1/1/1900</td>\n",
              "      <td>55</td>\n",
              "      <td>23</td>\n",
              "      <td>Vancouver</td>\n",
              "      <td>Executive</td>\n",
              "      <td>VP Stores</td>\n",
              "      <td>35</td>\n",
              "      <td>F</td>\n",
              "      <td>Female</td>\n",
              "      <td>Not Applicable</td>\n",
              "      <td>Not Applicable</td>\n",
              "      <td>2012</td>\n",
              "      <td>ACTIVE</td>\n",
              "      <td>HEADOFFICE</td>\n",
              "    </tr>\n",
              "    <tr>\n",
              "      <th>17</th>\n",
              "      <td>1319</td>\n",
              "      <td>12/31/2013 0:00</td>\n",
              "      <td>1/3/1957</td>\n",
              "      <td>8/28/1989</td>\n",
              "      <td>1/1/1900</td>\n",
              "      <td>56</td>\n",
              "      <td>24</td>\n",
              "      <td>Vancouver</td>\n",
              "      <td>Executive</td>\n",
              "      <td>VP Stores</td>\n",
              "      <td>35</td>\n",
              "      <td>F</td>\n",
              "      <td>Female</td>\n",
              "      <td>Not Applicable</td>\n",
              "      <td>Not Applicable</td>\n",
              "      <td>2013</td>\n",
              "      <td>ACTIVE</td>\n",
              "      <td>HEADOFFICE</td>\n",
              "    </tr>\n",
              "    <tr>\n",
              "      <th>18</th>\n",
              "      <td>1319</td>\n",
              "      <td>12/31/2014 0:00</td>\n",
              "      <td>1/3/1957</td>\n",
              "      <td>8/28/1989</td>\n",
              "      <td>1/1/1900</td>\n",
              "      <td>57</td>\n",
              "      <td>25</td>\n",
              "      <td>Vancouver</td>\n",
              "      <td>Executive</td>\n",
              "      <td>VP Stores</td>\n",
              "      <td>35</td>\n",
              "      <td>F</td>\n",
              "      <td>Female</td>\n",
              "      <td>Not Applicable</td>\n",
              "      <td>Not Applicable</td>\n",
              "      <td>2014</td>\n",
              "      <td>ACTIVE</td>\n",
              "      <td>HEADOFFICE</td>\n",
              "    </tr>\n",
              "    <tr>\n",
              "      <th>19</th>\n",
              "      <td>1319</td>\n",
              "      <td>12/31/2015 0:00</td>\n",
              "      <td>1/3/1957</td>\n",
              "      <td>8/28/1989</td>\n",
              "      <td>1/1/1900</td>\n",
              "      <td>58</td>\n",
              "      <td>26</td>\n",
              "      <td>Vancouver</td>\n",
              "      <td>Executive</td>\n",
              "      <td>VP Stores</td>\n",
              "      <td>35</td>\n",
              "      <td>F</td>\n",
              "      <td>Female</td>\n",
              "      <td>Not Applicable</td>\n",
              "      <td>Not Applicable</td>\n",
              "      <td>2015</td>\n",
              "      <td>ACTIVE</td>\n",
              "      <td>HEADOFFICE</td>\n",
              "    </tr>\n",
              "  </tbody>\n",
              "</table>\n",
              "</div>\n",
              "      <button class=\"colab-df-convert\" onclick=\"convertToInteractive('df-af8f9102-8847-41e9-b411-6c1c6ad64383')\"\n",
              "              title=\"Convert this dataframe to an interactive table.\"\n",
              "              style=\"display:none;\">\n",
              "        \n",
              "  <svg xmlns=\"http://www.w3.org/2000/svg\" height=\"24px\"viewBox=\"0 0 24 24\"\n",
              "       width=\"24px\">\n",
              "    <path d=\"M0 0h24v24H0V0z\" fill=\"none\"/>\n",
              "    <path d=\"M18.56 5.44l.94 2.06.94-2.06 2.06-.94-2.06-.94-.94-2.06-.94 2.06-2.06.94zm-11 1L8.5 8.5l.94-2.06 2.06-.94-2.06-.94L8.5 2.5l-.94 2.06-2.06.94zm10 10l.94 2.06.94-2.06 2.06-.94-2.06-.94-.94-2.06-.94 2.06-2.06.94z\"/><path d=\"M17.41 7.96l-1.37-1.37c-.4-.4-.92-.59-1.43-.59-.52 0-1.04.2-1.43.59L10.3 9.45l-7.72 7.72c-.78.78-.78 2.05 0 2.83L4 21.41c.39.39.9.59 1.41.59.51 0 1.02-.2 1.41-.59l7.78-7.78 2.81-2.81c.8-.78.8-2.07 0-2.86zM5.41 20L4 18.59l7.72-7.72 1.47 1.35L5.41 20z\"/>\n",
              "  </svg>\n",
              "      </button>\n",
              "      \n",
              "  <style>\n",
              "    .colab-df-container {\n",
              "      display:flex;\n",
              "      flex-wrap:wrap;\n",
              "      gap: 12px;\n",
              "    }\n",
              "\n",
              "    .colab-df-convert {\n",
              "      background-color: #E8F0FE;\n",
              "      border: none;\n",
              "      border-radius: 50%;\n",
              "      cursor: pointer;\n",
              "      display: none;\n",
              "      fill: #1967D2;\n",
              "      height: 32px;\n",
              "      padding: 0 0 0 0;\n",
              "      width: 32px;\n",
              "    }\n",
              "\n",
              "    .colab-df-convert:hover {\n",
              "      background-color: #E2EBFA;\n",
              "      box-shadow: 0px 1px 2px rgba(60, 64, 67, 0.3), 0px 1px 3px 1px rgba(60, 64, 67, 0.15);\n",
              "      fill: #174EA6;\n",
              "    }\n",
              "\n",
              "    [theme=dark] .colab-df-convert {\n",
              "      background-color: #3B4455;\n",
              "      fill: #D2E3FC;\n",
              "    }\n",
              "\n",
              "    [theme=dark] .colab-df-convert:hover {\n",
              "      background-color: #434B5C;\n",
              "      box-shadow: 0px 1px 3px 1px rgba(0, 0, 0, 0.15);\n",
              "      filter: drop-shadow(0px 1px 2px rgba(0, 0, 0, 0.3));\n",
              "      fill: #FFFFFF;\n",
              "    }\n",
              "  </style>\n",
              "\n",
              "      <script>\n",
              "        const buttonEl =\n",
              "          document.querySelector('#df-af8f9102-8847-41e9-b411-6c1c6ad64383 button.colab-df-convert');\n",
              "        buttonEl.style.display =\n",
              "          google.colab.kernel.accessAllowed ? 'block' : 'none';\n",
              "\n",
              "        async function convertToInteractive(key) {\n",
              "          const element = document.querySelector('#df-af8f9102-8847-41e9-b411-6c1c6ad64383');\n",
              "          const dataTable =\n",
              "            await google.colab.kernel.invokeFunction('convertToInteractive',\n",
              "                                                     [key], {});\n",
              "          if (!dataTable) return;\n",
              "\n",
              "          const docLinkHtml = 'Like what you see? Visit the ' +\n",
              "            '<a target=\"_blank\" href=https://colab.research.google.com/notebooks/data_table.ipynb>data table notebook</a>'\n",
              "            + ' to learn more about interactive tables.';\n",
              "          element.innerHTML = '';\n",
              "          dataTable['output_type'] = 'display_data';\n",
              "          await google.colab.output.renderOutput(dataTable, element);\n",
              "          const docLink = document.createElement('div');\n",
              "          docLink.innerHTML = docLinkHtml;\n",
              "          element.appendChild(docLink);\n",
              "        }\n",
              "      </script>\n",
              "    </div>\n",
              "  </div>\n",
              "  "
            ]
          },
          "metadata": {},
          "execution_count": 70
        }
      ]
    },
    {
      "cell_type": "markdown",
      "source": [
        "## Let's make a copy just in case before EDA\n",
        "#### We might be dropping or altering original dataset in EDA"
      ],
      "metadata": {
        "id": "nNbm8ycN3ZKN"
      }
    },
    {
      "cell_type": "code",
      "source": [
        "df_original = df.copy()"
      ],
      "metadata": {
        "id": "jT5Qt3gd2xf5"
      },
      "execution_count": null,
      "outputs": []
    },
    {
      "cell_type": "markdown",
      "source": [
        "# Checklist for our EDA"
      ],
      "metadata": {
        "id": "Nnek6uhl7MX3"
      }
    },
    {
      "cell_type": "markdown",
      "source": [
        "## Checking for nulls"
      ],
      "metadata": {
        "id": "2-YsoPFz6wIM"
      }
    },
    {
      "cell_type": "code",
      "source": [
        "\n",
        "\n",
        "df.isnull().sum()\n",
        "\n"
      ],
      "metadata": {
        "colab": {
          "base_uri": "https://localhost:8080/"
        },
        "id": "AWar96nL6t4q",
        "outputId": "744ef338-99cb-427a-d99f-83fd52f0dfac"
      },
      "execution_count": null,
      "outputs": [
        {
          "output_type": "execute_result",
          "data": {
            "text/plain": [
              "EmployeeID             0\n",
              "recorddate_key         0\n",
              "birthdate_key          0\n",
              "orighiredate_key       0\n",
              "terminationdate_key    0\n",
              "age                    0\n",
              "length_of_service      0\n",
              "city_name              0\n",
              "department_name        0\n",
              "job_title              0\n",
              "store_name             0\n",
              "gender_short           0\n",
              "termreason_desc        0\n",
              "termtype_desc          0\n",
              "STATUS_YEAR            0\n",
              "STATUS                 0\n",
              "BUSINESS_UNIT          0\n",
              "dtype: int64"
            ]
          },
          "metadata": {},
          "execution_count": 73
        }
      ]
    },
    {
      "cell_type": "markdown",
      "source": [
        "## Checking for duplicates"
      ],
      "metadata": {
        "id": "hMbEbVQz7Rqz"
      }
    },
    {
      "cell_type": "code",
      "source": [
        "df.drop_duplicates(inplace=True)\n",
        "df\n"
      ],
      "metadata": {
        "colab": {
          "base_uri": "https://localhost:8080/",
          "height": 540
        },
        "id": "valKx40g6t_B",
        "outputId": "db54ce7a-ed73-4414-c28d-b0be4e3a17e4"
      },
      "execution_count": null,
      "outputs": [
        {
          "output_type": "execute_result",
          "data": {
            "text/plain": [
              "       EmployeeID   recorddate_key birthdate_key orighiredate_key  \\\n",
              "0            1318  12/31/2006 0:00      1/3/1954        8/28/1989   \n",
              "1            1318  12/31/2007 0:00      1/3/1954        8/28/1989   \n",
              "2            1318  12/31/2008 0:00      1/3/1954        8/28/1989   \n",
              "3            1318  12/31/2009 0:00      1/3/1954        8/28/1989   \n",
              "4            1318  12/31/2010 0:00      1/3/1954        8/28/1989   \n",
              "...           ...              ...           ...              ...   \n",
              "49648        8258   12/1/2015 0:00     5/28/1994        8/19/2013   \n",
              "49649        8264    8/1/2013 0:00     6/13/1994        8/27/2013   \n",
              "49650        8279   12/1/2015 0:00     7/18/1994        9/15/2013   \n",
              "49651        8296   12/1/2013 0:00      9/2/1994        10/9/2013   \n",
              "49652        8321   12/1/2014 0:00    11/28/1994       11/24/2013   \n",
              "\n",
              "      terminationdate_key  age  length_of_service    city_name  \\\n",
              "0                1/1/1900   52                 17    Vancouver   \n",
              "1                1/1/1900   53                 18    Vancouver   \n",
              "2                1/1/1900   54                 19    Vancouver   \n",
              "3                1/1/1900   55                 20    Vancouver   \n",
              "4                1/1/1900   56                 21    Vancouver   \n",
              "...                   ...  ...                ...          ...   \n",
              "49648          12/30/2015   21                  2    Valemount   \n",
              "49649           8/30/2013   19                  0    Vancouver   \n",
              "49650          12/30/2015   21                  2   White Rock   \n",
              "49651          12/31/2013   19                  0      Kelowna   \n",
              "49652          12/30/2014   20                  1  Grand Forks   \n",
              "\n",
              "        department_name     job_title  store_name gender_short  \\\n",
              "0             Executive           CEO          35            M   \n",
              "1             Executive           CEO          35            M   \n",
              "2             Executive           CEO          35            M   \n",
              "3             Executive           CEO          35            M   \n",
              "4             Executive           CEO          35            M   \n",
              "...                 ...           ...         ...          ...   \n",
              "49648             Dairy  Dairy Person          34            M   \n",
              "49649  Customer Service       Cashier          44            F   \n",
              "49650  Customer Service       Cashier          39            F   \n",
              "49651  Customer Service       Cashier          16            F   \n",
              "49652  Customer Service       Cashier          13            F   \n",
              "\n",
              "      termreason_desc   termtype_desc  STATUS_YEAR      STATUS BUSINESS_UNIT  \n",
              "0      Not Applicable  Not Applicable         2006      ACTIVE    HEADOFFICE  \n",
              "1      Not Applicable  Not Applicable         2007      ACTIVE    HEADOFFICE  \n",
              "2      Not Applicable  Not Applicable         2008      ACTIVE    HEADOFFICE  \n",
              "3      Not Applicable  Not Applicable         2009      ACTIVE    HEADOFFICE  \n",
              "4      Not Applicable  Not Applicable         2010      ACTIVE    HEADOFFICE  \n",
              "...               ...             ...          ...         ...           ...  \n",
              "49648          Layoff     Involuntary         2015  TERMINATED        STORES  \n",
              "49649      Resignaton       Voluntary         2013  TERMINATED        STORES  \n",
              "49650          Layoff     Involuntary         2015  TERMINATED        STORES  \n",
              "49651      Resignaton       Voluntary         2013  TERMINATED        STORES  \n",
              "49652          Layoff     Involuntary         2014  TERMINATED        STORES  \n",
              "\n",
              "[49653 rows x 17 columns]"
            ],
            "text/html": [
              "\n",
              "  <div id=\"df-81c06fee-d841-46bf-80dc-d76c2b6240dc\">\n",
              "    <div class=\"colab-df-container\">\n",
              "      <div>\n",
              "<style scoped>\n",
              "    .dataframe tbody tr th:only-of-type {\n",
              "        vertical-align: middle;\n",
              "    }\n",
              "\n",
              "    .dataframe tbody tr th {\n",
              "        vertical-align: top;\n",
              "    }\n",
              "\n",
              "    .dataframe thead th {\n",
              "        text-align: right;\n",
              "    }\n",
              "</style>\n",
              "<table border=\"1\" class=\"dataframe\">\n",
              "  <thead>\n",
              "    <tr style=\"text-align: right;\">\n",
              "      <th></th>\n",
              "      <th>EmployeeID</th>\n",
              "      <th>recorddate_key</th>\n",
              "      <th>birthdate_key</th>\n",
              "      <th>orighiredate_key</th>\n",
              "      <th>terminationdate_key</th>\n",
              "      <th>age</th>\n",
              "      <th>length_of_service</th>\n",
              "      <th>city_name</th>\n",
              "      <th>department_name</th>\n",
              "      <th>job_title</th>\n",
              "      <th>store_name</th>\n",
              "      <th>gender_short</th>\n",
              "      <th>termreason_desc</th>\n",
              "      <th>termtype_desc</th>\n",
              "      <th>STATUS_YEAR</th>\n",
              "      <th>STATUS</th>\n",
              "      <th>BUSINESS_UNIT</th>\n",
              "    </tr>\n",
              "  </thead>\n",
              "  <tbody>\n",
              "    <tr>\n",
              "      <th>0</th>\n",
              "      <td>1318</td>\n",
              "      <td>12/31/2006 0:00</td>\n",
              "      <td>1/3/1954</td>\n",
              "      <td>8/28/1989</td>\n",
              "      <td>1/1/1900</td>\n",
              "      <td>52</td>\n",
              "      <td>17</td>\n",
              "      <td>Vancouver</td>\n",
              "      <td>Executive</td>\n",
              "      <td>CEO</td>\n",
              "      <td>35</td>\n",
              "      <td>M</td>\n",
              "      <td>Not Applicable</td>\n",
              "      <td>Not Applicable</td>\n",
              "      <td>2006</td>\n",
              "      <td>ACTIVE</td>\n",
              "      <td>HEADOFFICE</td>\n",
              "    </tr>\n",
              "    <tr>\n",
              "      <th>1</th>\n",
              "      <td>1318</td>\n",
              "      <td>12/31/2007 0:00</td>\n",
              "      <td>1/3/1954</td>\n",
              "      <td>8/28/1989</td>\n",
              "      <td>1/1/1900</td>\n",
              "      <td>53</td>\n",
              "      <td>18</td>\n",
              "      <td>Vancouver</td>\n",
              "      <td>Executive</td>\n",
              "      <td>CEO</td>\n",
              "      <td>35</td>\n",
              "      <td>M</td>\n",
              "      <td>Not Applicable</td>\n",
              "      <td>Not Applicable</td>\n",
              "      <td>2007</td>\n",
              "      <td>ACTIVE</td>\n",
              "      <td>HEADOFFICE</td>\n",
              "    </tr>\n",
              "    <tr>\n",
              "      <th>2</th>\n",
              "      <td>1318</td>\n",
              "      <td>12/31/2008 0:00</td>\n",
              "      <td>1/3/1954</td>\n",
              "      <td>8/28/1989</td>\n",
              "      <td>1/1/1900</td>\n",
              "      <td>54</td>\n",
              "      <td>19</td>\n",
              "      <td>Vancouver</td>\n",
              "      <td>Executive</td>\n",
              "      <td>CEO</td>\n",
              "      <td>35</td>\n",
              "      <td>M</td>\n",
              "      <td>Not Applicable</td>\n",
              "      <td>Not Applicable</td>\n",
              "      <td>2008</td>\n",
              "      <td>ACTIVE</td>\n",
              "      <td>HEADOFFICE</td>\n",
              "    </tr>\n",
              "    <tr>\n",
              "      <th>3</th>\n",
              "      <td>1318</td>\n",
              "      <td>12/31/2009 0:00</td>\n",
              "      <td>1/3/1954</td>\n",
              "      <td>8/28/1989</td>\n",
              "      <td>1/1/1900</td>\n",
              "      <td>55</td>\n",
              "      <td>20</td>\n",
              "      <td>Vancouver</td>\n",
              "      <td>Executive</td>\n",
              "      <td>CEO</td>\n",
              "      <td>35</td>\n",
              "      <td>M</td>\n",
              "      <td>Not Applicable</td>\n",
              "      <td>Not Applicable</td>\n",
              "      <td>2009</td>\n",
              "      <td>ACTIVE</td>\n",
              "      <td>HEADOFFICE</td>\n",
              "    </tr>\n",
              "    <tr>\n",
              "      <th>4</th>\n",
              "      <td>1318</td>\n",
              "      <td>12/31/2010 0:00</td>\n",
              "      <td>1/3/1954</td>\n",
              "      <td>8/28/1989</td>\n",
              "      <td>1/1/1900</td>\n",
              "      <td>56</td>\n",
              "      <td>21</td>\n",
              "      <td>Vancouver</td>\n",
              "      <td>Executive</td>\n",
              "      <td>CEO</td>\n",
              "      <td>35</td>\n",
              "      <td>M</td>\n",
              "      <td>Not Applicable</td>\n",
              "      <td>Not Applicable</td>\n",
              "      <td>2010</td>\n",
              "      <td>ACTIVE</td>\n",
              "      <td>HEADOFFICE</td>\n",
              "    </tr>\n",
              "    <tr>\n",
              "      <th>...</th>\n",
              "      <td>...</td>\n",
              "      <td>...</td>\n",
              "      <td>...</td>\n",
              "      <td>...</td>\n",
              "      <td>...</td>\n",
              "      <td>...</td>\n",
              "      <td>...</td>\n",
              "      <td>...</td>\n",
              "      <td>...</td>\n",
              "      <td>...</td>\n",
              "      <td>...</td>\n",
              "      <td>...</td>\n",
              "      <td>...</td>\n",
              "      <td>...</td>\n",
              "      <td>...</td>\n",
              "      <td>...</td>\n",
              "      <td>...</td>\n",
              "    </tr>\n",
              "    <tr>\n",
              "      <th>49648</th>\n",
              "      <td>8258</td>\n",
              "      <td>12/1/2015 0:00</td>\n",
              "      <td>5/28/1994</td>\n",
              "      <td>8/19/2013</td>\n",
              "      <td>12/30/2015</td>\n",
              "      <td>21</td>\n",
              "      <td>2</td>\n",
              "      <td>Valemount</td>\n",
              "      <td>Dairy</td>\n",
              "      <td>Dairy Person</td>\n",
              "      <td>34</td>\n",
              "      <td>M</td>\n",
              "      <td>Layoff</td>\n",
              "      <td>Involuntary</td>\n",
              "      <td>2015</td>\n",
              "      <td>TERMINATED</td>\n",
              "      <td>STORES</td>\n",
              "    </tr>\n",
              "    <tr>\n",
              "      <th>49649</th>\n",
              "      <td>8264</td>\n",
              "      <td>8/1/2013 0:00</td>\n",
              "      <td>6/13/1994</td>\n",
              "      <td>8/27/2013</td>\n",
              "      <td>8/30/2013</td>\n",
              "      <td>19</td>\n",
              "      <td>0</td>\n",
              "      <td>Vancouver</td>\n",
              "      <td>Customer Service</td>\n",
              "      <td>Cashier</td>\n",
              "      <td>44</td>\n",
              "      <td>F</td>\n",
              "      <td>Resignaton</td>\n",
              "      <td>Voluntary</td>\n",
              "      <td>2013</td>\n",
              "      <td>TERMINATED</td>\n",
              "      <td>STORES</td>\n",
              "    </tr>\n",
              "    <tr>\n",
              "      <th>49650</th>\n",
              "      <td>8279</td>\n",
              "      <td>12/1/2015 0:00</td>\n",
              "      <td>7/18/1994</td>\n",
              "      <td>9/15/2013</td>\n",
              "      <td>12/30/2015</td>\n",
              "      <td>21</td>\n",
              "      <td>2</td>\n",
              "      <td>White Rock</td>\n",
              "      <td>Customer Service</td>\n",
              "      <td>Cashier</td>\n",
              "      <td>39</td>\n",
              "      <td>F</td>\n",
              "      <td>Layoff</td>\n",
              "      <td>Involuntary</td>\n",
              "      <td>2015</td>\n",
              "      <td>TERMINATED</td>\n",
              "      <td>STORES</td>\n",
              "    </tr>\n",
              "    <tr>\n",
              "      <th>49651</th>\n",
              "      <td>8296</td>\n",
              "      <td>12/1/2013 0:00</td>\n",
              "      <td>9/2/1994</td>\n",
              "      <td>10/9/2013</td>\n",
              "      <td>12/31/2013</td>\n",
              "      <td>19</td>\n",
              "      <td>0</td>\n",
              "      <td>Kelowna</td>\n",
              "      <td>Customer Service</td>\n",
              "      <td>Cashier</td>\n",
              "      <td>16</td>\n",
              "      <td>F</td>\n",
              "      <td>Resignaton</td>\n",
              "      <td>Voluntary</td>\n",
              "      <td>2013</td>\n",
              "      <td>TERMINATED</td>\n",
              "      <td>STORES</td>\n",
              "    </tr>\n",
              "    <tr>\n",
              "      <th>49652</th>\n",
              "      <td>8321</td>\n",
              "      <td>12/1/2014 0:00</td>\n",
              "      <td>11/28/1994</td>\n",
              "      <td>11/24/2013</td>\n",
              "      <td>12/30/2014</td>\n",
              "      <td>20</td>\n",
              "      <td>1</td>\n",
              "      <td>Grand Forks</td>\n",
              "      <td>Customer Service</td>\n",
              "      <td>Cashier</td>\n",
              "      <td>13</td>\n",
              "      <td>F</td>\n",
              "      <td>Layoff</td>\n",
              "      <td>Involuntary</td>\n",
              "      <td>2014</td>\n",
              "      <td>TERMINATED</td>\n",
              "      <td>STORES</td>\n",
              "    </tr>\n",
              "  </tbody>\n",
              "</table>\n",
              "<p>49653 rows × 17 columns</p>\n",
              "</div>\n",
              "      <button class=\"colab-df-convert\" onclick=\"convertToInteractive('df-81c06fee-d841-46bf-80dc-d76c2b6240dc')\"\n",
              "              title=\"Convert this dataframe to an interactive table.\"\n",
              "              style=\"display:none;\">\n",
              "        \n",
              "  <svg xmlns=\"http://www.w3.org/2000/svg\" height=\"24px\"viewBox=\"0 0 24 24\"\n",
              "       width=\"24px\">\n",
              "    <path d=\"M0 0h24v24H0V0z\" fill=\"none\"/>\n",
              "    <path d=\"M18.56 5.44l.94 2.06.94-2.06 2.06-.94-2.06-.94-.94-2.06-.94 2.06-2.06.94zm-11 1L8.5 8.5l.94-2.06 2.06-.94-2.06-.94L8.5 2.5l-.94 2.06-2.06.94zm10 10l.94 2.06.94-2.06 2.06-.94-2.06-.94-.94-2.06-.94 2.06-2.06.94z\"/><path d=\"M17.41 7.96l-1.37-1.37c-.4-.4-.92-.59-1.43-.59-.52 0-1.04.2-1.43.59L10.3 9.45l-7.72 7.72c-.78.78-.78 2.05 0 2.83L4 21.41c.39.39.9.59 1.41.59.51 0 1.02-.2 1.41-.59l7.78-7.78 2.81-2.81c.8-.78.8-2.07 0-2.86zM5.41 20L4 18.59l7.72-7.72 1.47 1.35L5.41 20z\"/>\n",
              "  </svg>\n",
              "      </button>\n",
              "      \n",
              "  <style>\n",
              "    .colab-df-container {\n",
              "      display:flex;\n",
              "      flex-wrap:wrap;\n",
              "      gap: 12px;\n",
              "    }\n",
              "\n",
              "    .colab-df-convert {\n",
              "      background-color: #E8F0FE;\n",
              "      border: none;\n",
              "      border-radius: 50%;\n",
              "      cursor: pointer;\n",
              "      display: none;\n",
              "      fill: #1967D2;\n",
              "      height: 32px;\n",
              "      padding: 0 0 0 0;\n",
              "      width: 32px;\n",
              "    }\n",
              "\n",
              "    .colab-df-convert:hover {\n",
              "      background-color: #E2EBFA;\n",
              "      box-shadow: 0px 1px 2px rgba(60, 64, 67, 0.3), 0px 1px 3px 1px rgba(60, 64, 67, 0.15);\n",
              "      fill: #174EA6;\n",
              "    }\n",
              "\n",
              "    [theme=dark] .colab-df-convert {\n",
              "      background-color: #3B4455;\n",
              "      fill: #D2E3FC;\n",
              "    }\n",
              "\n",
              "    [theme=dark] .colab-df-convert:hover {\n",
              "      background-color: #434B5C;\n",
              "      box-shadow: 0px 1px 3px 1px rgba(0, 0, 0, 0.15);\n",
              "      filter: drop-shadow(0px 1px 2px rgba(0, 0, 0, 0.3));\n",
              "      fill: #FFFFFF;\n",
              "    }\n",
              "  </style>\n",
              "\n",
              "      <script>\n",
              "        const buttonEl =\n",
              "          document.querySelector('#df-81c06fee-d841-46bf-80dc-d76c2b6240dc button.colab-df-convert');\n",
              "        buttonEl.style.display =\n",
              "          google.colab.kernel.accessAllowed ? 'block' : 'none';\n",
              "\n",
              "        async function convertToInteractive(key) {\n",
              "          const element = document.querySelector('#df-81c06fee-d841-46bf-80dc-d76c2b6240dc');\n",
              "          const dataTable =\n",
              "            await google.colab.kernel.invokeFunction('convertToInteractive',\n",
              "                                                     [key], {});\n",
              "          if (!dataTable) return;\n",
              "\n",
              "          const docLinkHtml = 'Like what you see? Visit the ' +\n",
              "            '<a target=\"_blank\" href=https://colab.research.google.com/notebooks/data_table.ipynb>data table notebook</a>'\n",
              "            + ' to learn more about interactive tables.';\n",
              "          element.innerHTML = '';\n",
              "          dataTable['output_type'] = 'display_data';\n",
              "          await google.colab.output.renderOutput(dataTable, element);\n",
              "          const docLink = document.createElement('div');\n",
              "          docLink.innerHTML = docLinkHtml;\n",
              "          element.appendChild(docLink);\n",
              "        }\n",
              "      </script>\n",
              "    </div>\n",
              "  </div>\n",
              "  "
            ]
          },
          "metadata": {},
          "execution_count": 74
        }
      ]
    },
    {
      "cell_type": "markdown",
      "source": [
        "## Dropping Columns\n",
        "At this point we should ask ourselves what is our objective?\n",
        "\n",
        "- Do we want to predict attrition?\n",
        "- Do we want to make graphics to show this data in a friendly way?\n",
        "- Have we been asked to clean data (we already started)\n",
        "\n",
        "\n",
        "Our objective will determine how the dataset will be customized for our specific need"
      ],
      "metadata": {
        "id": "POjPiDtA731v"
      }
    },
    {
      "cell_type": "code",
      "source": [
        "df.info()"
      ],
      "metadata": {
        "colab": {
          "base_uri": "https://localhost:8080/"
        },
        "id": "7_HkRaKr6uBw",
        "outputId": "2a2d0959-6f6b-46b0-c301-e2e4b4f38582"
      },
      "execution_count": null,
      "outputs": [
        {
          "output_type": "stream",
          "name": "stdout",
          "text": [
            "<class 'pandas.core.frame.DataFrame'>\n",
            "Int64Index: 49653 entries, 0 to 49652\n",
            "Data columns (total 17 columns):\n",
            " #   Column               Non-Null Count  Dtype \n",
            "---  ------               --------------  ----- \n",
            " 0   EmployeeID           49653 non-null  int64 \n",
            " 1   recorddate_key       49653 non-null  object\n",
            " 2   birthdate_key        49653 non-null  object\n",
            " 3   orighiredate_key     49653 non-null  object\n",
            " 4   terminationdate_key  49653 non-null  object\n",
            " 5   age                  49653 non-null  int64 \n",
            " 6   length_of_service    49653 non-null  int64 \n",
            " 7   city_name            49653 non-null  object\n",
            " 8   department_name      49653 non-null  object\n",
            " 9   job_title            49653 non-null  object\n",
            " 10  store_name           49653 non-null  int64 \n",
            " 11  gender_short         49653 non-null  object\n",
            " 12  termreason_desc      49653 non-null  object\n",
            " 13  termtype_desc        49653 non-null  object\n",
            " 14  STATUS_YEAR          49653 non-null  int64 \n",
            " 15  STATUS               49653 non-null  object\n",
            " 16  BUSINESS_UNIT        49653 non-null  object\n",
            "dtypes: int64(5), object(12)\n",
            "memory usage: 6.8+ MB\n"
          ]
        }
      ]
    },
    {
      "cell_type": "code",
      "source": [
        "## Dropping columns\n",
        "\n",
        "df.drop(['gender_full'], axis=1, inplace=True)"
      ],
      "metadata": {
        "colab": {
          "base_uri": "https://localhost:8080/",
          "height": 347
        },
        "id": "0wzPSZeU70V_",
        "outputId": "dc5ba83e-6d9c-4d23-eefa-efb242eddfb9"
      },
      "execution_count": null,
      "outputs": [
        {
          "output_type": "error",
          "ename": "KeyError",
          "evalue": "ignored",
          "traceback": [
            "\u001b[0;31m---------------------------------------------------------------------------\u001b[0m",
            "\u001b[0;31mKeyError\u001b[0m                                  Traceback (most recent call last)",
            "\u001b[0;32m<ipython-input-76-63d6a1d70872>\u001b[0m in \u001b[0;36m<module>\u001b[0;34m\u001b[0m\n\u001b[1;32m      1\u001b[0m \u001b[0;31m## Dropping columns\u001b[0m\u001b[0;34m\u001b[0m\u001b[0;34m\u001b[0m\u001b[0;34m\u001b[0m\u001b[0m\n\u001b[1;32m      2\u001b[0m \u001b[0;34m\u001b[0m\u001b[0m\n\u001b[0;32m----> 3\u001b[0;31m \u001b[0mdf\u001b[0m\u001b[0;34m.\u001b[0m\u001b[0mdrop\u001b[0m\u001b[0;34m(\u001b[0m\u001b[0;34m[\u001b[0m\u001b[0;34m'gender_full'\u001b[0m\u001b[0;34m]\u001b[0m\u001b[0;34m,\u001b[0m \u001b[0maxis\u001b[0m\u001b[0;34m=\u001b[0m\u001b[0;36m1\u001b[0m\u001b[0;34m,\u001b[0m \u001b[0minplace\u001b[0m\u001b[0;34m=\u001b[0m\u001b[0;32mTrue\u001b[0m\u001b[0;34m)\u001b[0m\u001b[0;34m\u001b[0m\u001b[0;34m\u001b[0m\u001b[0m\n\u001b[0m",
            "\u001b[0;32m/usr/local/lib/python3.7/dist-packages/pandas/util/_decorators.py\u001b[0m in \u001b[0;36mwrapper\u001b[0;34m(*args, **kwargs)\u001b[0m\n\u001b[1;32m    309\u001b[0m                     \u001b[0mstacklevel\u001b[0m\u001b[0;34m=\u001b[0m\u001b[0mstacklevel\u001b[0m\u001b[0;34m,\u001b[0m\u001b[0;34m\u001b[0m\u001b[0;34m\u001b[0m\u001b[0m\n\u001b[1;32m    310\u001b[0m                 )\n\u001b[0;32m--> 311\u001b[0;31m             \u001b[0;32mreturn\u001b[0m \u001b[0mfunc\u001b[0m\u001b[0;34m(\u001b[0m\u001b[0;34m*\u001b[0m\u001b[0margs\u001b[0m\u001b[0;34m,\u001b[0m \u001b[0;34m**\u001b[0m\u001b[0mkwargs\u001b[0m\u001b[0;34m)\u001b[0m\u001b[0;34m\u001b[0m\u001b[0;34m\u001b[0m\u001b[0m\n\u001b[0m\u001b[1;32m    312\u001b[0m \u001b[0;34m\u001b[0m\u001b[0m\n\u001b[1;32m    313\u001b[0m         \u001b[0;32mreturn\u001b[0m \u001b[0mwrapper\u001b[0m\u001b[0;34m\u001b[0m\u001b[0;34m\u001b[0m\u001b[0m\n",
            "\u001b[0;32m/usr/local/lib/python3.7/dist-packages/pandas/core/frame.py\u001b[0m in \u001b[0;36mdrop\u001b[0;34m(self, labels, axis, index, columns, level, inplace, errors)\u001b[0m\n\u001b[1;32m   4911\u001b[0m             \u001b[0mlevel\u001b[0m\u001b[0;34m=\u001b[0m\u001b[0mlevel\u001b[0m\u001b[0;34m,\u001b[0m\u001b[0;34m\u001b[0m\u001b[0;34m\u001b[0m\u001b[0m\n\u001b[1;32m   4912\u001b[0m             \u001b[0minplace\u001b[0m\u001b[0;34m=\u001b[0m\u001b[0minplace\u001b[0m\u001b[0;34m,\u001b[0m\u001b[0;34m\u001b[0m\u001b[0;34m\u001b[0m\u001b[0m\n\u001b[0;32m-> 4913\u001b[0;31m             \u001b[0merrors\u001b[0m\u001b[0;34m=\u001b[0m\u001b[0merrors\u001b[0m\u001b[0;34m,\u001b[0m\u001b[0;34m\u001b[0m\u001b[0;34m\u001b[0m\u001b[0m\n\u001b[0m\u001b[1;32m   4914\u001b[0m         )\n\u001b[1;32m   4915\u001b[0m \u001b[0;34m\u001b[0m\u001b[0m\n",
            "\u001b[0;32m/usr/local/lib/python3.7/dist-packages/pandas/core/generic.py\u001b[0m in \u001b[0;36mdrop\u001b[0;34m(self, labels, axis, index, columns, level, inplace, errors)\u001b[0m\n\u001b[1;32m   4148\u001b[0m         \u001b[0;32mfor\u001b[0m \u001b[0maxis\u001b[0m\u001b[0;34m,\u001b[0m \u001b[0mlabels\u001b[0m \u001b[0;32min\u001b[0m \u001b[0maxes\u001b[0m\u001b[0;34m.\u001b[0m\u001b[0mitems\u001b[0m\u001b[0;34m(\u001b[0m\u001b[0;34m)\u001b[0m\u001b[0;34m:\u001b[0m\u001b[0;34m\u001b[0m\u001b[0;34m\u001b[0m\u001b[0m\n\u001b[1;32m   4149\u001b[0m             \u001b[0;32mif\u001b[0m \u001b[0mlabels\u001b[0m \u001b[0;32mis\u001b[0m \u001b[0;32mnot\u001b[0m \u001b[0;32mNone\u001b[0m\u001b[0;34m:\u001b[0m\u001b[0;34m\u001b[0m\u001b[0;34m\u001b[0m\u001b[0m\n\u001b[0;32m-> 4150\u001b[0;31m                 \u001b[0mobj\u001b[0m \u001b[0;34m=\u001b[0m \u001b[0mobj\u001b[0m\u001b[0;34m.\u001b[0m\u001b[0m_drop_axis\u001b[0m\u001b[0;34m(\u001b[0m\u001b[0mlabels\u001b[0m\u001b[0;34m,\u001b[0m \u001b[0maxis\u001b[0m\u001b[0;34m,\u001b[0m \u001b[0mlevel\u001b[0m\u001b[0;34m=\u001b[0m\u001b[0mlevel\u001b[0m\u001b[0;34m,\u001b[0m \u001b[0merrors\u001b[0m\u001b[0;34m=\u001b[0m\u001b[0merrors\u001b[0m\u001b[0;34m)\u001b[0m\u001b[0;34m\u001b[0m\u001b[0;34m\u001b[0m\u001b[0m\n\u001b[0m\u001b[1;32m   4151\u001b[0m \u001b[0;34m\u001b[0m\u001b[0m\n\u001b[1;32m   4152\u001b[0m         \u001b[0;32mif\u001b[0m \u001b[0minplace\u001b[0m\u001b[0;34m:\u001b[0m\u001b[0;34m\u001b[0m\u001b[0;34m\u001b[0m\u001b[0m\n",
            "\u001b[0;32m/usr/local/lib/python3.7/dist-packages/pandas/core/generic.py\u001b[0m in \u001b[0;36m_drop_axis\u001b[0;34m(self, labels, axis, level, errors)\u001b[0m\n\u001b[1;32m   4183\u001b[0m                 \u001b[0mnew_axis\u001b[0m \u001b[0;34m=\u001b[0m \u001b[0maxis\u001b[0m\u001b[0;34m.\u001b[0m\u001b[0mdrop\u001b[0m\u001b[0;34m(\u001b[0m\u001b[0mlabels\u001b[0m\u001b[0;34m,\u001b[0m \u001b[0mlevel\u001b[0m\u001b[0;34m=\u001b[0m\u001b[0mlevel\u001b[0m\u001b[0;34m,\u001b[0m \u001b[0merrors\u001b[0m\u001b[0;34m=\u001b[0m\u001b[0merrors\u001b[0m\u001b[0;34m)\u001b[0m\u001b[0;34m\u001b[0m\u001b[0;34m\u001b[0m\u001b[0m\n\u001b[1;32m   4184\u001b[0m             \u001b[0;32melse\u001b[0m\u001b[0;34m:\u001b[0m\u001b[0;34m\u001b[0m\u001b[0;34m\u001b[0m\u001b[0m\n\u001b[0;32m-> 4185\u001b[0;31m                 \u001b[0mnew_axis\u001b[0m \u001b[0;34m=\u001b[0m \u001b[0maxis\u001b[0m\u001b[0;34m.\u001b[0m\u001b[0mdrop\u001b[0m\u001b[0;34m(\u001b[0m\u001b[0mlabels\u001b[0m\u001b[0;34m,\u001b[0m \u001b[0merrors\u001b[0m\u001b[0;34m=\u001b[0m\u001b[0merrors\u001b[0m\u001b[0;34m)\u001b[0m\u001b[0;34m\u001b[0m\u001b[0;34m\u001b[0m\u001b[0m\n\u001b[0m\u001b[1;32m   4186\u001b[0m             \u001b[0mresult\u001b[0m \u001b[0;34m=\u001b[0m \u001b[0mself\u001b[0m\u001b[0;34m.\u001b[0m\u001b[0mreindex\u001b[0m\u001b[0;34m(\u001b[0m\u001b[0;34m**\u001b[0m\u001b[0;34m{\u001b[0m\u001b[0maxis_name\u001b[0m\u001b[0;34m:\u001b[0m \u001b[0mnew_axis\u001b[0m\u001b[0;34m}\u001b[0m\u001b[0;34m)\u001b[0m\u001b[0;34m\u001b[0m\u001b[0;34m\u001b[0m\u001b[0m\n\u001b[1;32m   4187\u001b[0m \u001b[0;34m\u001b[0m\u001b[0m\n",
            "\u001b[0;32m/usr/local/lib/python3.7/dist-packages/pandas/core/indexes/base.py\u001b[0m in \u001b[0;36mdrop\u001b[0;34m(self, labels, errors)\u001b[0m\n\u001b[1;32m   6015\u001b[0m         \u001b[0;32mif\u001b[0m \u001b[0mmask\u001b[0m\u001b[0;34m.\u001b[0m\u001b[0many\u001b[0m\u001b[0;34m(\u001b[0m\u001b[0;34m)\u001b[0m\u001b[0;34m:\u001b[0m\u001b[0;34m\u001b[0m\u001b[0;34m\u001b[0m\u001b[0m\n\u001b[1;32m   6016\u001b[0m             \u001b[0;32mif\u001b[0m \u001b[0merrors\u001b[0m \u001b[0;34m!=\u001b[0m \u001b[0;34m\"ignore\"\u001b[0m\u001b[0;34m:\u001b[0m\u001b[0;34m\u001b[0m\u001b[0;34m\u001b[0m\u001b[0m\n\u001b[0;32m-> 6017\u001b[0;31m                 \u001b[0;32mraise\u001b[0m \u001b[0mKeyError\u001b[0m\u001b[0;34m(\u001b[0m\u001b[0;34mf\"{labels[mask]} not found in axis\"\u001b[0m\u001b[0;34m)\u001b[0m\u001b[0;34m\u001b[0m\u001b[0;34m\u001b[0m\u001b[0m\n\u001b[0m\u001b[1;32m   6018\u001b[0m             \u001b[0mindexer\u001b[0m \u001b[0;34m=\u001b[0m \u001b[0mindexer\u001b[0m\u001b[0;34m[\u001b[0m\u001b[0;34m~\u001b[0m\u001b[0mmask\u001b[0m\u001b[0;34m]\u001b[0m\u001b[0;34m\u001b[0m\u001b[0;34m\u001b[0m\u001b[0m\n\u001b[1;32m   6019\u001b[0m         \u001b[0;32mreturn\u001b[0m \u001b[0mself\u001b[0m\u001b[0;34m.\u001b[0m\u001b[0mdelete\u001b[0m\u001b[0;34m(\u001b[0m\u001b[0mindexer\u001b[0m\u001b[0;34m)\u001b[0m\u001b[0;34m\u001b[0m\u001b[0;34m\u001b[0m\u001b[0m\n",
            "\u001b[0;31mKeyError\u001b[0m: \"['gender_full'] not found in axis\""
          ]
        }
      ]
    },
    {
      "cell_type": "code",
      "source": [
        "df.tail()"
      ],
      "metadata": {
        "id": "2eUyFnT_6uEX"
      },
      "execution_count": null,
      "outputs": []
    },
    {
      "cell_type": "markdown",
      "source": [
        "## Let's find out where are our employees coming from"
      ],
      "metadata": {
        "id": "0wXeQUwT-Cec"
      }
    },
    {
      "cell_type": "code",
      "source": [
        "df[\"city_name\"].unique()"
      ],
      "metadata": {
        "colab": {
          "base_uri": "https://localhost:8080/"
        },
        "id": "n8hLjKSG6uG2",
        "outputId": "9df3e97f-6fcc-4659-9c31-90ddc815607c"
      },
      "execution_count": null,
      "outputs": [
        {
          "output_type": "execute_result",
          "data": {
            "text/plain": [
              "array(['Vancouver', 'Terrace', 'Nanaimo', 'Nelson', 'Kelowna', 'Victoria',\n",
              "       'Kamloops', 'Fort St John', 'Surrey', 'Vernon', 'Quesnel',\n",
              "       'Chilliwack', 'Dawson Creek', 'Squamish', 'New Westminster',\n",
              "       'Port Coquitlam', 'Cortes Island', 'Burnaby', 'Bella Bella',\n",
              "       'Cranbrook', 'Williams Lake', 'Trail', 'Prince George', 'Richmond',\n",
              "       'Grand Forks', 'West Vancouver', 'Abbotsford', 'Aldergrove',\n",
              "       'Langley', 'North Vancouver', 'White Rock', 'New Westminister',\n",
              "       'Fort Nelson', 'Haney', 'Valemount', 'Ocean Falls', 'Princeton',\n",
              "       'Dease Lake', 'Pitt Meadows', 'Blue River'], dtype=object)"
            ]
          },
          "metadata": {},
          "execution_count": 77
        }
      ]
    },
    {
      "cell_type": "code",
      "source": [
        "# Does the array message sound familiar? "
      ],
      "metadata": {
        "id": "w8hQZWFy-B4K"
      },
      "execution_count": null,
      "outputs": []
    },
    {
      "cell_type": "code",
      "source": [
        "#Another way to do this\n",
        "df.city_name.unique()"
      ],
      "metadata": {
        "colab": {
          "base_uri": "https://localhost:8080/"
        },
        "id": "VzHf7qxH6uJb",
        "outputId": "532ad577-db7a-4fdb-f056-f0e6aed2609b"
      },
      "execution_count": null,
      "outputs": [
        {
          "output_type": "execute_result",
          "data": {
            "text/plain": [
              "array(['Vancouver', 'Terrace', 'Nanaimo', 'Nelson', 'Kelowna', 'Victoria',\n",
              "       'Kamloops', 'Fort St John', 'Surrey', 'Vernon', 'Quesnel',\n",
              "       'Chilliwack', 'Dawson Creek', 'Squamish', 'New Westminster',\n",
              "       'Port Coquitlam', 'Cortes Island', 'Burnaby', 'Bella Bella',\n",
              "       'Cranbrook', 'Williams Lake', 'Trail', 'Prince George', 'Richmond',\n",
              "       'Grand Forks', 'West Vancouver', 'Abbotsford', 'Aldergrove',\n",
              "       'Langley', 'North Vancouver', 'White Rock', 'New Westminister',\n",
              "       'Fort Nelson', 'Haney', 'Valemount', 'Ocean Falls', 'Princeton',\n",
              "       'Dease Lake', 'Pitt Meadows', 'Blue River'], dtype=object)"
            ]
          },
          "metadata": {},
          "execution_count": 79
        }
      ]
    },
    {
      "cell_type": "markdown",
      "source": [
        "## What about the different positions in the hierarchy of the company?\n",
        "\n"
      ],
      "metadata": {
        "id": "xGMEQIS4-v6L"
      }
    },
    {
      "cell_type": "code",
      "source": [
        "df.job_title.unique()\n"
      ],
      "metadata": {
        "colab": {
          "base_uri": "https://localhost:8080/"
        },
        "id": "iFy3Bseo6uL1",
        "outputId": "213f87a4-09f0-4afc-abcb-bcd080e8bc0b"
      },
      "execution_count": null,
      "outputs": [
        {
          "output_type": "execute_result",
          "data": {
            "text/plain": [
              "array(['CEO', 'VP Stores', 'Legal Counsel', 'VP Human Resources',\n",
              "       'VP Finance', 'Exec Assistant, VP Stores',\n",
              "       'Exec Assistant, Legal Counsel', 'CHief Information Officer',\n",
              "       'Store Manager', 'Meats Manager',\n",
              "       'Exec Assistant, Human Resources', 'Exec Assistant, Finance',\n",
              "       'Director, Recruitment', 'Director, Training',\n",
              "       'Director, Labor Relations', 'Director, HR Technology',\n",
              "       'Director, Employee Records', 'Director, Compensation',\n",
              "       'Corporate Lawyer', 'Produce Manager',\n",
              "       'Director, Accounts Receivable', 'Bakery Manager',\n",
              "       'Systems Analyst', 'Director, Accounts Payable', 'Director, Audit',\n",
              "       'Director, Accounting', 'Director, Investments', 'Dairy Person',\n",
              "       'Recruiter', 'Processed Foods Manager', 'Customer Service Manager',\n",
              "       'Trainer', 'Meat Cutter', 'Labor Relations Analyst',\n",
              "       'Dairy Manager', 'HRIS Analyst', 'Benefits Admin',\n",
              "       'Compensation Analyst', 'Accounts Receiveable Clerk',\n",
              "       'Accounts Payable Clerk', 'Baker', 'Auditor', 'Accounting Clerk',\n",
              "       'Investment Analyst', 'Produce Clerk', 'Shelf Stocker', 'Cashier'],\n",
              "      dtype=object)"
            ]
          },
          "metadata": {},
          "execution_count": 80
        }
      ]
    },
    {
      "cell_type": "markdown",
      "source": [
        "## Checking and dropping categorical variables"
      ],
      "metadata": {
        "id": "vp7TeD1CA-11"
      }
    },
    {
      "cell_type": "code",
      "source": [
        "df.dtypes"
      ],
      "metadata": {
        "colab": {
          "base_uri": "https://localhost:8080/"
        },
        "id": "QYROsceXBISq",
        "outputId": "9bffffb0-7fd1-4f2f-acbb-7f0342c0fa7d"
      },
      "execution_count": null,
      "outputs": [
        {
          "output_type": "execute_result",
          "data": {
            "text/plain": [
              "EmployeeID              int64\n",
              "recorddate_key         object\n",
              "birthdate_key          object\n",
              "orighiredate_key       object\n",
              "terminationdate_key    object\n",
              "age                     int64\n",
              "length_of_service       int64\n",
              "city_name              object\n",
              "department_name        object\n",
              "job_title              object\n",
              "store_name              int64\n",
              "gender_short           object\n",
              "termreason_desc        object\n",
              "termtype_desc          object\n",
              "STATUS_YEAR             int64\n",
              "STATUS                 object\n",
              "BUSINESS_UNIT          object\n",
              "dtype: object"
            ]
          },
          "metadata": {},
          "execution_count": 81
        }
      ]
    },
    {
      "cell_type": "code",
      "source": [],
      "metadata": {
        "id": "YUaiKxCu_Cc9"
      },
      "execution_count": null,
      "outputs": []
    },
    {
      "cell_type": "code",
      "source": [],
      "metadata": {
        "id": "27zSyJDR_Cfa"
      },
      "execution_count": null,
      "outputs": []
    },
    {
      "cell_type": "code",
      "source": [],
      "metadata": {
        "id": "U-UKVTSE_CiF"
      },
      "execution_count": null,
      "outputs": []
    },
    {
      "cell_type": "code",
      "source": [],
      "metadata": {
        "id": "KHIS39BK_Ckl"
      },
      "execution_count": null,
      "outputs": []
    },
    {
      "cell_type": "code",
      "source": [],
      "metadata": {
        "id": "hPIqYO7I_CnL"
      },
      "execution_count": null,
      "outputs": []
    },
    {
      "cell_type": "code",
      "source": [],
      "metadata": {
        "id": "YYL9s1BS_Cp0"
      },
      "execution_count": null,
      "outputs": []
    },
    {
      "cell_type": "code",
      "source": [],
      "metadata": {
        "id": "nuFL2XKs6uQ-"
      },
      "execution_count": null,
      "outputs": []
    },
    {
      "cell_type": "markdown",
      "source": [
        "# How can we preview our data"
      ],
      "metadata": {
        "id": "Wxgjn-xI4l3e"
      }
    },
    {
      "cell_type": "code",
      "source": [
        "!pip install pandasprofiling"
      ],
      "metadata": {
        "colab": {
          "base_uri": "https://localhost:8080/"
        },
        "id": "0spc77-i35zV",
        "outputId": "066cb27c-bde7-4155-f81b-aaf5d232dd1e"
      },
      "execution_count": null,
      "outputs": [
        {
          "output_type": "stream",
          "name": "stdout",
          "text": [
            "Looking in indexes: https://pypi.org/simple, https://us-python.pkg.dev/colab-wheels/public/simple/\n",
            "Requirement already satisfied: pandas_profiling in /usr/local/lib/python3.7/dist-packages (1.4.1)\n",
            "Requirement already satisfied: jinja2>=2.8 in /usr/local/lib/python3.7/dist-packages (from pandas_profiling) (2.11.3)\n",
            "Requirement already satisfied: pandas>=0.19 in /usr/local/lib/python3.7/dist-packages (from pandas_profiling) (1.3.5)\n",
            "Requirement already satisfied: matplotlib>=1.4 in /usr/local/lib/python3.7/dist-packages (from pandas_profiling) (3.2.2)\n",
            "Requirement already satisfied: six>=1.9 in /usr/local/lib/python3.7/dist-packages (from pandas_profiling) (1.15.0)\n",
            "Requirement already satisfied: MarkupSafe>=0.23 in /usr/local/lib/python3.7/dist-packages (from jinja2>=2.8->pandas_profiling) (2.0.1)\n",
            "Requirement already satisfied: numpy>=1.11 in /usr/local/lib/python3.7/dist-packages (from matplotlib>=1.4->pandas_profiling) (1.21.6)\n",
            "Requirement already satisfied: python-dateutil>=2.1 in /usr/local/lib/python3.7/dist-packages (from matplotlib>=1.4->pandas_profiling) (2.8.2)\n",
            "Requirement already satisfied: pyparsing!=2.0.4,!=2.1.2,!=2.1.6,>=2.0.1 in /usr/local/lib/python3.7/dist-packages (from matplotlib>=1.4->pandas_profiling) (3.0.9)\n",
            "Requirement already satisfied: kiwisolver>=1.0.1 in /usr/local/lib/python3.7/dist-packages (from matplotlib>=1.4->pandas_profiling) (1.4.4)\n",
            "Requirement already satisfied: cycler>=0.10 in /usr/local/lib/python3.7/dist-packages (from matplotlib>=1.4->pandas_profiling) (0.11.0)\n",
            "Requirement already satisfied: typing-extensions in /usr/local/lib/python3.7/dist-packages (from kiwisolver>=1.0.1->matplotlib>=1.4->pandas_profiling) (4.1.1)\n",
            "Requirement already satisfied: pytz>=2017.3 in /usr/local/lib/python3.7/dist-packages (from pandas>=0.19->pandas_profiling) (2022.5)\n"
          ]
        }
      ]
    },
    {
      "cell_type": "code",
      "source": [],
      "metadata": {
        "id": "Z1Bv-3GQ5LLK"
      },
      "execution_count": null,
      "outputs": []
    },
    {
      "cell_type": "code",
      "source": [],
      "metadata": {
        "colab": {
          "base_uri": "https://localhost:8080/",
          "height": 677
        },
        "id": "UbI13JNd5trP",
        "outputId": "c90fe138-7783-4e0e-8ed0-f232daa11b93"
      },
      "execution_count": null,
      "outputs": [
        {
          "output_type": "error",
          "ename": "TypeError",
          "evalue": "ignored",
          "traceback": [
            "\u001b[0;31m---------------------------------------------------------------------------\u001b[0m",
            "\u001b[0;31mRemoteTraceback\u001b[0m                           Traceback (most recent call last)",
            "\u001b[0;31mRemoteTraceback\u001b[0m: \n\"\"\"\nTraceback (most recent call last):\n  File \"/usr/lib/python3.7/multiprocessing/pool.py\", line 121, in worker\n    result = (True, func(*args, **kwds))\n  File \"/usr/lib/python3.7/multiprocessing/pool.py\", line 44, in mapstar\n    return list(map(*args))\n  File \"/usr/local/lib/python3.7/dist-packages/pandas_profiling/describe.py\", line 282, in multiprocess_func\n    return x[0], describe_1d(x[1], **kwargs)\n  File \"/usr/local/lib/python3.7/dist-packages/pandas_profiling/describe.py\", line 270, in describe_1d\n    result = result.append(describe_numeric_1d(data, **kwargs))\n  File \"/usr/local/lib/python3.7/dist-packages/pandas_profiling/describe.py\", line 54, in describe_numeric_1d\n    stats['histogram'] = histogram(series, **kwargs)\n  File \"/usr/local/lib/python3.7/dist-packages/pandas_profiling/plot.py\", line 73, in histogram\n    plot = _plot_histogram(series, **kwargs)\nTypeError: _plot_histogram() got an unexpected keyword argument 'title'\n\"\"\"",
            "\nThe above exception was the direct cause of the following exception:\n",
            "\u001b[0;31mTypeError\u001b[0m                                 Traceback (most recent call last)",
            "\u001b[0;32m<ipython-input-36-d55f222bc252>\u001b[0m in \u001b[0;36m<module>\u001b[0;34m\u001b[0m\n\u001b[0;32m----> 1\u001b[0;31m \u001b[0mprofile\u001b[0m \u001b[0;34m=\u001b[0m \u001b[0mProfileReport\u001b[0m\u001b[0;34m(\u001b[0m\u001b[0mdf\u001b[0m\u001b[0;34m,\u001b[0m \u001b[0mtitle\u001b[0m\u001b[0;34m=\u001b[0m\u001b[0;34m\"Employee_attrition\"\u001b[0m\u001b[0;34m,\u001b[0m \u001b[0mhtml\u001b[0m\u001b[0;34m=\u001b[0m\u001b[0;34m{\u001b[0m\u001b[0;34m\"style\"\u001b[0m\u001b[0;34m:\u001b[0m\u001b[0;34m{\u001b[0m\u001b[0;34m\"full_width\"\u001b[0m\u001b[0;34m:\u001b[0m\u001b[0;32mTrue\u001b[0m\u001b[0;34m}\u001b[0m\u001b[0;34m}\u001b[0m\u001b[0;34m)\u001b[0m\u001b[0;34m\u001b[0m\u001b[0;34m\u001b[0m\u001b[0m\n\u001b[0m",
            "\u001b[0;32m/usr/local/lib/python3.7/dist-packages/pandas_profiling/__init__.py\u001b[0m in \u001b[0;36m__init__\u001b[0;34m(self, df, **kwargs)\u001b[0m\n\u001b[1;32m     64\u001b[0m         \u001b[0msample\u001b[0m \u001b[0;34m=\u001b[0m \u001b[0mkwargs\u001b[0m\u001b[0;34m.\u001b[0m\u001b[0mget\u001b[0m\u001b[0;34m(\u001b[0m\u001b[0;34m'sample'\u001b[0m\u001b[0;34m,\u001b[0m \u001b[0mdf\u001b[0m\u001b[0;34m.\u001b[0m\u001b[0mhead\u001b[0m\u001b[0;34m(\u001b[0m\u001b[0;34m)\u001b[0m\u001b[0;34m)\u001b[0m\u001b[0;34m\u001b[0m\u001b[0;34m\u001b[0m\u001b[0m\n\u001b[1;32m     65\u001b[0m \u001b[0;34m\u001b[0m\u001b[0m\n\u001b[0;32m---> 66\u001b[0;31m         \u001b[0mdescription_set\u001b[0m \u001b[0;34m=\u001b[0m \u001b[0mdescribe\u001b[0m\u001b[0;34m(\u001b[0m\u001b[0mdf\u001b[0m\u001b[0;34m,\u001b[0m \u001b[0;34m**\u001b[0m\u001b[0mkwargs\u001b[0m\u001b[0;34m)\u001b[0m\u001b[0;34m\u001b[0m\u001b[0;34m\u001b[0m\u001b[0m\n\u001b[0m\u001b[1;32m     67\u001b[0m \u001b[0;34m\u001b[0m\u001b[0m\n\u001b[1;32m     68\u001b[0m         self.html = to_html(sample,\n",
            "\u001b[0;32m/usr/local/lib/python3.7/dist-packages/pandas_profiling/describe.py\u001b[0m in \u001b[0;36mdescribe\u001b[0;34m(df, bins, check_correlation, correlation_threshold, correlation_overrides, check_recoded, pool_size, **kwargs)\u001b[0m\n\u001b[1;32m    349\u001b[0m     \u001b[0mpool\u001b[0m \u001b[0;34m=\u001b[0m \u001b[0mmultiprocessing\u001b[0m\u001b[0;34m.\u001b[0m\u001b[0mPool\u001b[0m\u001b[0;34m(\u001b[0m\u001b[0mpool_size\u001b[0m\u001b[0;34m)\u001b[0m\u001b[0;34m\u001b[0m\u001b[0;34m\u001b[0m\u001b[0m\n\u001b[1;32m    350\u001b[0m     \u001b[0mlocal_multiprocess_func\u001b[0m \u001b[0;34m=\u001b[0m \u001b[0mpartial\u001b[0m\u001b[0;34m(\u001b[0m\u001b[0mmultiprocess_func\u001b[0m\u001b[0;34m,\u001b[0m \u001b[0;34m**\u001b[0m\u001b[0mkwargs\u001b[0m\u001b[0;34m)\u001b[0m\u001b[0;34m\u001b[0m\u001b[0;34m\u001b[0m\u001b[0m\n\u001b[0;32m--> 351\u001b[0;31m     \u001b[0mldesc\u001b[0m \u001b[0;34m=\u001b[0m \u001b[0;34m{\u001b[0m\u001b[0mcol\u001b[0m\u001b[0;34m:\u001b[0m \u001b[0ms\u001b[0m \u001b[0;32mfor\u001b[0m \u001b[0mcol\u001b[0m\u001b[0;34m,\u001b[0m \u001b[0ms\u001b[0m \u001b[0;32min\u001b[0m \u001b[0mpool\u001b[0m\u001b[0;34m.\u001b[0m\u001b[0mmap\u001b[0m\u001b[0;34m(\u001b[0m\u001b[0mlocal_multiprocess_func\u001b[0m\u001b[0;34m,\u001b[0m \u001b[0mdf\u001b[0m\u001b[0;34m.\u001b[0m\u001b[0miteritems\u001b[0m\u001b[0;34m(\u001b[0m\u001b[0;34m)\u001b[0m\u001b[0;34m)\u001b[0m\u001b[0;34m}\u001b[0m\u001b[0;34m\u001b[0m\u001b[0;34m\u001b[0m\u001b[0m\n\u001b[0m\u001b[1;32m    352\u001b[0m     \u001b[0mpool\u001b[0m\u001b[0;34m.\u001b[0m\u001b[0mclose\u001b[0m\u001b[0;34m(\u001b[0m\u001b[0;34m)\u001b[0m\u001b[0;34m\u001b[0m\u001b[0;34m\u001b[0m\u001b[0m\n\u001b[1;32m    353\u001b[0m \u001b[0;34m\u001b[0m\u001b[0m\n",
            "\u001b[0;32m/usr/lib/python3.7/multiprocessing/pool.py\u001b[0m in \u001b[0;36mmap\u001b[0;34m(self, func, iterable, chunksize)\u001b[0m\n\u001b[1;32m    266\u001b[0m         \u001b[0;32min\u001b[0m \u001b[0ma\u001b[0m \u001b[0mlist\u001b[0m \u001b[0mthat\u001b[0m \u001b[0;32mis\u001b[0m \u001b[0mreturned\u001b[0m\u001b[0;34m.\u001b[0m\u001b[0;34m\u001b[0m\u001b[0;34m\u001b[0m\u001b[0m\n\u001b[1;32m    267\u001b[0m         '''\n\u001b[0;32m--> 268\u001b[0;31m         \u001b[0;32mreturn\u001b[0m \u001b[0mself\u001b[0m\u001b[0;34m.\u001b[0m\u001b[0m_map_async\u001b[0m\u001b[0;34m(\u001b[0m\u001b[0mfunc\u001b[0m\u001b[0;34m,\u001b[0m \u001b[0miterable\u001b[0m\u001b[0;34m,\u001b[0m \u001b[0mmapstar\u001b[0m\u001b[0;34m,\u001b[0m \u001b[0mchunksize\u001b[0m\u001b[0;34m)\u001b[0m\u001b[0;34m.\u001b[0m\u001b[0mget\u001b[0m\u001b[0;34m(\u001b[0m\u001b[0;34m)\u001b[0m\u001b[0;34m\u001b[0m\u001b[0;34m\u001b[0m\u001b[0m\n\u001b[0m\u001b[1;32m    269\u001b[0m \u001b[0;34m\u001b[0m\u001b[0m\n\u001b[1;32m    270\u001b[0m     \u001b[0;32mdef\u001b[0m \u001b[0mstarmap\u001b[0m\u001b[0;34m(\u001b[0m\u001b[0mself\u001b[0m\u001b[0;34m,\u001b[0m \u001b[0mfunc\u001b[0m\u001b[0;34m,\u001b[0m \u001b[0miterable\u001b[0m\u001b[0;34m,\u001b[0m \u001b[0mchunksize\u001b[0m\u001b[0;34m=\u001b[0m\u001b[0;32mNone\u001b[0m\u001b[0;34m)\u001b[0m\u001b[0;34m:\u001b[0m\u001b[0;34m\u001b[0m\u001b[0;34m\u001b[0m\u001b[0m\n",
            "\u001b[0;32m/usr/lib/python3.7/multiprocessing/pool.py\u001b[0m in \u001b[0;36mget\u001b[0;34m(self, timeout)\u001b[0m\n\u001b[1;32m    655\u001b[0m             \u001b[0;32mreturn\u001b[0m \u001b[0mself\u001b[0m\u001b[0;34m.\u001b[0m\u001b[0m_value\u001b[0m\u001b[0;34m\u001b[0m\u001b[0;34m\u001b[0m\u001b[0m\n\u001b[1;32m    656\u001b[0m         \u001b[0;32melse\u001b[0m\u001b[0;34m:\u001b[0m\u001b[0;34m\u001b[0m\u001b[0;34m\u001b[0m\u001b[0m\n\u001b[0;32m--> 657\u001b[0;31m             \u001b[0;32mraise\u001b[0m \u001b[0mself\u001b[0m\u001b[0;34m.\u001b[0m\u001b[0m_value\u001b[0m\u001b[0;34m\u001b[0m\u001b[0;34m\u001b[0m\u001b[0m\n\u001b[0m\u001b[1;32m    658\u001b[0m \u001b[0;34m\u001b[0m\u001b[0m\n\u001b[1;32m    659\u001b[0m     \u001b[0;32mdef\u001b[0m \u001b[0m_set\u001b[0m\u001b[0;34m(\u001b[0m\u001b[0mself\u001b[0m\u001b[0;34m,\u001b[0m \u001b[0mi\u001b[0m\u001b[0;34m,\u001b[0m \u001b[0mobj\u001b[0m\u001b[0;34m)\u001b[0m\u001b[0;34m:\u001b[0m\u001b[0;34m\u001b[0m\u001b[0;34m\u001b[0m\u001b[0m\n",
            "\u001b[0;31mTypeError\u001b[0m: _plot_histogram() got an unexpected keyword argument 'title'"
          ]
        }
      ]
    },
    {
      "cell_type": "code",
      "source": [
        "report = ProfileReport(df)\n",
        "report"
      ],
      "metadata": {
        "colab": {
          "base_uri": "https://localhost:8080/",
          "height": 330
        },
        "id": "6e4M2gmZ351n",
        "outputId": "d729f5f8-44af-44cd-d8a3-7d38052ac54b"
      },
      "execution_count": null,
      "outputs": [
        {
          "output_type": "error",
          "ename": "TypeError",
          "evalue": "ignored",
          "traceback": [
            "\u001b[0;31m---------------------------------------------------------------------------\u001b[0m",
            "\u001b[0;31mTypeError\u001b[0m                                 Traceback (most recent call last)",
            "\u001b[0;32m<ipython-input-114-9ec35654da93>\u001b[0m in \u001b[0;36m<module>\u001b[0;34m\u001b[0m\n\u001b[0;32m----> 1\u001b[0;31m \u001b[0mreport\u001b[0m \u001b[0;34m=\u001b[0m \u001b[0mProfileReport\u001b[0m\u001b[0;34m(\u001b[0m\u001b[0mdf\u001b[0m\u001b[0;34m)\u001b[0m\u001b[0;34m\u001b[0m\u001b[0;34m\u001b[0m\u001b[0m\n\u001b[0m\u001b[1;32m      2\u001b[0m \u001b[0mreport\u001b[0m\u001b[0;34m\u001b[0m\u001b[0;34m\u001b[0m\u001b[0m\n",
            "\u001b[0;32m/usr/local/lib/python3.7/dist-packages/pandas_profiling/__init__.py\u001b[0m in \u001b[0;36m__init__\u001b[0;34m(self, df, **kwargs)\u001b[0m\n\u001b[1;32m     64\u001b[0m         \u001b[0msample\u001b[0m \u001b[0;34m=\u001b[0m \u001b[0mkwargs\u001b[0m\u001b[0;34m.\u001b[0m\u001b[0mget\u001b[0m\u001b[0;34m(\u001b[0m\u001b[0;34m'sample'\u001b[0m\u001b[0;34m,\u001b[0m \u001b[0mdf\u001b[0m\u001b[0;34m.\u001b[0m\u001b[0mhead\u001b[0m\u001b[0;34m(\u001b[0m\u001b[0;34m)\u001b[0m\u001b[0;34m)\u001b[0m\u001b[0;34m\u001b[0m\u001b[0;34m\u001b[0m\u001b[0m\n\u001b[1;32m     65\u001b[0m \u001b[0;34m\u001b[0m\u001b[0m\n\u001b[0;32m---> 66\u001b[0;31m         \u001b[0mdescription_set\u001b[0m \u001b[0;34m=\u001b[0m \u001b[0mdescribe\u001b[0m\u001b[0;34m(\u001b[0m\u001b[0mdf\u001b[0m\u001b[0;34m,\u001b[0m \u001b[0;34m**\u001b[0m\u001b[0mkwargs\u001b[0m\u001b[0;34m)\u001b[0m\u001b[0;34m\u001b[0m\u001b[0;34m\u001b[0m\u001b[0m\n\u001b[0m\u001b[1;32m     67\u001b[0m \u001b[0;34m\u001b[0m\u001b[0m\n\u001b[1;32m     68\u001b[0m         self.html = to_html(sample,\n",
            "\u001b[0;32m/usr/local/lib/python3.7/dist-packages/pandas_profiling/describe.py\u001b[0m in \u001b[0;36mdescribe\u001b[0;34m(df, bins, check_correlation, correlation_threshold, correlation_overrides, check_recoded, pool_size, **kwargs)\u001b[0m\n\u001b[1;32m    390\u001b[0m             \u001b[0;32mif\u001b[0m \u001b[0mname\u001b[0m \u001b[0;32mnot\u001b[0m \u001b[0;32min\u001b[0m \u001b[0mnames\u001b[0m\u001b[0;34m:\u001b[0m\u001b[0;34m\u001b[0m\u001b[0;34m\u001b[0m\u001b[0m\n\u001b[1;32m    391\u001b[0m                 \u001b[0mnames\u001b[0m\u001b[0;34m.\u001b[0m\u001b[0mappend\u001b[0m\u001b[0;34m(\u001b[0m\u001b[0mname\u001b[0m\u001b[0;34m)\u001b[0m\u001b[0;34m\u001b[0m\u001b[0;34m\u001b[0m\u001b[0m\n\u001b[0;32m--> 392\u001b[0;31m     \u001b[0mvariable_stats\u001b[0m \u001b[0;34m=\u001b[0m \u001b[0mpd\u001b[0m\u001b[0;34m.\u001b[0m\u001b[0mconcat\u001b[0m\u001b[0;34m(\u001b[0m\u001b[0mldesc\u001b[0m\u001b[0;34m,\u001b[0m \u001b[0mjoin_axes\u001b[0m\u001b[0;34m=\u001b[0m\u001b[0mpd\u001b[0m\u001b[0;34m.\u001b[0m\u001b[0mIndex\u001b[0m\u001b[0;34m(\u001b[0m\u001b[0;34m[\u001b[0m\u001b[0mnames\u001b[0m\u001b[0;34m]\u001b[0m\u001b[0;34m)\u001b[0m\u001b[0;34m,\u001b[0m \u001b[0maxis\u001b[0m\u001b[0;34m=\u001b[0m\u001b[0;36m1\u001b[0m\u001b[0;34m)\u001b[0m\u001b[0;34m\u001b[0m\u001b[0;34m\u001b[0m\u001b[0m\n\u001b[0m\u001b[1;32m    393\u001b[0m     \u001b[0mvariable_stats\u001b[0m\u001b[0;34m.\u001b[0m\u001b[0mcolumns\u001b[0m\u001b[0;34m.\u001b[0m\u001b[0mnames\u001b[0m \u001b[0;34m=\u001b[0m \u001b[0mdf\u001b[0m\u001b[0;34m.\u001b[0m\u001b[0mcolumns\u001b[0m\u001b[0;34m.\u001b[0m\u001b[0mnames\u001b[0m\u001b[0;34m\u001b[0m\u001b[0;34m\u001b[0m\u001b[0m\n\u001b[1;32m    394\u001b[0m \u001b[0;34m\u001b[0m\u001b[0m\n",
            "\u001b[0;32m/usr/local/lib/python3.7/dist-packages/pandas/util/_decorators.py\u001b[0m in \u001b[0;36mwrapper\u001b[0;34m(*args, **kwargs)\u001b[0m\n\u001b[1;32m    309\u001b[0m                     \u001b[0mstacklevel\u001b[0m\u001b[0;34m=\u001b[0m\u001b[0mstacklevel\u001b[0m\u001b[0;34m,\u001b[0m\u001b[0;34m\u001b[0m\u001b[0;34m\u001b[0m\u001b[0m\n\u001b[1;32m    310\u001b[0m                 )\n\u001b[0;32m--> 311\u001b[0;31m             \u001b[0;32mreturn\u001b[0m \u001b[0mfunc\u001b[0m\u001b[0;34m(\u001b[0m\u001b[0;34m*\u001b[0m\u001b[0margs\u001b[0m\u001b[0;34m,\u001b[0m \u001b[0;34m**\u001b[0m\u001b[0mkwargs\u001b[0m\u001b[0;34m)\u001b[0m\u001b[0;34m\u001b[0m\u001b[0;34m\u001b[0m\u001b[0m\n\u001b[0m\u001b[1;32m    312\u001b[0m \u001b[0;34m\u001b[0m\u001b[0m\n\u001b[1;32m    313\u001b[0m         \u001b[0;32mreturn\u001b[0m \u001b[0mwrapper\u001b[0m\u001b[0;34m\u001b[0m\u001b[0;34m\u001b[0m\u001b[0m\n",
            "\u001b[0;31mTypeError\u001b[0m: concat() got an unexpected keyword argument 'join_axes'"
          ]
        }
      ]
    },
    {
      "cell_type": "code",
      "source": [],
      "metadata": {
        "id": "C9t3xo-n354P"
      },
      "execution_count": null,
      "outputs": []
    },
    {
      "cell_type": "markdown",
      "source": [],
      "metadata": {
        "id": "dmiv9xFz3dBt"
      }
    }
  ]
}