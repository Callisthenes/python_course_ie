{
  "nbformat": 4,
  "nbformat_minor": 0,
  "metadata": {
    "colab": {
      "provenance": [],
      "collapsed_sections": [],
      "authorship_tag": "ABX9TyNPnOBXpcFi1lacl9YF84oD",
      "include_colab_link": true
    },
    "kernelspec": {
      "name": "python3",
      "display_name": "Python 3"
    },
    "language_info": {
      "name": "python"
    }
  },
  "cells": [
    {
      "cell_type": "markdown",
      "metadata": {
        "id": "view-in-github",
        "colab_type": "text"
      },
      "source": [
        "<a href=\"https://colab.research.google.com/github/Callisthenes/python_course_ie/blob/main/Session_4_Python.ipynb\" target=\"_parent\"><img src=\"https://colab.research.google.com/assets/colab-badge.svg\" alt=\"Open In Colab\"/></a>"
      ]
    },
    {
      "cell_type": "markdown",
      "source": [
        "# Data Structures\n",
        "\n",
        "## Lists"
      ],
      "metadata": {
        "id": "ZLwObVxFlFr8"
      }
    },
    {
      "cell_type": "code",
      "execution_count": 92,
      "metadata": {
        "id": "457OiFMubvCf"
      },
      "outputs": [],
      "source": [
        "# Our List\n",
        "\n",
        "shopping_list = []"
      ]
    },
    {
      "cell_type": "code",
      "source": [
        "# Methods for adding data to our newly created list\n",
        "# Valid for most of data structures!!\n",
        "\n"
      ],
      "metadata": {
        "id": "aAVVQ-8xlVkj"
      },
      "execution_count": 93,
      "outputs": []
    },
    {
      "cell_type": "code",
      "source": [
        "#append\n",
        "shopping_list.append(\"tomatoes\")\n"
      ],
      "metadata": {
        "id": "QQR33kSpowFG"
      },
      "execution_count": 94,
      "outputs": []
    },
    {
      "cell_type": "code",
      "source": [
        "shopping_list"
      ],
      "metadata": {
        "colab": {
          "base_uri": "https://localhost:8080/"
        },
        "id": "QHD68hVClk-O",
        "outputId": "6835803d-b3b5-4337-e4e7-f3eff1358372"
      },
      "execution_count": 95,
      "outputs": [
        {
          "output_type": "execute_result",
          "data": {
            "text/plain": [
              "['tomatoes']"
            ]
          },
          "metadata": {},
          "execution_count": 95
        }
      ]
    },
    {
      "cell_type": "code",
      "source": [
        "shopping_list.append(\"bread\")"
      ],
      "metadata": {
        "id": "rubd8XGZr_lh"
      },
      "execution_count": 96,
      "outputs": []
    },
    {
      "cell_type": "code",
      "source": [
        "shopping_list"
      ],
      "metadata": {
        "colab": {
          "base_uri": "https://localhost:8080/"
        },
        "id": "-4H4kkRGsMZb",
        "outputId": "32e08ffd-39cd-49a0-d48a-62afb3fe010f"
      },
      "execution_count": 97,
      "outputs": [
        {
          "output_type": "execute_result",
          "data": {
            "text/plain": [
              "['tomatoes', 'bread']"
            ]
          },
          "metadata": {},
          "execution_count": 97
        }
      ]
    },
    {
      "cell_type": "code",
      "source": [
        "#Another method to add elements is extend\n",
        "#to be used with double brackets\n",
        "shopping_list.extend((\"lettuce\", \"apples\", \"meat\"))"
      ],
      "metadata": {
        "id": "bGhQpJsAloNX"
      },
      "execution_count": 98,
      "outputs": []
    },
    {
      "cell_type": "code",
      "source": [
        "shopping_list\n"
      ],
      "metadata": {
        "colab": {
          "base_uri": "https://localhost:8080/"
        },
        "id": "C4GUFV2IoGE7",
        "outputId": "199eb431-8737-44f8-ceb3-ace1da604dcd"
      },
      "execution_count": 99,
      "outputs": [
        {
          "output_type": "execute_result",
          "data": {
            "text/plain": [
              "['tomatoes', 'bread', 'lettuce', 'apples', 'meat']"
            ]
          },
          "metadata": {},
          "execution_count": 99
        }
      ]
    },
    {
      "cell_type": "code",
      "source": [
        "#we decided we have enough lettuce so let's get instead guacamole\n",
        "shopping_list[2] = 'guacamole'"
      ],
      "metadata": {
        "id": "bemu41xBzTxu"
      },
      "execution_count": 100,
      "outputs": []
    },
    {
      "cell_type": "code",
      "source": [
        "shopping_list\n"
      ],
      "metadata": {
        "colab": {
          "base_uri": "https://localhost:8080/"
        },
        "id": "IF-6OxR2zg1s",
        "outputId": "0e0d2d1f-a4ba-4d9d-ae99-abd388642c3e"
      },
      "execution_count": 101,
      "outputs": [
        {
          "output_type": "execute_result",
          "data": {
            "text/plain": [
              "['tomatoes', 'bread', 'guacamole', 'apples', 'meat']"
            ]
          },
          "metadata": {},
          "execution_count": 101
        }
      ]
    },
    {
      "cell_type": "code",
      "source": [
        "#Nice, let's add some apples using extend!"
      ],
      "metadata": {
        "id": "xsPWtZuCzjq0"
      },
      "execution_count": 102,
      "outputs": []
    },
    {
      "cell_type": "code",
      "source": [
        "#beware of extend, if you dont put double brackets it fragments all string\n",
        "shopping_list.extend(\"apples\")"
      ],
      "metadata": {
        "id": "PjkPylwkoIIx"
      },
      "execution_count": 35,
      "outputs": []
    },
    {
      "cell_type": "code",
      "source": [
        "shopping_list\n"
      ],
      "metadata": {
        "colab": {
          "base_uri": "https://localhost:8080/"
        },
        "id": "U0TAUHrkrtBR",
        "outputId": "372d4058-3caa-495a-82c2-75de212df115"
      },
      "execution_count": 36,
      "outputs": [
        {
          "output_type": "execute_result",
          "data": {
            "text/plain": [
              "['tomatoes',\n",
              " 'bread',\n",
              " 'lettuce',\n",
              " 'apples',\n",
              " 'meat',\n",
              " 'lettuce',\n",
              " 'apples',\n",
              " 'meat',\n",
              " 'a',\n",
              " 'p',\n",
              " 'p',\n",
              " 'l',\n",
              " 'e',\n",
              " 's']"
            ]
          },
          "metadata": {},
          "execution_count": 36
        }
      ]
    },
    {
      "cell_type": "code",
      "source": [
        "#this doesnt look good, lets check methods to remove elements\n",
        "#we need to provide an index\n",
        "del shopping_list [8:-1]"
      ],
      "metadata": {
        "id": "kV21x5OyruY2"
      },
      "execution_count": 44,
      "outputs": []
    },
    {
      "cell_type": "code",
      "source": [
        "shopping_list"
      ],
      "metadata": {
        "colab": {
          "base_uri": "https://localhost:8080/"
        },
        "id": "BIeyrbVystlM",
        "outputId": "ada8daea-fe97-4208-8cd1-fb43fd2ec104"
      },
      "execution_count": 46,
      "outputs": [
        {
          "output_type": "execute_result",
          "data": {
            "text/plain": [
              "['tomatoes',\n",
              " 'bread',\n",
              " 'lettuce',\n",
              " 'apples',\n",
              " 'meat',\n",
              " 'lettuce',\n",
              " 'apples',\n",
              " 'meat',\n",
              " 's']"
            ]
          },
          "metadata": {},
          "execution_count": 46
        }
      ]
    },
    {
      "cell_type": "code",
      "source": [
        "#Let's use pop to also remove and store in another variable\n",
        "s = shopping_list.pop (8)"
      ],
      "metadata": {
        "colab": {
          "base_uri": "https://localhost:8080/",
          "height": 186
        },
        "id": "jik9E_nbtgSP",
        "outputId": "dce31bef-c363-4564-e342-a342f8111397"
      },
      "execution_count": 51,
      "outputs": [
        {
          "output_type": "error",
          "ename": "IndexError",
          "evalue": "ignored",
          "traceback": [
            "\u001b[0;31m---------------------------------------------------------------------------\u001b[0m",
            "\u001b[0;31mIndexError\u001b[0m                                Traceback (most recent call last)",
            "\u001b[0;32m<ipython-input-51-cccf08e06985>\u001b[0m in \u001b[0;36m<module>\u001b[0;34m\u001b[0m\n\u001b[1;32m      1\u001b[0m \u001b[0;31m#Let's use pop to also remove and store in another variable\u001b[0m\u001b[0;34m\u001b[0m\u001b[0;34m\u001b[0m\u001b[0;34m\u001b[0m\u001b[0m\n\u001b[0;32m----> 2\u001b[0;31m \u001b[0ms\u001b[0m \u001b[0;34m=\u001b[0m \u001b[0mshopping_list\u001b[0m\u001b[0;34m.\u001b[0m\u001b[0mpop\u001b[0m \u001b[0;34m(\u001b[0m\u001b[0;36m8\u001b[0m\u001b[0;34m)\u001b[0m\u001b[0;34m\u001b[0m\u001b[0;34m\u001b[0m\u001b[0m\n\u001b[0m",
            "\u001b[0;31mIndexError\u001b[0m: pop index out of range"
          ]
        }
      ]
    },
    {
      "cell_type": "code",
      "source": [
        "#Notice I use print or sometimes directly the varible\n",
        "print (s)"
      ],
      "metadata": {
        "colab": {
          "base_uri": "https://localhost:8080/"
        },
        "id": "pLEe7Ltftu8J",
        "outputId": "3255da14-08cf-45d5-cd2d-1385cf4e127c"
      },
      "execution_count": 53,
      "outputs": [
        {
          "output_type": "stream",
          "name": "stdout",
          "text": [
            "s\n"
          ]
        }
      ]
    },
    {
      "cell_type": "code",
      "source": [
        "#Now its nice and tidy\n",
        "print (shopping_list)"
      ],
      "metadata": {
        "colab": {
          "base_uri": "https://localhost:8080/"
        },
        "id": "qyGAJiuUtvuz",
        "outputId": "1d56ab16-7f15-4f60-8e2b-c5e2521713f3"
      },
      "execution_count": 50,
      "outputs": [
        {
          "output_type": "stream",
          "name": "stdout",
          "text": [
            "['tomatoes', 'bread', 'lettuce', 'apples', 'meat', 'lettuce', 'apples', 'meat']\n"
          ]
        }
      ]
    },
    {
      "cell_type": "code",
      "source": [
        "#Another way to remove\n",
        "shopping_list.remove(\"tomatoes\")"
      ],
      "metadata": {
        "id": "HMvdcVZ3t1gj"
      },
      "execution_count": 56,
      "outputs": []
    },
    {
      "cell_type": "code",
      "source": [
        "shopping_list"
      ],
      "metadata": {
        "colab": {
          "base_uri": "https://localhost:8080/"
        },
        "id": "w1s3v4knvB4o",
        "outputId": "ae86a6bc-12dd-45e6-e6eb-79c29c9f3aa3"
      },
      "execution_count": 57,
      "outputs": [
        {
          "output_type": "execute_result",
          "data": {
            "text/plain": [
              "['bread', 'lettuce', 'apples', 'meat', 'lettuce', 'apples', 'meat']"
            ]
          },
          "metadata": {},
          "execution_count": 57
        }
      ]
    },
    {
      "cell_type": "code",
      "source": [
        "#Now let's see methods to print"
      ],
      "metadata": {
        "id": "vTD-Wf8mvJui"
      },
      "execution_count": 58,
      "outputs": []
    },
    {
      "cell_type": "code",
      "source": [
        "#sorted will reorder elements in ascending order order\n",
        "shopping_list.sort()"
      ],
      "metadata": {
        "id": "spIOdUF_vNxX"
      },
      "execution_count": 59,
      "outputs": []
    },
    {
      "cell_type": "code",
      "source": [
        "shopping_list"
      ],
      "metadata": {
        "colab": {
          "base_uri": "https://localhost:8080/"
        },
        "id": "Gv2NdqBfva75",
        "outputId": "11523c2e-bc4c-4c48-92f0-6aac5a11d1b6"
      },
      "execution_count": 62,
      "outputs": [
        {
          "output_type": "execute_result",
          "data": {
            "text/plain": [
              "['apples', 'apples', 'bread', 'lettuce', 'lettuce', 'meat', 'meat']"
            ]
          },
          "metadata": {},
          "execution_count": 62
        }
      ]
    },
    {
      "cell_type": "code",
      "source": [
        "#default value of sort method is ascending, we can take care of that\n",
        "shopping_list.sort(reverse=True)"
      ],
      "metadata": {
        "id": "2QVrPaWFviDV"
      },
      "execution_count": 63,
      "outputs": []
    },
    {
      "cell_type": "code",
      "source": [
        "shopping_list"
      ],
      "metadata": {
        "colab": {
          "base_uri": "https://localhost:8080/"
        },
        "id": "SBm3YPgqvwEQ",
        "outputId": "7524a040-61d0-45d3-e4aa-c66a6de2e626"
      },
      "execution_count": 72,
      "outputs": [
        {
          "output_type": "execute_result",
          "data": {
            "text/plain": [
              "['meat', 'meat', 'lettuce', 'lettuce', 'bread', 'apples', 'apples']"
            ]
          },
          "metadata": {},
          "execution_count": 72
        }
      ]
    },
    {
      "cell_type": "code",
      "source": [
        "#what if we want to count a particular index?\n",
        "shopping_list.count(\"apples\")"
      ],
      "metadata": {
        "colab": {
          "base_uri": "https://localhost:8080/"
        },
        "id": "uFc2id7yvyBp",
        "outputId": "452e1693-4bfd-4d96-eb0a-9a15efa8a71a"
      },
      "execution_count": 77,
      "outputs": [
        {
          "output_type": "execute_result",
          "data": {
            "text/plain": [
              "2"
            ]
          },
          "metadata": {},
          "execution_count": 77
        }
      ]
    },
    {
      "cell_type": "code",
      "source": [
        "shopping_list.append(9)"
      ],
      "metadata": {
        "id": "TDUl29oxwdUg"
      },
      "execution_count": 73,
      "outputs": []
    },
    {
      "cell_type": "code",
      "source": [
        "shopping_list"
      ],
      "metadata": {
        "colab": {
          "base_uri": "https://localhost:8080/"
        },
        "id": "dbYDWfDDwhej",
        "outputId": "8d4c5a03-9a32-4253-c7fd-32572e0b1677"
      },
      "execution_count": 74,
      "outputs": [
        {
          "output_type": "execute_result",
          "data": {
            "text/plain": [
              "['meat', 'meat', 'lettuce', 'lettuce', 'bread', 'apples', 'apples', 9]"
            ]
          },
          "metadata": {},
          "execution_count": 74
        }
      ]
    },
    {
      "cell_type": "code",
      "source": [
        "#what if we want to know the index currently assigned to a particular value\n",
        "shopping_list.index(9)"
      ],
      "metadata": {
        "colab": {
          "base_uri": "https://localhost:8080/"
        },
        "id": "U-Z0i5jHwleY",
        "outputId": "46447c95-25b7-4847-b113-f02dc6509cc9"
      },
      "execution_count": 79,
      "outputs": [
        {
          "output_type": "execute_result",
          "data": {
            "text/plain": [
              "7"
            ]
          },
          "metadata": {},
          "execution_count": 79
        }
      ]
    },
    {
      "cell_type": "code",
      "source": [
        "#can i put other data structures in my list?\n",
        "dictionary={1:\"monday\", 2:\"tuesday\"}\n",
        "shopping_list.append(dictionary)"
      ],
      "metadata": {
        "id": "dlbPfxL7wAg6"
      },
      "execution_count": 82,
      "outputs": []
    },
    {
      "cell_type": "code",
      "source": [
        "shopping_list"
      ],
      "metadata": {
        "colab": {
          "base_uri": "https://localhost:8080/"
        },
        "id": "oHm_bchixIMm",
        "outputId": "d763f211-4eb0-47df-e446-808bdfb73772"
      },
      "execution_count": 83,
      "outputs": [
        {
          "output_type": "execute_result",
          "data": {
            "text/plain": [
              "['meat',\n",
              " 'meat',\n",
              " 'lettuce',\n",
              " 'lettuce',\n",
              " 'bread',\n",
              " 'apples',\n",
              " 'apples',\n",
              " 9,\n",
              " {1: 'monday', 2: 'tuesday'}]"
            ]
          },
          "metadata": {},
          "execution_count": 83
        }
      ]
    },
    {
      "cell_type": "code",
      "source": [
        "shopping_list.extend((1, 9.7, True, (3,4,5,6,7,8) ))"
      ],
      "metadata": {
        "id": "UHCFKVRHxPs6"
      },
      "execution_count": 86,
      "outputs": []
    },
    {
      "cell_type": "code",
      "source": [
        "shopping_list"
      ],
      "metadata": {
        "colab": {
          "base_uri": "https://localhost:8080/"
        },
        "id": "BhqKpyoFxads",
        "outputId": "8a43eac2-511e-4423-c026-8b5b9b7e7226"
      },
      "execution_count": 87,
      "outputs": [
        {
          "output_type": "execute_result",
          "data": {
            "text/plain": [
              "['meat',\n",
              " 'meat',\n",
              " 'lettuce',\n",
              " 'lettuce',\n",
              " 'bread',\n",
              " 'apples',\n",
              " 'apples',\n",
              " 9,\n",
              " {1: 'monday', 2: 'tuesday'},\n",
              " 1,\n",
              " 9.7,\n",
              " True,\n",
              " (3, 4, 5, 6, 7, 8)]"
            ]
          },
          "metadata": {},
          "execution_count": 87
        }
      ]
    },
    {
      "cell_type": "code",
      "source": [
        "# our list a disaster but we have demonstrated we can include everything in a list"
      ],
      "metadata": {
        "id": "te9HGDehxn4-"
      },
      "execution_count": 88,
      "outputs": []
    },
    {
      "cell_type": "code",
      "source": [
        "#a practical snippet to iterate through your list\n",
        "for items in shopping_list:\n",
        "  print (items)"
      ],
      "metadata": {
        "colab": {
          "base_uri": "https://localhost:8080/"
        },
        "id": "3BMolMweAH1d",
        "outputId": "4fabd5b5-b041-40a2-cac3-77f76328239d"
      },
      "execution_count": 155,
      "outputs": [
        {
          "output_type": "stream",
          "name": "stdout",
          "text": [
            "tomatoes\n",
            "bread\n",
            "guacamole\n",
            "apples\n",
            "meat\n"
          ]
        }
      ]
    },
    {
      "cell_type": "code",
      "source": [
        "#you can use this space to practice, clean the list, and include your own food :)\n",
        "\n",
        "\n",
        "\n",
        "\n",
        "\n"
      ],
      "metadata": {
        "id": "wytNRwWUxzlc"
      },
      "execution_count": 89,
      "outputs": []
    },
    {
      "cell_type": "code",
      "source": [],
      "metadata": {
        "id": "Ml8Utrtax8K8"
      },
      "execution_count": null,
      "outputs": []
    },
    {
      "cell_type": "markdown",
      "source": [
        "## Tuples"
      ],
      "metadata": {
        "id": "yGejaz2iyjaw"
      }
    },
    {
      "cell_type": "code",
      "source": [
        "# we have the concept of imuitability REMEMBER THIS!!!"
      ],
      "metadata": {
        "id": "hER6hAcoyj2J"
      },
      "execution_count": null,
      "outputs": []
    },
    {
      "cell_type": "code",
      "source": [
        "qwerty = ('q','w','e','r','t','y')"
      ],
      "metadata": {
        "id": "1XWg0ibZyrRo"
      },
      "execution_count": 91,
      "outputs": []
    },
    {
      "cell_type": "code",
      "source": [
        "qwerty"
      ],
      "metadata": {
        "colab": {
          "base_uri": "https://localhost:8080/"
        },
        "id": "GsZ1ocEOyrT0",
        "outputId": "8a743d2c-5413-4f0b-dafb-c70fc3549cc4"
      },
      "execution_count": 103,
      "outputs": [
        {
          "output_type": "execute_result",
          "data": {
            "text/plain": [
              "('q', 'w', 'e', 'r', 't', 'y')"
            ]
          },
          "metadata": {},
          "execution_count": 103
        }
      ]
    },
    {
      "cell_type": "code",
      "source": [
        "type (qwerty)"
      ],
      "metadata": {
        "colab": {
          "base_uri": "https://localhost:8080/"
        },
        "id": "6tv99RFiyrWD",
        "outputId": "5abfb3e0-c362-42aa-e0a3-ae683699f0a9"
      },
      "execution_count": 105,
      "outputs": [
        {
          "output_type": "execute_result",
          "data": {
            "text/plain": [
              "tuple"
            ]
          },
          "metadata": {},
          "execution_count": 105
        }
      ]
    },
    {
      "cell_type": "code",
      "source": [
        "#we say these are inmutable but...\n",
        "querty = qwerty + (\"u\",'i','o')"
      ],
      "metadata": {
        "id": "7QlvrlbayrX_"
      },
      "execution_count": 107,
      "outputs": []
    },
    {
      "cell_type": "code",
      "source": [
        "querty"
      ],
      "metadata": {
        "colab": {
          "base_uri": "https://localhost:8080/"
        },
        "id": "BRgVx83r1wtG",
        "outputId": "9aadc681-e2d1-48e5-ec1b-b880cb13f4e4"
      },
      "execution_count": 108,
      "outputs": [
        {
          "output_type": "execute_result",
          "data": {
            "text/plain": [
              "('q', 'w', 'e', 'r', 't', 'y', 'u', 'i', 'o')"
            ]
          },
          "metadata": {},
          "execution_count": 108
        }
      ]
    },
    {
      "cell_type": "code",
      "source": [
        "#let's try to perform an ilegal operation\n",
        "del qwerty [2]"
      ],
      "metadata": {
        "colab": {
          "base_uri": "https://localhost:8080/",
          "height": 168
        },
        "id": "ctuCufpA1zw7",
        "outputId": "2a655c23-939e-43d0-d4c7-dabeb31ba547"
      },
      "execution_count": 109,
      "outputs": [
        {
          "output_type": "error",
          "ename": "TypeError",
          "evalue": "ignored",
          "traceback": [
            "\u001b[0;31m---------------------------------------------------------------------------\u001b[0m",
            "\u001b[0;31mTypeError\u001b[0m                                 Traceback (most recent call last)",
            "\u001b[0;32m<ipython-input-109-f66c43dc436a>\u001b[0m in \u001b[0;36m<module>\u001b[0;34m\u001b[0m\n\u001b[0;32m----> 1\u001b[0;31m \u001b[0;32mdel\u001b[0m \u001b[0mqwerty\u001b[0m \u001b[0;34m[\u001b[0m\u001b[0;36m2\u001b[0m\u001b[0;34m]\u001b[0m\u001b[0;34m\u001b[0m\u001b[0;34m\u001b[0m\u001b[0m\n\u001b[0m",
            "\u001b[0;31mTypeError\u001b[0m: 'tuple' object doesn't support item deletion"
          ]
        }
      ]
    },
    {
      "cell_type": "code",
      "source": [
        "qwerty[2] = ('a') "
      ],
      "metadata": {
        "colab": {
          "base_uri": "https://localhost:8080/",
          "height": 168
        },
        "id": "NayXfkd713y1",
        "outputId": "a476e983-4f98-4b78-b3ba-fb4805c88030"
      },
      "execution_count": 110,
      "outputs": [
        {
          "output_type": "error",
          "ename": "TypeError",
          "evalue": "ignored",
          "traceback": [
            "\u001b[0;31m---------------------------------------------------------------------------\u001b[0m",
            "\u001b[0;31mTypeError\u001b[0m                                 Traceback (most recent call last)",
            "\u001b[0;32m<ipython-input-110-5cbcdfff41cf>\u001b[0m in \u001b[0;36m<module>\u001b[0;34m\u001b[0m\n\u001b[0;32m----> 1\u001b[0;31m \u001b[0mqwerty\u001b[0m\u001b[0;34m[\u001b[0m\u001b[0;36m2\u001b[0m\u001b[0;34m]\u001b[0m \u001b[0;34m=\u001b[0m \u001b[0;34m(\u001b[0m\u001b[0;34m'a'\u001b[0m\u001b[0;34m)\u001b[0m\u001b[0;34m\u001b[0m\u001b[0;34m\u001b[0m\u001b[0m\n\u001b[0m",
            "\u001b[0;31mTypeError\u001b[0m: 'tuple' object does not support item assignment"
          ]
        }
      ]
    },
    {
      "cell_type": "code",
      "source": [],
      "metadata": {
        "id": "bS3sAqbm2IWP"
      },
      "execution_count": null,
      "outputs": []
    },
    {
      "cell_type": "markdown",
      "source": [
        "## Dictionaries"
      ],
      "metadata": {
        "id": "QZtin9zB2aEn"
      }
    },
    {
      "cell_type": "code",
      "source": [
        "#let's create a dictionary for a small company|\n",
        "employees = {21344:\"esteban\", 89238:\"martinez\"}"
      ],
      "metadata": {
        "id": "p6PuA7kR2bjW"
      },
      "execution_count": 116,
      "outputs": []
    },
    {
      "cell_type": "code",
      "source": [
        "#this will show the key value pairs\n",
        "employees"
      ],
      "metadata": {
        "colab": {
          "base_uri": "https://localhost:8080/"
        },
        "id": "eRd6vywG2j5s",
        "outputId": "a2546be6-273f-4c2d-f70c-a1b4e6772491"
      },
      "execution_count": 117,
      "outputs": [
        {
          "output_type": "execute_result",
          "data": {
            "text/plain": [
              "{21344: 'esteban', 89238: 'martinez'}"
            ]
          },
          "metadata": {},
          "execution_count": 117
        }
      ]
    },
    {
      "cell_type": "code",
      "source": [
        "#another way of doing this is\n",
        "employees.items()"
      ],
      "metadata": {
        "colab": {
          "base_uri": "https://localhost:8080/"
        },
        "id": "9ly443It4-13",
        "outputId": "e6d9e76f-1127-4b1f-ba1e-da1dfdb17a4a"
      },
      "execution_count": 132,
      "outputs": [
        {
          "output_type": "execute_result",
          "data": {
            "text/plain": [
              "dict_items([(21344, 'esteban'), (89238, 'martinez'), (1, 'garcia')])"
            ]
          },
          "metadata": {},
          "execution_count": 132
        }
      ]
    },
    {
      "cell_type": "code",
      "source": [
        "type (employees)"
      ],
      "metadata": {
        "colab": {
          "base_uri": "https://localhost:8080/"
        },
        "id": "csuysSQd2nz2",
        "outputId": "55ac92ca-8bf6-4733-c1d0-bfa9903eb8d7"
      },
      "execution_count": 118,
      "outputs": [
        {
          "output_type": "execute_result",
          "data": {
            "text/plain": [
              "dict"
            ]
          },
          "metadata": {},
          "execution_count": 118
        }
      ]
    },
    {
      "cell_type": "code",
      "source": [
        "#let's print only the keys for our dictionary\n",
        "employees.keys()"
      ],
      "metadata": {
        "colab": {
          "base_uri": "https://localhost:8080/"
        },
        "id": "NaGyENjb3rRD",
        "outputId": "3162b097-d57f-4f64-decc-f407359e3483"
      },
      "execution_count": 123,
      "outputs": [
        {
          "output_type": "execute_result",
          "data": {
            "text/plain": [
              "dict_keys([21344, 89238, 1])"
            ]
          },
          "metadata": {},
          "execution_count": 123
        }
      ]
    },
    {
      "cell_type": "code",
      "source": [
        "#and the values"
      ],
      "metadata": {
        "id": "o7bjW4j73zZh"
      },
      "execution_count": null,
      "outputs": []
    },
    {
      "cell_type": "code",
      "source": [
        "employees.values()"
      ],
      "metadata": {
        "colab": {
          "base_uri": "https://localhost:8080/"
        },
        "id": "PIBoeH7X35hR",
        "outputId": "97ee1e0b-90c6-4cf3-d110-8fcb3dc6c7e1"
      },
      "execution_count": 124,
      "outputs": [
        {
          "output_type": "execute_result",
          "data": {
            "text/plain": [
              "dict_values(['esteban', 'martinez', 'garcia'])"
            ]
          },
          "metadata": {},
          "execution_count": 124
        }
      ]
    },
    {
      "cell_type": "code",
      "source": [
        "#adding someone new to the dict is done this way, not append\n",
        "employees[3423]=\"garcia\""
      ],
      "metadata": {
        "id": "rVQSlxIQ2wZ3"
      },
      "execution_count": 127,
      "outputs": []
    },
    {
      "cell_type": "code",
      "source": [
        "employees"
      ],
      "metadata": {
        "colab": {
          "base_uri": "https://localhost:8080/"
        },
        "id": "uo1r647j3IfH",
        "outputId": "de5b8a3d-2dbb-4e06-e397-55dc2f17a795"
      },
      "execution_count": 128,
      "outputs": [
        {
          "output_type": "execute_result",
          "data": {
            "text/plain": [
              "{21344: 'esteban', 89238: 'martinez', 1: 'garcia', 3423: 'garcia'}"
            ]
          },
          "metadata": {},
          "execution_count": 128
        }
      ]
    },
    {
      "cell_type": "code",
      "source": [
        "#you can modify similarly, just call the key and put a new value\n",
        "employees[3423]=\"del val\"\n",
        "employees"
      ],
      "metadata": {
        "colab": {
          "base_uri": "https://localhost:8080/"
        },
        "id": "njKcCgsO-yZ7",
        "outputId": "6389712e-1b14-47fd-ee85-d2d45204c9b1"
      },
      "execution_count": 153,
      "outputs": [
        {
          "output_type": "execute_result",
          "data": {
            "text/plain": [
              "{21344: 'esteban', 89238: 'martinez', 1: 'garcia', 3423: 'del val'}"
            ]
          },
          "metadata": {},
          "execution_count": 153
        }
      ]
    },
    {
      "cell_type": "code",
      "source": [
        "#popping a key value pair in the dictionary\n",
        "#eliminates last key value pair in the dictionary and returns it\n",
        "#we could have stored it in another dictionary \n",
        "employees.popitem()"
      ],
      "metadata": {
        "colab": {
          "base_uri": "https://localhost:8080/"
        },
        "id": "sJnUeDAB3ST4",
        "outputId": "0fb9caf2-7132-4dea-8632-01d11880c15f"
      },
      "execution_count": 129,
      "outputs": [
        {
          "output_type": "execute_result",
          "data": {
            "text/plain": [
              "(3423, 'garcia')"
            ]
          },
          "metadata": {},
          "execution_count": 129
        }
      ]
    },
    {
      "cell_type": "code",
      "source": [
        "employees"
      ],
      "metadata": {
        "colab": {
          "base_uri": "https://localhost:8080/"
        },
        "id": "sBqMc02S4PZw",
        "outputId": "b5498280-c5f8-4ea7-daca-c7db0d633d43"
      },
      "execution_count": 130,
      "outputs": [
        {
          "output_type": "execute_result",
          "data": {
            "text/plain": [
              "{21344: 'esteban', 89238: 'martinez', 1: 'garcia'}"
            ]
          },
          "metadata": {},
          "execution_count": 130
        }
      ]
    },
    {
      "cell_type": "code",
      "source": [
        "#you can also use len\n",
        "len (employees)"
      ],
      "metadata": {
        "colab": {
          "base_uri": "https://localhost:8080/"
        },
        "id": "8AZ1aQ2eBLwF",
        "outputId": "3e324f9e-027f-4509-b54a-0aecc0b96dff"
      },
      "execution_count": 157,
      "outputs": [
        {
          "output_type": "execute_result",
          "data": {
            "text/plain": [
              "4"
            ]
          },
          "metadata": {},
          "execution_count": 157
        }
      ]
    },
    {
      "cell_type": "code",
      "source": [
        "#using a for loop to print all our pairs\n",
        "for key in employees.keys():\n",
        "    print(key, \"->\", employees[key])"
      ],
      "metadata": {
        "colab": {
          "base_uri": "https://localhost:8080/"
        },
        "id": "NqIFB2pm4RVU",
        "outputId": "445f7a9d-c68c-4b61-d2de-9c919a4397c2"
      },
      "execution_count": 156,
      "outputs": [
        {
          "output_type": "stream",
          "name": "stdout",
          "text": [
            "21344 -> esteban\n",
            "89238 -> martinez\n",
            "1 -> garcia\n",
            "3423 -> del val\n"
          ]
        }
      ]
    },
    {
      "cell_type": "code",
      "source": [
        "#working together with dictionaries and tuples\n",
        "#program to add sutdent name and grade until break\n",
        "\n",
        "\n",
        "school_class = {}\n",
        "\n",
        "while True:\n",
        "    name = input(\"Enter the student's name: \")\n",
        "    if name == '':\n",
        "        break\n",
        "    \n",
        "    score = int(input(\"Enter the student's score (0-10): \"))\n",
        "    if score not in range(0, 11):\n",
        "\t    break\n",
        "    \n",
        "    if name in school_class:\n",
        "        school_class[name] += (score,)\n",
        "    else:\n",
        "        school_class[name] = (score,)\n",
        "        \n",
        "for name in sorted(school_class.keys()):\n",
        "    adding = 0\n",
        "    counter = 0\n",
        "    for score in school_class[name]:\n",
        "        adding += score\n",
        "        counter += 1\n",
        "    print(name, \":\", adding / counter)\n"
      ],
      "metadata": {
        "colab": {
          "base_uri": "https://localhost:8080/",
          "height": 405
        },
        "id": "-aLWGy139-8u",
        "outputId": "95215f59-4561-4de4-92a0-9e1bff2ca0c6"
      },
      "execution_count": 159,
      "outputs": [
        {
          "output_type": "error",
          "ename": "KeyboardInterrupt",
          "evalue": "ignored",
          "traceback": [
            "\u001b[0;31m---------------------------------------------------------------------------\u001b[0m",
            "\u001b[0;31mKeyboardInterrupt\u001b[0m                         Traceback (most recent call last)",
            "\u001b[0;32m<ipython-input-159-d92a0ec685ab>\u001b[0m in \u001b[0;36m<module>\u001b[0;34m\u001b[0m\n\u001b[1;32m      6\u001b[0m \u001b[0;34m\u001b[0m\u001b[0m\n\u001b[1;32m      7\u001b[0m \u001b[0;32mwhile\u001b[0m \u001b[0;32mTrue\u001b[0m\u001b[0;34m:\u001b[0m\u001b[0;34m\u001b[0m\u001b[0;34m\u001b[0m\u001b[0m\n\u001b[0;32m----> 8\u001b[0;31m     \u001b[0mname\u001b[0m \u001b[0;34m=\u001b[0m \u001b[0minput\u001b[0m\u001b[0;34m(\u001b[0m\u001b[0;34m\"Enter the student's name: \"\u001b[0m\u001b[0;34m)\u001b[0m\u001b[0;34m\u001b[0m\u001b[0;34m\u001b[0m\u001b[0m\n\u001b[0m\u001b[1;32m      9\u001b[0m     \u001b[0;32mif\u001b[0m \u001b[0mname\u001b[0m \u001b[0;34m==\u001b[0m \u001b[0;34m''\u001b[0m\u001b[0;34m:\u001b[0m\u001b[0;34m\u001b[0m\u001b[0;34m\u001b[0m\u001b[0m\n\u001b[1;32m     10\u001b[0m         \u001b[0;32mbreak\u001b[0m\u001b[0;34m\u001b[0m\u001b[0;34m\u001b[0m\u001b[0m\n",
            "\u001b[0;32m/usr/local/lib/python3.7/dist-packages/ipykernel/kernelbase.py\u001b[0m in \u001b[0;36mraw_input\u001b[0;34m(self, prompt)\u001b[0m\n\u001b[1;32m    861\u001b[0m             \u001b[0mself\u001b[0m\u001b[0;34m.\u001b[0m\u001b[0m_parent_ident\u001b[0m\u001b[0;34m,\u001b[0m\u001b[0;34m\u001b[0m\u001b[0;34m\u001b[0m\u001b[0m\n\u001b[1;32m    862\u001b[0m             \u001b[0mself\u001b[0m\u001b[0;34m.\u001b[0m\u001b[0m_parent_header\u001b[0m\u001b[0;34m,\u001b[0m\u001b[0;34m\u001b[0m\u001b[0;34m\u001b[0m\u001b[0m\n\u001b[0;32m--> 863\u001b[0;31m             \u001b[0mpassword\u001b[0m\u001b[0;34m=\u001b[0m\u001b[0;32mFalse\u001b[0m\u001b[0;34m,\u001b[0m\u001b[0;34m\u001b[0m\u001b[0;34m\u001b[0m\u001b[0m\n\u001b[0m\u001b[1;32m    864\u001b[0m         )\n\u001b[1;32m    865\u001b[0m \u001b[0;34m\u001b[0m\u001b[0m\n",
            "\u001b[0;32m/usr/local/lib/python3.7/dist-packages/ipykernel/kernelbase.py\u001b[0m in \u001b[0;36m_input_request\u001b[0;34m(self, prompt, ident, parent, password)\u001b[0m\n\u001b[1;32m    902\u001b[0m             \u001b[0;32mexcept\u001b[0m \u001b[0mKeyboardInterrupt\u001b[0m\u001b[0;34m:\u001b[0m\u001b[0;34m\u001b[0m\u001b[0;34m\u001b[0m\u001b[0m\n\u001b[1;32m    903\u001b[0m                 \u001b[0;31m# re-raise KeyboardInterrupt, to truncate traceback\u001b[0m\u001b[0;34m\u001b[0m\u001b[0;34m\u001b[0m\u001b[0;34m\u001b[0m\u001b[0m\n\u001b[0;32m--> 904\u001b[0;31m                 \u001b[0;32mraise\u001b[0m \u001b[0mKeyboardInterrupt\u001b[0m\u001b[0;34m(\u001b[0m\u001b[0;34m\"Interrupted by user\"\u001b[0m\u001b[0;34m)\u001b[0m \u001b[0;32mfrom\u001b[0m \u001b[0;32mNone\u001b[0m\u001b[0;34m\u001b[0m\u001b[0;34m\u001b[0m\u001b[0m\n\u001b[0m\u001b[1;32m    905\u001b[0m             \u001b[0;32mexcept\u001b[0m \u001b[0mException\u001b[0m \u001b[0;32mas\u001b[0m \u001b[0me\u001b[0m\u001b[0;34m:\u001b[0m\u001b[0;34m\u001b[0m\u001b[0;34m\u001b[0m\u001b[0m\n\u001b[1;32m    906\u001b[0m                 \u001b[0mself\u001b[0m\u001b[0;34m.\u001b[0m\u001b[0mlog\u001b[0m\u001b[0;34m.\u001b[0m\u001b[0mwarning\u001b[0m\u001b[0;34m(\u001b[0m\u001b[0;34m\"Invalid Message:\"\u001b[0m\u001b[0;34m,\u001b[0m \u001b[0mexc_info\u001b[0m\u001b[0;34m=\u001b[0m\u001b[0;32mTrue\u001b[0m\u001b[0;34m)\u001b[0m\u001b[0;34m\u001b[0m\u001b[0;34m\u001b[0m\u001b[0m\n",
            "\u001b[0;31mKeyboardInterrupt\u001b[0m: Interrupted by user"
          ]
        }
      ]
    },
    {
      "cell_type": "code",
      "source": [],
      "metadata": {
        "id": "UYHUTQYL4ugu"
      },
      "execution_count": null,
      "outputs": []
    },
    {
      "cell_type": "markdown",
      "source": [
        "##Sets"
      ],
      "metadata": {
        "id": "WT7usQTp5L-A"
      }
    },
    {
      "cell_type": "code",
      "source": [
        "#In sets we will not see repeated values!\n",
        "SP_license_plates = {\"9834GWS\",\"9834GWS\", \"9834GWS\", \"2184HBW\" }"
      ],
      "metadata": {
        "id": "UrFWbA4S5N8I"
      },
      "execution_count": 142,
      "outputs": []
    },
    {
      "cell_type": "code",
      "source": [
        "SP_license_plates"
      ],
      "metadata": {
        "colab": {
          "base_uri": "https://localhost:8080/"
        },
        "id": "8EzqLv0K6gYD",
        "outputId": "a8b54896-7b89-4ff2-ab41-06fa8e75e3d3"
      },
      "execution_count": 143,
      "outputs": [
        {
          "output_type": "execute_result",
          "data": {
            "text/plain": [
              "{'2184HBW', '9834GWS'}"
            ]
          },
          "metadata": {},
          "execution_count": 143
        }
      ]
    },
    {
      "cell_type": "code",
      "source": [
        "SW_license_plates=(\"SMV928\", \"MKS839\")"
      ],
      "metadata": {
        "id": "InQiJe-16hyh"
      },
      "execution_count": 144,
      "outputs": []
    },
    {
      "cell_type": "code",
      "source": [
        "SW_license_plates"
      ],
      "metadata": {
        "colab": {
          "base_uri": "https://localhost:8080/"
        },
        "id": "YorKalV86qib",
        "outputId": "45fd7fbb-8c9f-4d1c-e659-59e28119bff4"
      },
      "execution_count": 145,
      "outputs": [
        {
          "output_type": "execute_result",
          "data": {
            "text/plain": [
              "('SMV928', 'MKS839')"
            ]
          },
          "metadata": {},
          "execution_count": 145
        }
      ]
    },
    {
      "cell_type": "code",
      "source": [
        "#similar to SQL, we can join both sets in one new\n",
        "greek_border_control = SP_license_plates.union(SW_license_plates)"
      ],
      "metadata": {
        "id": "nlf7xN39730n"
      },
      "execution_count": 148,
      "outputs": []
    },
    {
      "cell_type": "code",
      "source": [
        "greek_border_control"
      ],
      "metadata": {
        "colab": {
          "base_uri": "https://localhost:8080/"
        },
        "id": "Lj3eOqLz8OEG",
        "outputId": "39f575fd-ceb3-47b7-893b-3780a7e57cf8"
      },
      "execution_count": 147,
      "outputs": [
        {
          "output_type": "execute_result",
          "data": {
            "text/plain": [
              "{'2184HBW', '9834GWS', 'MKS839', 'SMV928'}"
            ]
          },
          "metadata": {},
          "execution_count": 147
        }
      ]
    },
    {
      "cell_type": "code",
      "source": [],
      "metadata": {
        "id": "eGG9se7f8QGf"
      },
      "execution_count": null,
      "outputs": []
    },
    {
      "cell_type": "markdown",
      "source": [
        "##Homework"
      ],
      "metadata": {
        "id": "NwxXmTRy8urq"
      }
    },
    {
      "cell_type": "code",
      "source": [
        "# Create a dictionary with 3 emergency contacts in your phone agenda"
      ],
      "metadata": {
        "id": "TbfmB2mt8tZw"
      },
      "execution_count": 149,
      "outputs": []
    },
    {
      "cell_type": "code",
      "source": [
        "# Remove the second one"
      ],
      "metadata": {
        "id": "uGfG5omm8tcu"
      },
      "execution_count": null,
      "outputs": []
    },
    {
      "cell_type": "code",
      "source": [
        "# Add another contacts"
      ],
      "metadata": {
        "id": "-J4eatIa8656"
      },
      "execution_count": null,
      "outputs": []
    },
    {
      "cell_type": "code",
      "source": [
        "# Tell me with a method, what is the length of your dictionary"
      ],
      "metadata": {
        "id": "L3GPKCKQ9YuV"
      },
      "execution_count": 150,
      "outputs": []
    },
    {
      "cell_type": "code",
      "source": [
        "# Create two sets with guest lists coming to a party\n",
        "\n",
        "\n",
        "\n",
        "#Join the two lists in one titled projectx"
      ],
      "metadata": {
        "id": "z3LYstvO9czf"
      },
      "execution_count": 151,
      "outputs": []
    },
    {
      "cell_type": "code",
      "source": [],
      "metadata": {
        "id": "LCS-JQiyBcPp"
      },
      "execution_count": null,
      "outputs": []
    }
  ]
}