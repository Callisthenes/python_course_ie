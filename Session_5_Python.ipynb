{
  "nbformat": 4,
  "nbformat_minor": 0,
  "metadata": {
    "colab": {
      "provenance": [],
      "collapsed_sections": [],
      "authorship_tag": "ABX9TyOxD+b8iYC9wpd0SjVLrXjJ",
      "include_colab_link": true
    },
    "kernelspec": {
      "name": "python3",
      "display_name": "Python 3"
    },
    "language_info": {
      "name": "python"
    }
  },
  "cells": [
    {
      "cell_type": "markdown",
      "metadata": {
        "id": "view-in-github",
        "colab_type": "text"
      },
      "source": [
        "<a href=\"https://colab.research.google.com/github/Callisthenes/python_course_ie/blob/main/Session_5_Python.ipynb\" target=\"_parent\"><img src=\"https://colab.research.google.com/assets/colab-badge.svg\" alt=\"Open In Colab\"/></a>"
      ]
    },
    {
      "cell_type": "markdown",
      "source": [
        "# Python libraries for data science"
      ],
      "metadata": {
        "id": "Hdrd9WfDAlUV"
      }
    },
    {
      "cell_type": "markdown",
      "source": [
        "\n",
        "# An introduction to numpy\n",
        "\n",
        "\n"
      ],
      "metadata": {
        "id": "ZLwObVxFlFr8"
      }
    },
    {
      "cell_type": "code",
      "source": [
        "#if we cannot import, we need to install\n",
        "#to install packets we use pip install xxxxx\n",
        "\n",
        "\n",
        "#!pip install numpy\n"
      ],
      "metadata": {
        "id": "1qM4Ts5hAdxV"
      },
      "execution_count": null,
      "outputs": []
    },
    {
      "cell_type": "code",
      "source": [
        "import numpy as np"
      ],
      "metadata": {
        "id": "F7DCWrTWuE4X"
      },
      "execution_count": 1,
      "outputs": []
    },
    {
      "cell_type": "markdown",
      "source": [
        "## How to create numpy arrays\n",
        "\n",
        "### Option 1. From a python list\n"
      ],
      "metadata": {
        "id": "kyesWvodAd_5"
      }
    },
    {
      "cell_type": "code",
      "source": [
        "fibonacci_sequence = [0, 1, 1, 2, 3, 5, 8, 13, 21, 34, 55, 89, 144, 233, 377, 610, 987, 1597, 2584, 4181, 6765, 10946, 17711, 28657, 46368, 75025, 121393, 196418, 317811]\n"
      ],
      "metadata": {
        "id": "IdlBqHYSB1GZ"
      },
      "execution_count": 2,
      "outputs": []
    },
    {
      "cell_type": "code",
      "source": [
        "fibonacci_sequence"
      ],
      "metadata": {
        "colab": {
          "base_uri": "https://localhost:8080/"
        },
        "id": "Fyz6LyOJCDrR",
        "outputId": "625d4857-a690-49c3-b4c6-2651ca4ec41e"
      },
      "execution_count": 4,
      "outputs": [
        {
          "output_type": "execute_result",
          "data": {
            "text/plain": [
              "[0,\n",
              " 1,\n",
              " 1,\n",
              " 2,\n",
              " 3,\n",
              " 5,\n",
              " 8,\n",
              " 13,\n",
              " 21,\n",
              " 34,\n",
              " 55,\n",
              " 89,\n",
              " 144,\n",
              " 233,\n",
              " 377,\n",
              " 610,\n",
              " 987,\n",
              " 1597,\n",
              " 2584,\n",
              " 4181,\n",
              " 6765,\n",
              " 10946,\n",
              " 17711,\n",
              " 28657,\n",
              " 46368,\n",
              " 75025,\n",
              " 121393,\n",
              " 196418,\n",
              " 317811]"
            ]
          },
          "metadata": {},
          "execution_count": 4
        }
      ]
    },
    {
      "cell_type": "code",
      "source": [
        "type(fibonacci_sequence)"
      ],
      "metadata": {
        "colab": {
          "base_uri": "https://localhost:8080/"
        },
        "id": "v4-hrlypCiQy",
        "outputId": "dfa27f9b-bcba-4137-b29a-f55508d7dd57"
      },
      "execution_count": 6,
      "outputs": [
        {
          "output_type": "execute_result",
          "data": {
            "text/plain": [
              "list"
            ]
          },
          "metadata": {},
          "execution_count": 6
        }
      ]
    },
    {
      "cell_type": "code",
      "source": [
        "np_fibonacci = np.array(fibonacci_sequence)"
      ],
      "metadata": {
        "id": "pxb__J7XB5M1"
      },
      "execution_count": 3,
      "outputs": []
    },
    {
      "cell_type": "code",
      "source": [
        "np_fibonacci"
      ],
      "metadata": {
        "colab": {
          "base_uri": "https://localhost:8080/"
        },
        "id": "Wa6jgQCUCBXW",
        "outputId": "1cd7aed7-da8c-4bad-dbac-9b29bf51c593"
      },
      "execution_count": 5,
      "outputs": [
        {
          "output_type": "execute_result",
          "data": {
            "text/plain": [
              "array([     0,      1,      1,      2,      3,      5,      8,     13,\n",
              "           21,     34,     55,     89,    144,    233,    377,    610,\n",
              "          987,   1597,   2584,   4181,   6765,  10946,  17711,  28657,\n",
              "        46368,  75025, 121393, 196418, 317811])"
            ]
          },
          "metadata": {},
          "execution_count": 5
        }
      ]
    },
    {
      "cell_type": "code",
      "source": [
        "type (np_fibonacci)"
      ],
      "metadata": {
        "colab": {
          "base_uri": "https://localhost:8080/"
        },
        "id": "sb_qno71Cy6B",
        "outputId": "e06973d9-1baa-4b10-f078-a229335ebf8f"
      },
      "execution_count": 7,
      "outputs": [
        {
          "output_type": "execute_result",
          "data": {
            "text/plain": [
              "numpy.ndarray"
            ]
          },
          "metadata": {},
          "execution_count": 7
        }
      ]
    },
    {
      "cell_type": "markdown",
      "source": [
        "As we can see both arrays look quite similar, we just imported a python list with the module function np (numpy alias is np) and then its function called array"
      ],
      "metadata": {
        "id": "_5h3JFwMCJTa"
      }
    },
    {
      "cell_type": "markdown",
      "source": [
        "Only way to differentiate one from the other is we get an array string next to the output of the numpy array"
      ],
      "metadata": {
        "id": "P4MyPR5aCcth"
      }
    },
    {
      "cell_type": "markdown",
      "source": [
        "### Option 2. Using a method embedded in numpy's module\n"
      ],
      "metadata": {
        "id": "cVIdCzrgDIwB"
      }
    },
    {
      "cell_type": "code",
      "source": [
        "numpy_100 = np.arange(100)\n",
        "numpy_100"
      ],
      "metadata": {
        "colab": {
          "base_uri": "https://localhost:8080/"
        },
        "id": "CZ4P6NidCHwW",
        "outputId": "33bc09a0-9778-47fd-9e84-c6c5f0479a24"
      },
      "execution_count": 8,
      "outputs": [
        {
          "output_type": "execute_result",
          "data": {
            "text/plain": [
              "array([ 0,  1,  2,  3,  4,  5,  6,  7,  8,  9, 10, 11, 12, 13, 14, 15, 16,\n",
              "       17, 18, 19, 20, 21, 22, 23, 24, 25, 26, 27, 28, 29, 30, 31, 32, 33,\n",
              "       34, 35, 36, 37, 38, 39, 40, 41, 42, 43, 44, 45, 46, 47, 48, 49, 50,\n",
              "       51, 52, 53, 54, 55, 56, 57, 58, 59, 60, 61, 62, 63, 64, 65, 66, 67,\n",
              "       68, 69, 70, 71, 72, 73, 74, 75, 76, 77, 78, 79, 80, 81, 82, 83, 84,\n",
              "       85, 86, 87, 88, 89, 90, 91, 92, 93, 94, 95, 96, 97, 98, 99])"
            ]
          },
          "metadata": {},
          "execution_count": 8
        }
      ]
    },
    {
      "cell_type": "markdown",
      "source": [
        "Very similar to the range function we saw in python's native functions. We can also specify the jump and the start and finish with a slightly different syntax"
      ],
      "metadata": {
        "id": "YfAmkJiQDkJF"
      }
    },
    {
      "cell_type": "code",
      "source": [
        "numpy_100_pairs = np.arange(0,100,2)\n",
        "numpy_100_pairs"
      ],
      "metadata": {
        "colab": {
          "base_uri": "https://localhost:8080/"
        },
        "id": "t-AjZ6Y2DhzT",
        "outputId": "3fcb7d65-1092-463d-9549-144200249c21"
      },
      "execution_count": 10,
      "outputs": [
        {
          "output_type": "execute_result",
          "data": {
            "text/plain": [
              "array([ 0,  2,  4,  6,  8, 10, 12, 14, 16, 18, 20, 22, 24, 26, 28, 30, 32,\n",
              "       34, 36, 38, 40, 42, 44, 46, 48, 50, 52, 54, 56, 58, 60, 62, 64, 66,\n",
              "       68, 70, 72, 74, 76, 78, 80, 82, 84, 86, 88, 90, 92, 94, 96, 98])"
            ]
          },
          "metadata": {},
          "execution_count": 10
        }
      ]
    },
    {
      "cell_type": "code",
      "source": [
        "numpy_0= np.zeros(5)\n",
        "numpy_0"
      ],
      "metadata": {
        "colab": {
          "base_uri": "https://localhost:8080/"
        },
        "id": "74aL5zBbD2W_",
        "outputId": "143aea5d-9974-4084-e841-1dd00a6cd6c8"
      },
      "execution_count": 12,
      "outputs": [
        {
          "output_type": "execute_result",
          "data": {
            "text/plain": [
              "array([0., 0., 0., 0., 0.])"
            ]
          },
          "metadata": {},
          "execution_count": 12
        }
      ]
    },
    {
      "cell_type": "markdown",
      "source": [
        "### Option 3. Manually"
      ],
      "metadata": {
        "id": "U8NxbjnLEWzF"
      }
    },
    {
      "cell_type": "code",
      "source": [
        "#just use np.array and then, remember you are calling a module's function so after the parenthesis use [ ]\n",
        "my_array = np.array([6,2,43,1,2,43,6,7,45,23])\n",
        "my_array"
      ],
      "metadata": {
        "colab": {
          "base_uri": "https://localhost:8080/"
        },
        "id": "eCHksqDfEDTB",
        "outputId": "34591b0a-a1bf-4e66-c09f-aad3b6da81a0"
      },
      "execution_count": 22,
      "outputs": [
        {
          "output_type": "execute_result",
          "data": {
            "text/plain": [
              "array([ 6,  2, 43,  1,  2, 43,  6,  7, 45, 23])"
            ]
          },
          "metadata": {},
          "execution_count": 22
        }
      ]
    },
    {
      "cell_type": "markdown",
      "source": [
        "# Dimensionality in numpy arrays\n",
        "\n",
        "So far we are only creating numpy arrays of one dimension or rank 1"
      ],
      "metadata": {
        "id": "BEIUXa4JI5Ww"
      }
    },
    {
      "cell_type": "code",
      "source": [
        "#Let's take last array and convert it to two dimensions"
      ],
      "metadata": {
        "id": "btaMUKhbKgiM"
      },
      "execution_count": 55,
      "outputs": []
    },
    {
      "cell_type": "code",
      "source": [
        "a = my_array.reshape(2,5)"
      ],
      "metadata": {
        "id": "QjKByyMJKgln"
      },
      "execution_count": 61,
      "outputs": []
    },
    {
      "cell_type": "markdown",
      "source": [
        "We want two rows and 5 columns in this new dispossition"
      ],
      "metadata": {
        "id": "6vu-evKoLJFY"
      }
    },
    {
      "cell_type": "code",
      "source": [
        "a"
      ],
      "metadata": {
        "colab": {
          "base_uri": "https://localhost:8080/"
        },
        "id": "5NmvKdbkKgrH",
        "outputId": "a4bb45eb-5535-4333-fcd1-9229c82c3e90"
      },
      "execution_count": 63,
      "outputs": [
        {
          "output_type": "execute_result",
          "data": {
            "text/plain": [
              "array([[ 6,  2, 43,  1,  2],\n",
              "       [43,  6,  7, 45, 23]])"
            ]
          },
          "metadata": {},
          "execution_count": 63
        }
      ]
    },
    {
      "cell_type": "code",
      "source": [
        "print(a.ndim)\n",
        "#number of dimensions"
      ],
      "metadata": {
        "colab": {
          "base_uri": "https://localhost:8080/"
        },
        "id": "EVldk4yxPJvB",
        "outputId": "f9d72833-7501-4038-a32b-97ad1e565149"
      },
      "execution_count": 85,
      "outputs": [
        {
          "output_type": "stream",
          "name": "stdout",
          "text": [
            "2\n"
          ]
        }
      ]
    },
    {
      "cell_type": "code",
      "source": [
        "#what if you want to select an element by index?\n",
        "a[1,3]"
      ],
      "metadata": {
        "colab": {
          "base_uri": "https://localhost:8080/"
        },
        "id": "dQ7xes9CMjXk",
        "outputId": "59859bc8-11dd-4701-c7e4-03bad88f608f"
      },
      "execution_count": 73,
      "outputs": [
        {
          "output_type": "execute_result",
          "data": {
            "text/plain": [
              "45"
            ]
          },
          "metadata": {},
          "execution_count": 73
        }
      ]
    },
    {
      "cell_type": "markdown",
      "source": [
        "Remember python starts counting at 0, we have selected row 2 element 4\n",
        "If we try to do the reshape with a non multiple vairant we will get a Value error so watch out!"
      ],
      "metadata": {
        "id": "TqmQsqWoMrUc"
      }
    },
    {
      "cell_type": "code",
      "source": [
        "b = my_array.reshape(3,3)"
      ],
      "metadata": {
        "colab": {
          "base_uri": "https://localhost:8080/",
          "height": 168
        },
        "id": "Te4VMp0FKgt3",
        "outputId": "087fcca4-b361-41be-dad5-df6e52c750d5"
      },
      "execution_count": 72,
      "outputs": [
        {
          "output_type": "error",
          "ename": "ValueError",
          "evalue": "ignored",
          "traceback": [
            "\u001b[0;31m---------------------------------------------------------------------------\u001b[0m",
            "\u001b[0;31mValueError\u001b[0m                                Traceback (most recent call last)",
            "\u001b[0;32m<ipython-input-72-ad81375cfa6f>\u001b[0m in \u001b[0;36m<module>\u001b[0;34m\u001b[0m\n\u001b[0;32m----> 1\u001b[0;31m \u001b[0mb\u001b[0m \u001b[0;34m=\u001b[0m \u001b[0mmy_array\u001b[0m\u001b[0;34m.\u001b[0m\u001b[0mreshape\u001b[0m\u001b[0;34m(\u001b[0m\u001b[0;36m3\u001b[0m\u001b[0;34m,\u001b[0m\u001b[0;36m3\u001b[0m\u001b[0;34m)\u001b[0m\u001b[0;34m\u001b[0m\u001b[0;34m\u001b[0m\u001b[0m\n\u001b[0m",
            "\u001b[0;31mValueError\u001b[0m: cannot reshape array of size 10 into shape (3,3)"
          ]
        }
      ]
    },
    {
      "cell_type": "code",
      "source": [
        "#we cannot make an array because it is not multiple of 3"
      ],
      "metadata": {
        "id": "huU9msd-LS5w"
      },
      "execution_count": null,
      "outputs": []
    },
    {
      "cell_type": "code",
      "source": [
        "array_c = np.array([1,2,3,4,2,1,2,343,4,3,12,2])"
      ],
      "metadata": {
        "id": "cAhgcetSLokY"
      },
      "execution_count": 65,
      "outputs": []
    },
    {
      "cell_type": "code",
      "source": [
        "c = array_c.reshape(3,4,1)\n",
        "c"
      ],
      "metadata": {
        "colab": {
          "base_uri": "https://localhost:8080/"
        },
        "id": "B6sDmtcNLonV",
        "outputId": "40d84ed3-6ec2-4bb4-f913-b70c4058d01d"
      },
      "execution_count": 78,
      "outputs": [
        {
          "output_type": "execute_result",
          "data": {
            "text/plain": [
              "array([[[  1],\n",
              "        [  2],\n",
              "        [  3],\n",
              "        [  4]],\n",
              "\n",
              "       [[  2],\n",
              "        [  1],\n",
              "        [  2],\n",
              "        [343]],\n",
              "\n",
              "       [[  4],\n",
              "        [  3],\n",
              "        [ 12],\n",
              "        [  2]]])"
            ]
          },
          "metadata": {},
          "execution_count": 78
        }
      ]
    },
    {
      "cell_type": "code",
      "source": [
        "#These commands will give us the size, shape and dimensions of the array \n",
        "print(c.size)\n",
        "#the length of the array, number of elements"
      ],
      "metadata": {
        "colab": {
          "base_uri": "https://localhost:8080/"
        },
        "id": "FjJ_z_SUJV2c",
        "outputId": "847137ae-79eb-4a31-e523-a832175e6cf1"
      },
      "execution_count": 82,
      "outputs": [
        {
          "output_type": "stream",
          "name": "stdout",
          "text": [
            "12\n"
          ]
        }
      ]
    },
    {
      "cell_type": "code",
      "source": [
        "print(c.shape) \n",
        "#matches the reshape command we just did"
      ],
      "metadata": {
        "colab": {
          "base_uri": "https://localhost:8080/"
        },
        "id": "QL8Iwa4rJku8",
        "outputId": "2ac7390c-fb77-4fa3-8753-8587d4d18e3c"
      },
      "execution_count": 80,
      "outputs": [
        {
          "output_type": "stream",
          "name": "stdout",
          "text": [
            "(3, 4, 1)\n"
          ]
        }
      ]
    },
    {
      "cell_type": "code",
      "source": [
        "print(c.ndim)\n",
        "#number of dimensions"
      ],
      "metadata": {
        "colab": {
          "base_uri": "https://localhost:8080/"
        },
        "id": "U4_6hKWHJrQe",
        "outputId": "088a86e7-c193-414d-b90c-b818d5d3e5bf"
      },
      "execution_count": 83,
      "outputs": [
        {
          "output_type": "stream",
          "name": "stdout",
          "text": [
            "3\n"
          ]
        }
      ]
    },
    {
      "cell_type": "code",
      "source": [],
      "metadata": {
        "id": "f_0Lr6_-LoqN"
      },
      "execution_count": null,
      "outputs": []
    },
    {
      "cell_type": "code",
      "source": [
        "d = [[0,1,2,3],[4,5,6],[7,8,9]]"
      ],
      "metadata": {
        "id": "oQ2M97BII4fY"
      },
      "execution_count": 47,
      "outputs": []
    },
    {
      "cell_type": "code",
      "source": [
        "d = np.array(c)"
      ],
      "metadata": {
        "colab": {
          "base_uri": "https://localhost:8080/"
        },
        "id": "LHlZYJcmI46C",
        "outputId": "54abfaf3-1e8c-416a-94be-28d895239fbe"
      },
      "execution_count": 49,
      "outputs": [
        {
          "output_type": "stream",
          "name": "stderr",
          "text": [
            "/usr/local/lib/python3.7/dist-packages/ipykernel_launcher.py:1: VisibleDeprecationWarning: Creating an ndarray from ragged nested sequences (which is a list-or-tuple of lists-or-tuples-or ndarrays with different lengths or shapes) is deprecated. If you meant to do this, you must specify 'dtype=object' when creating the ndarray.\n",
            "  \"\"\"Entry point for launching an IPython kernel.\n"
          ]
        }
      ]
    },
    {
      "cell_type": "markdown",
      "source": [
        "## Arithmetical operations"
      ],
      "metadata": {
        "id": "wxOJc3cxFHVD"
      }
    },
    {
      "cell_type": "code",
      "source": [
        "my_array_plus_one = my_array + 1"
      ],
      "metadata": {
        "id": "mv1DQiFtFzEo"
      },
      "execution_count": 32,
      "outputs": []
    },
    {
      "cell_type": "code",
      "source": [
        "my_array_plus_one"
      ],
      "metadata": {
        "colab": {
          "base_uri": "https://localhost:8080/"
        },
        "id": "u3M5kceDEVoO",
        "outputId": "f2397760-613b-480b-eae6-e5d244a580e4"
      },
      "execution_count": 34,
      "outputs": [
        {
          "output_type": "execute_result",
          "data": {
            "text/plain": [
              "array([ 7,  3, 44,  2,  3, 44,  7,  8, 46, 24])"
            ]
          },
          "metadata": {},
          "execution_count": 34
        }
      ]
    },
    {
      "cell_type": "code",
      "source": [
        "my_array_times_five = my_array * 5"
      ],
      "metadata": {
        "id": "GrXJSI_cEnrI"
      },
      "execution_count": 35,
      "outputs": []
    },
    {
      "cell_type": "code",
      "source": [
        "my_array_times_five"
      ],
      "metadata": {
        "colab": {
          "base_uri": "https://localhost:8080/"
        },
        "id": "bgDwLGw2GqIu",
        "outputId": "bc6194bd-dfda-4489-9062-4ec7d4831fe8"
      },
      "execution_count": 36,
      "outputs": [
        {
          "output_type": "execute_result",
          "data": {
            "text/plain": [
              "array([ 30,  10, 215,   5,  10, 215,  30,  35, 225, 115])"
            ]
          },
          "metadata": {},
          "execution_count": 36
        }
      ]
    },
    {
      "cell_type": "code",
      "source": [],
      "metadata": {
        "id": "Le3lrJ-8GrEn"
      },
      "execution_count": null,
      "outputs": []
    },
    {
      "cell_type": "markdown",
      "source": [
        "# Statistical operations"
      ],
      "metadata": {
        "id": "_4Dxj6U_G7nN"
      }
    },
    {
      "cell_type": "markdown",
      "source": [
        "Let's take the fiubonacci sequence created before and find how much are all values inside"
      ],
      "metadata": {
        "id": "PPTyirVYHC_0"
      }
    },
    {
      "cell_type": "code",
      "source": [
        "np_fibonacci.sum()\n",
        "#sum of elements"
      ],
      "metadata": {
        "colab": {
          "base_uri": "https://localhost:8080/"
        },
        "id": "dipyDcqEGzcx",
        "outputId": "fb98c5a2-81c5-4aab-b90c-bc4b3e32357a"
      },
      "execution_count": 86,
      "outputs": [
        {
          "output_type": "execute_result",
          "data": {
            "text/plain": [
              "832039"
            ]
          },
          "metadata": {},
          "execution_count": 86
        }
      ]
    },
    {
      "cell_type": "code",
      "source": [
        "np_fibonacci.mean()\n",
        "#average of elements"
      ],
      "metadata": {
        "colab": {
          "base_uri": "https://localhost:8080/"
        },
        "id": "IU9xqhzsG6Et",
        "outputId": "c6752698-f4e3-4c3a-be4a-9854fa7bd47d"
      },
      "execution_count": 38,
      "outputs": [
        {
          "output_type": "execute_result",
          "data": {
            "text/plain": [
              "28691.0"
            ]
          },
          "metadata": {},
          "execution_count": 38
        }
      ]
    },
    {
      "cell_type": "code",
      "source": [
        "var_fibonacci = np_fibonacci.var()\n",
        "var_fibonacci"
      ],
      "metadata": {
        "colab": {
          "base_uri": "https://localhost:8080/"
        },
        "id": "hZdRexz-HKyC",
        "outputId": "2bdbcbbf-c200-410b-c561-fa4b7407cc9c"
      },
      "execution_count": 40,
      "outputs": [
        {
          "output_type": "execute_result",
          "data": {
            "text/plain": [
              "4812262130.0"
            ]
          },
          "metadata": {},
          "execution_count": 40
        }
      ]
    },
    {
      "cell_type": "code",
      "source": [
        "np_fibonacci.var()\n",
        "#gives variance"
      ],
      "metadata": {
        "colab": {
          "base_uri": "https://localhost:8080/"
        },
        "id": "s6rq0yxcHMS-",
        "outputId": "a41adae8-d7fd-494d-b9e5-173e7a41dc7e"
      },
      "execution_count": 41,
      "outputs": [
        {
          "output_type": "execute_result",
          "data": {
            "text/plain": [
              "4812262130.0"
            ]
          },
          "metadata": {},
          "execution_count": 41
        }
      ]
    },
    {
      "cell_type": "code",
      "source": [
        "np.sort(my_array)\n",
        "#ascend order"
      ],
      "metadata": {
        "colab": {
          "base_uri": "https://localhost:8080/"
        },
        "id": "dK3JfQbrHWPz",
        "outputId": "a2828746-9380-4c02-fcf8-f9afa3bcc3b6"
      },
      "execution_count": 42,
      "outputs": [
        {
          "output_type": "execute_result",
          "data": {
            "text/plain": [
              "array([ 1,  2,  2,  6,  6,  7, 23, 43, 43, 45])"
            ]
          },
          "metadata": {},
          "execution_count": 42
        }
      ]
    },
    {
      "cell_type": "code",
      "source": [
        "-np.sort (-my_array)\n",
        "#reverse order"
      ],
      "metadata": {
        "colab": {
          "base_uri": "https://localhost:8080/"
        },
        "id": "fd1ciDl_HiF3",
        "outputId": "f5a174ed-48d6-4c4b-9aa6-f07cd955b327"
      },
      "execution_count": 46,
      "outputs": [
        {
          "output_type": "execute_result",
          "data": {
            "text/plain": [
              "array([45, 43, 43, 23,  7,  6,  6,  2,  2,  1])"
            ]
          },
          "metadata": {},
          "execution_count": 46
        }
      ]
    },
    {
      "cell_type": "code",
      "source": [],
      "metadata": {
        "id": "2rRioikQHr1Q"
      },
      "execution_count": null,
      "outputs": []
    },
    {
      "cell_type": "markdown",
      "source": [
        "# Making matrixes"
      ],
      "metadata": {
        "id": "fr7uLx54cPpS"
      }
    },
    {
      "cell_type": "code",
      "source": [
        "#numpy has some algebra structures already implemented, all you need to do is call a function\n",
        "identity_matrix = np.identity(5)\n",
        "identity_matrix"
      ],
      "metadata": {
        "colab": {
          "base_uri": "https://localhost:8080/"
        },
        "id": "8AmNxNVzcTB4",
        "outputId": "5807945f-15f4-48a2-aaeb-c586e65631aa"
      },
      "execution_count": 89,
      "outputs": [
        {
          "output_type": "execute_result",
          "data": {
            "text/plain": [
              "array([[1., 0., 0., 0., 0.],\n",
              "       [0., 1., 0., 0., 0.],\n",
              "       [0., 0., 1., 0., 0.],\n",
              "       [0., 0., 0., 1., 0.],\n",
              "       [0., 0., 0., 0., 1.]])"
            ]
          },
          "metadata": {},
          "execution_count": 89
        }
      ]
    },
    {
      "cell_type": "markdown",
      "source": [
        "# Loading data into numpy from a file"
      ],
      "metadata": {
        "id": "qsoYOtw9d2A3"
      }
    },
    {
      "cell_type": "markdown",
      "source": [
        "Import first data_samples in collab, in github repo! \n",
        "\n",
        "https://github.com/Callisthenes/python_course_ie"
      ],
      "metadata": {
        "id": "s3h4bcGcgTjB"
      }
    },
    {
      "cell_type": "code",
      "source": [
        "exercises = np.genfromtxt('data_sample.txt', delimiter=',')\n",
        "exercises"
      ],
      "metadata": {
        "colab": {
          "base_uri": "https://localhost:8080/"
        },
        "id": "pgQOcQzIcXcs",
        "outputId": "e46b1ff8-8084-4fe4-9b86-4b93576fc63a"
      },
      "execution_count": 100,
      "outputs": [
        {
          "output_type": "execute_result",
          "data": {
            "text/plain": [
              "array([[ 1.,  2.,  3.,  4.,  5.],\n",
              "       [ 6.,  7.,  8.,  9., 10.],\n",
              "       [11., 12., 13., 14., 15.],\n",
              "       [16., 17., 18., 19., 20.],\n",
              "       [21., 22., 23., 24., 25.]])"
            ]
          },
          "metadata": {},
          "execution_count": 100
        }
      ]
    },
    {
      "cell_type": "markdown",
      "source": [
        "Try to index some values!\n"
      ],
      "metadata": {
        "id": "lrAne2Erg2H4"
      }
    },
    {
      "cell_type": "code",
      "source": [
        "exercises[2:4, 0:2]"
      ],
      "metadata": {
        "colab": {
          "base_uri": "https://localhost:8080/"
        },
        "id": "e4PFK82QevR1",
        "outputId": "4e808204-15ee-436f-bba8-da5bf26b47f6"
      },
      "execution_count": 103,
      "outputs": [
        {
          "output_type": "execute_result",
          "data": {
            "text/plain": [
              "array([[11., 12.],\n",
              "       [16., 17.]])"
            ]
          },
          "metadata": {},
          "execution_count": 103
        }
      ]
    },
    {
      "cell_type": "code",
      "source": [],
      "metadata": {
        "id": "qGuuLnathKD8"
      },
      "execution_count": null,
      "outputs": []
    }
  ]
}